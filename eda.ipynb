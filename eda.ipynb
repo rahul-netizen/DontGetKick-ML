{
 "cells": [
  {
   "cell_type": "markdown",
   "metadata": {
    "id": "yiRm_pALLaNB"
   },
   "source": [
    "# **Don't Get Kicked!**\n",
    "\n",
    "![image.png](https://creditkarma-cms.imgix.net/wp-content/uploads/2019/08/how-to-buy-cars-auction_519515713.jpg?fm=webp)\n",
    "\n",
    "Hello, in this project we will be doing an EDA on [Don't Get Kicked!](https://www.kaggle.com/c/DontGetKicked/data) dataset from Kaggle, and then using applied machine learning models to predict or classify if a car purchased at auction is a lemon (not a good purchase, no puns intended).\n"
   ]
  },
  {
   "cell_type": "markdown",
   "metadata": {
    "id": "IvLNe3rRMMSd"
   },
   "source": [
    "### **Let's start by installing required libraries**"
   ]
  },
  {
   "cell_type": "code",
   "execution_count": 78,
   "metadata": {
    "id": "2GQfyjySLaNG"
   },
   "outputs": [],
   "source": [
    "!pip install  pandas numpy seaborn matplotlib plotly --quiet"
   ]
  },
  {
   "cell_type": "markdown",
   "metadata": {
    "id": "Q9OwkpnzNCpS"
   },
   "source": [
    "## **Loading the dataset**"
   ]
  },
  {
   "cell_type": "code",
   "execution_count": 79,
   "metadata": {
    "id": "WZF8iKusNmmy"
   },
   "outputs": [],
   "source": [
    "import pandas as pd\n",
    "import numpy as np\n",
    "\n",
    "train_df = pd.read_csv('./DontGetKicked/training.csv')\n",
    "test_df = pd.read_csv('./DontGetKicked/test.csv')\n",
    "submission_df = pd.read_csv('./DontGetKicked/example_entry.csv')"
   ]
  },
  {
   "cell_type": "code",
   "execution_count": 80,
   "metadata": {},
   "outputs": [
    {
     "name": "stdout",
     "output_type": "stream",
     "text": [
      "<class 'pandas.core.frame.DataFrame'>\n",
      "RangeIndex: 72983 entries, 0 to 72982\n",
      "Data columns (total 34 columns):\n",
      " #   Column                             Non-Null Count  Dtype  \n",
      "---  ------                             --------------  -----  \n",
      " 0   RefId                              72983 non-null  int64  \n",
      " 1   IsBadBuy                           72983 non-null  int64  \n",
      " 2   PurchDate                          72983 non-null  object \n",
      " 3   Auction                            72983 non-null  object \n",
      " 4   VehYear                            72983 non-null  int64  \n",
      " 5   VehicleAge                         72983 non-null  int64  \n",
      " 6   Make                               72983 non-null  object \n",
      " 7   Model                              72983 non-null  object \n",
      " 8   Trim                               70623 non-null  object \n",
      " 9   SubModel                           72975 non-null  object \n",
      " 10  Color                              72975 non-null  object \n",
      " 11  Transmission                       72974 non-null  object \n",
      " 12  WheelTypeID                        69814 non-null  float64\n",
      " 13  WheelType                          69809 non-null  object \n",
      " 14  VehOdo                             72983 non-null  int64  \n",
      " 15  Nationality                        72978 non-null  object \n",
      " 16  Size                               72978 non-null  object \n",
      " 17  TopThreeAmericanName               72978 non-null  object \n",
      " 18  MMRAcquisitionAuctionAveragePrice  72965 non-null  float64\n",
      " 19  MMRAcquisitionAuctionCleanPrice    72965 non-null  float64\n",
      " 20  MMRAcquisitionRetailAveragePrice   72965 non-null  float64\n",
      " 21  MMRAcquisitonRetailCleanPrice      72965 non-null  float64\n",
      " 22  MMRCurrentAuctionAveragePrice      72668 non-null  float64\n",
      " 23  MMRCurrentAuctionCleanPrice        72668 non-null  float64\n",
      " 24  MMRCurrentRetailAveragePrice       72668 non-null  float64\n",
      " 25  MMRCurrentRetailCleanPrice         72668 non-null  float64\n",
      " 26  PRIMEUNIT                          3419 non-null   object \n",
      " 27  AUCGUART                           3419 non-null   object \n",
      " 28  BYRNO                              72983 non-null  int64  \n",
      " 29  VNZIP1                             72983 non-null  int64  \n",
      " 30  VNST                               72983 non-null  object \n",
      " 31  VehBCost                           72983 non-null  float64\n",
      " 32  IsOnlineSale                       72983 non-null  int64  \n",
      " 33  WarrantyCost                       72983 non-null  int64  \n",
      "dtypes: float64(10), int64(9), object(15)\n",
      "memory usage: 18.9+ MB\n"
     ]
    }
   ],
   "source": [
    "train_df.info()"
   ]
  },
  {
   "cell_type": "code",
   "execution_count": 81,
   "metadata": {},
   "outputs": [
    {
     "data": {
      "text/plain": [
       "[nan, 'GREEN', 'RED']"
      ]
     },
     "execution_count": 81,
     "metadata": {},
     "output_type": "execute_result"
    }
   ],
   "source": [
    "list(train_df.AUCGUART.unique())\n"
   ]
  },
  {
   "cell_type": "code",
   "execution_count": 82,
   "metadata": {},
   "outputs": [
    {
     "data": {
      "text/html": [
       "<div>\n",
       "<style scoped>\n",
       "    .dataframe tbody tr th:only-of-type {\n",
       "        vertical-align: middle;\n",
       "    }\n",
       "\n",
       "    .dataframe tbody tr th {\n",
       "        vertical-align: top;\n",
       "    }\n",
       "\n",
       "    .dataframe thead th {\n",
       "        text-align: right;\n",
       "    }\n",
       "</style>\n",
       "<table border=\"1\" class=\"dataframe\">\n",
       "  <thead>\n",
       "    <tr style=\"text-align: right;\">\n",
       "      <th></th>\n",
       "      <th>RefId</th>\n",
       "      <th>IsBadBuy</th>\n",
       "      <th>VehYear</th>\n",
       "      <th>VehicleAge</th>\n",
       "      <th>WheelTypeID</th>\n",
       "      <th>VehOdo</th>\n",
       "      <th>MMRAcquisitionAuctionAveragePrice</th>\n",
       "      <th>MMRAcquisitionAuctionCleanPrice</th>\n",
       "      <th>MMRAcquisitionRetailAveragePrice</th>\n",
       "      <th>MMRAcquisitonRetailCleanPrice</th>\n",
       "      <th>MMRCurrentAuctionAveragePrice</th>\n",
       "      <th>MMRCurrentAuctionCleanPrice</th>\n",
       "      <th>MMRCurrentRetailAveragePrice</th>\n",
       "      <th>MMRCurrentRetailCleanPrice</th>\n",
       "      <th>BYRNO</th>\n",
       "      <th>VNZIP1</th>\n",
       "      <th>VehBCost</th>\n",
       "      <th>IsOnlineSale</th>\n",
       "      <th>WarrantyCost</th>\n",
       "    </tr>\n",
       "  </thead>\n",
       "  <tbody>\n",
       "    <tr>\n",
       "      <th>count</th>\n",
       "      <td>72983.000000</td>\n",
       "      <td>72983.000000</td>\n",
       "      <td>72983.000000</td>\n",
       "      <td>72983.000000</td>\n",
       "      <td>69814.000000</td>\n",
       "      <td>72983.000000</td>\n",
       "      <td>72965.000000</td>\n",
       "      <td>72965.000000</td>\n",
       "      <td>72965.000000</td>\n",
       "      <td>72965.000000</td>\n",
       "      <td>72668.000000</td>\n",
       "      <td>72668.000000</td>\n",
       "      <td>72668.000000</td>\n",
       "      <td>72668.000000</td>\n",
       "      <td>72983.000000</td>\n",
       "      <td>72983.000000</td>\n",
       "      <td>72983.000000</td>\n",
       "      <td>72983.000000</td>\n",
       "      <td>72983.000000</td>\n",
       "    </tr>\n",
       "    <tr>\n",
       "      <th>mean</th>\n",
       "      <td>36511.428497</td>\n",
       "      <td>0.122988</td>\n",
       "      <td>2005.343052</td>\n",
       "      <td>4.176644</td>\n",
       "      <td>1.494299</td>\n",
       "      <td>71499.995917</td>\n",
       "      <td>6128.909217</td>\n",
       "      <td>7373.636031</td>\n",
       "      <td>8497.034332</td>\n",
       "      <td>9850.928240</td>\n",
       "      <td>6132.081287</td>\n",
       "      <td>7390.681827</td>\n",
       "      <td>8775.723331</td>\n",
       "      <td>10145.385314</td>\n",
       "      <td>26345.842155</td>\n",
       "      <td>58043.059945</td>\n",
       "      <td>6730.934326</td>\n",
       "      <td>0.025280</td>\n",
       "      <td>1276.580985</td>\n",
       "    </tr>\n",
       "    <tr>\n",
       "      <th>std</th>\n",
       "      <td>21077.241302</td>\n",
       "      <td>0.328425</td>\n",
       "      <td>1.731252</td>\n",
       "      <td>1.712210</td>\n",
       "      <td>0.521290</td>\n",
       "      <td>14578.913128</td>\n",
       "      <td>2461.992768</td>\n",
       "      <td>2722.491986</td>\n",
       "      <td>3156.285284</td>\n",
       "      <td>3385.789541</td>\n",
       "      <td>2434.567723</td>\n",
       "      <td>2686.248852</td>\n",
       "      <td>3090.702941</td>\n",
       "      <td>3310.254351</td>\n",
       "      <td>25717.351219</td>\n",
       "      <td>26151.640415</td>\n",
       "      <td>1767.846435</td>\n",
       "      <td>0.156975</td>\n",
       "      <td>598.846788</td>\n",
       "    </tr>\n",
       "    <tr>\n",
       "      <th>min</th>\n",
       "      <td>1.000000</td>\n",
       "      <td>0.000000</td>\n",
       "      <td>2001.000000</td>\n",
       "      <td>0.000000</td>\n",
       "      <td>0.000000</td>\n",
       "      <td>4825.000000</td>\n",
       "      <td>0.000000</td>\n",
       "      <td>0.000000</td>\n",
       "      <td>0.000000</td>\n",
       "      <td>0.000000</td>\n",
       "      <td>0.000000</td>\n",
       "      <td>0.000000</td>\n",
       "      <td>0.000000</td>\n",
       "      <td>0.000000</td>\n",
       "      <td>835.000000</td>\n",
       "      <td>2764.000000</td>\n",
       "      <td>1.000000</td>\n",
       "      <td>0.000000</td>\n",
       "      <td>462.000000</td>\n",
       "    </tr>\n",
       "    <tr>\n",
       "      <th>25%</th>\n",
       "      <td>18257.500000</td>\n",
       "      <td>0.000000</td>\n",
       "      <td>2004.000000</td>\n",
       "      <td>3.000000</td>\n",
       "      <td>1.000000</td>\n",
       "      <td>61837.000000</td>\n",
       "      <td>4273.000000</td>\n",
       "      <td>5406.000000</td>\n",
       "      <td>6280.000000</td>\n",
       "      <td>7493.000000</td>\n",
       "      <td>4275.000000</td>\n",
       "      <td>5414.000000</td>\n",
       "      <td>6536.000000</td>\n",
       "      <td>7784.000000</td>\n",
       "      <td>17212.000000</td>\n",
       "      <td>32124.000000</td>\n",
       "      <td>5435.000000</td>\n",
       "      <td>0.000000</td>\n",
       "      <td>837.000000</td>\n",
       "    </tr>\n",
       "    <tr>\n",
       "      <th>50%</th>\n",
       "      <td>36514.000000</td>\n",
       "      <td>0.000000</td>\n",
       "      <td>2005.000000</td>\n",
       "      <td>4.000000</td>\n",
       "      <td>1.000000</td>\n",
       "      <td>73361.000000</td>\n",
       "      <td>6097.000000</td>\n",
       "      <td>7303.000000</td>\n",
       "      <td>8444.000000</td>\n",
       "      <td>9789.000000</td>\n",
       "      <td>6062.000000</td>\n",
       "      <td>7313.000000</td>\n",
       "      <td>8729.000000</td>\n",
       "      <td>10103.000000</td>\n",
       "      <td>19662.000000</td>\n",
       "      <td>73108.000000</td>\n",
       "      <td>6700.000000</td>\n",
       "      <td>0.000000</td>\n",
       "      <td>1155.000000</td>\n",
       "    </tr>\n",
       "    <tr>\n",
       "      <th>75%</th>\n",
       "      <td>54764.500000</td>\n",
       "      <td>0.000000</td>\n",
       "      <td>2007.000000</td>\n",
       "      <td>5.000000</td>\n",
       "      <td>2.000000</td>\n",
       "      <td>82436.000000</td>\n",
       "      <td>7765.000000</td>\n",
       "      <td>9021.000000</td>\n",
       "      <td>10651.000000</td>\n",
       "      <td>12088.000000</td>\n",
       "      <td>7736.000000</td>\n",
       "      <td>9013.000000</td>\n",
       "      <td>10911.000000</td>\n",
       "      <td>12309.000000</td>\n",
       "      <td>22808.000000</td>\n",
       "      <td>80022.000000</td>\n",
       "      <td>7900.000000</td>\n",
       "      <td>0.000000</td>\n",
       "      <td>1623.000000</td>\n",
       "    </tr>\n",
       "    <tr>\n",
       "      <th>max</th>\n",
       "      <td>73014.000000</td>\n",
       "      <td>1.000000</td>\n",
       "      <td>2010.000000</td>\n",
       "      <td>9.000000</td>\n",
       "      <td>3.000000</td>\n",
       "      <td>115717.000000</td>\n",
       "      <td>35722.000000</td>\n",
       "      <td>36859.000000</td>\n",
       "      <td>39080.000000</td>\n",
       "      <td>41482.000000</td>\n",
       "      <td>35722.000000</td>\n",
       "      <td>36859.000000</td>\n",
       "      <td>39080.000000</td>\n",
       "      <td>41062.000000</td>\n",
       "      <td>99761.000000</td>\n",
       "      <td>99224.000000</td>\n",
       "      <td>45469.000000</td>\n",
       "      <td>1.000000</td>\n",
       "      <td>7498.000000</td>\n",
       "    </tr>\n",
       "  </tbody>\n",
       "</table>\n",
       "</div>"
      ],
      "text/plain": [
       "              RefId      IsBadBuy       VehYear    VehicleAge   WheelTypeID  \\\n",
       "count  72983.000000  72983.000000  72983.000000  72983.000000  69814.000000   \n",
       "mean   36511.428497      0.122988   2005.343052      4.176644      1.494299   \n",
       "std    21077.241302      0.328425      1.731252      1.712210      0.521290   \n",
       "min        1.000000      0.000000   2001.000000      0.000000      0.000000   \n",
       "25%    18257.500000      0.000000   2004.000000      3.000000      1.000000   \n",
       "50%    36514.000000      0.000000   2005.000000      4.000000      1.000000   \n",
       "75%    54764.500000      0.000000   2007.000000      5.000000      2.000000   \n",
       "max    73014.000000      1.000000   2010.000000      9.000000      3.000000   \n",
       "\n",
       "              VehOdo  MMRAcquisitionAuctionAveragePrice  \\\n",
       "count   72983.000000                       72965.000000   \n",
       "mean    71499.995917                        6128.909217   \n",
       "std     14578.913128                        2461.992768   \n",
       "min      4825.000000                           0.000000   \n",
       "25%     61837.000000                        4273.000000   \n",
       "50%     73361.000000                        6097.000000   \n",
       "75%     82436.000000                        7765.000000   \n",
       "max    115717.000000                       35722.000000   \n",
       "\n",
       "       MMRAcquisitionAuctionCleanPrice  MMRAcquisitionRetailAveragePrice  \\\n",
       "count                     72965.000000                      72965.000000   \n",
       "mean                       7373.636031                       8497.034332   \n",
       "std                        2722.491986                       3156.285284   \n",
       "min                           0.000000                          0.000000   \n",
       "25%                        5406.000000                       6280.000000   \n",
       "50%                        7303.000000                       8444.000000   \n",
       "75%                        9021.000000                      10651.000000   \n",
       "max                       36859.000000                      39080.000000   \n",
       "\n",
       "       MMRAcquisitonRetailCleanPrice  MMRCurrentAuctionAveragePrice  \\\n",
       "count                   72965.000000                   72668.000000   \n",
       "mean                     9850.928240                    6132.081287   \n",
       "std                      3385.789541                    2434.567723   \n",
       "min                         0.000000                       0.000000   \n",
       "25%                      7493.000000                    4275.000000   \n",
       "50%                      9789.000000                    6062.000000   \n",
       "75%                     12088.000000                    7736.000000   \n",
       "max                     41482.000000                   35722.000000   \n",
       "\n",
       "       MMRCurrentAuctionCleanPrice  MMRCurrentRetailAveragePrice  \\\n",
       "count                 72668.000000                  72668.000000   \n",
       "mean                   7390.681827                   8775.723331   \n",
       "std                    2686.248852                   3090.702941   \n",
       "min                       0.000000                      0.000000   \n",
       "25%                    5414.000000                   6536.000000   \n",
       "50%                    7313.000000                   8729.000000   \n",
       "75%                    9013.000000                  10911.000000   \n",
       "max                   36859.000000                  39080.000000   \n",
       "\n",
       "       MMRCurrentRetailCleanPrice         BYRNO        VNZIP1      VehBCost  \\\n",
       "count                72668.000000  72983.000000  72983.000000  72983.000000   \n",
       "mean                 10145.385314  26345.842155  58043.059945   6730.934326   \n",
       "std                   3310.254351  25717.351219  26151.640415   1767.846435   \n",
       "min                      0.000000    835.000000   2764.000000      1.000000   \n",
       "25%                   7784.000000  17212.000000  32124.000000   5435.000000   \n",
       "50%                  10103.000000  19662.000000  73108.000000   6700.000000   \n",
       "75%                  12309.000000  22808.000000  80022.000000   7900.000000   \n",
       "max                  41062.000000  99761.000000  99224.000000  45469.000000   \n",
       "\n",
       "       IsOnlineSale  WarrantyCost  \n",
       "count  72983.000000  72983.000000  \n",
       "mean       0.025280   1276.580985  \n",
       "std        0.156975    598.846788  \n",
       "min        0.000000    462.000000  \n",
       "25%        0.000000    837.000000  \n",
       "50%        0.000000   1155.000000  \n",
       "75%        0.000000   1623.000000  \n",
       "max        1.000000   7498.000000  "
      ]
     },
     "execution_count": 82,
     "metadata": {},
     "output_type": "execute_result"
    }
   ],
   "source": [
    "train_df.describe()"
   ]
  },
  {
   "cell_type": "code",
   "execution_count": 83,
   "metadata": {
    "colab": {
     "base_uri": "https://localhost:8080/"
    },
    "executionInfo": {
     "elapsed": 40,
     "status": "ok",
     "timestamp": 1638373712565,
     "user": {
      "displayName": "Rahul Kumar",
      "photoUrl": "https://lh3.googleusercontent.com/a-/AOh14GjMLooCThM9vWBSGvwf32JMjtszpIkIztj3alUAhMs=s64",
      "userId": "03490918626299573549"
     },
     "user_tz": -330
    },
    "id": "1c4L3qLmPVzJ",
    "outputId": "b90a4630-9abe-4a57-a9ea-27bfa2432cce"
   },
   "outputs": [
    {
     "data": {
      "text/html": [
       "<div>\n",
       "<style scoped>\n",
       "    .dataframe tbody tr th:only-of-type {\n",
       "        vertical-align: middle;\n",
       "    }\n",
       "\n",
       "    .dataframe tbody tr th {\n",
       "        vertical-align: top;\n",
       "    }\n",
       "\n",
       "    .dataframe thead th {\n",
       "        text-align: right;\n",
       "    }\n",
       "</style>\n",
       "<table border=\"1\" class=\"dataframe\">\n",
       "  <thead>\n",
       "    <tr style=\"text-align: right;\">\n",
       "      <th></th>\n",
       "      <th>RefId</th>\n",
       "      <th>IsBadBuy</th>\n",
       "      <th>PurchDate</th>\n",
       "      <th>Auction</th>\n",
       "      <th>VehYear</th>\n",
       "      <th>VehicleAge</th>\n",
       "      <th>Make</th>\n",
       "      <th>Model</th>\n",
       "      <th>Trim</th>\n",
       "      <th>SubModel</th>\n",
       "      <th>...</th>\n",
       "      <th>MMRCurrentRetailAveragePrice</th>\n",
       "      <th>MMRCurrentRetailCleanPrice</th>\n",
       "      <th>PRIMEUNIT</th>\n",
       "      <th>AUCGUART</th>\n",
       "      <th>BYRNO</th>\n",
       "      <th>VNZIP1</th>\n",
       "      <th>VNST</th>\n",
       "      <th>VehBCost</th>\n",
       "      <th>IsOnlineSale</th>\n",
       "      <th>WarrantyCost</th>\n",
       "    </tr>\n",
       "  </thead>\n",
       "  <tbody>\n",
       "    <tr>\n",
       "      <th>0</th>\n",
       "      <td>1</td>\n",
       "      <td>0</td>\n",
       "      <td>12/7/2009</td>\n",
       "      <td>ADESA</td>\n",
       "      <td>2006</td>\n",
       "      <td>3</td>\n",
       "      <td>MAZDA</td>\n",
       "      <td>MAZDA3</td>\n",
       "      <td>i</td>\n",
       "      <td>4D SEDAN I</td>\n",
       "      <td>...</td>\n",
       "      <td>11597.0</td>\n",
       "      <td>12409.0</td>\n",
       "      <td>NaN</td>\n",
       "      <td>NaN</td>\n",
       "      <td>21973</td>\n",
       "      <td>33619</td>\n",
       "      <td>FL</td>\n",
       "      <td>7100.0</td>\n",
       "      <td>0</td>\n",
       "      <td>1113</td>\n",
       "    </tr>\n",
       "    <tr>\n",
       "      <th>1</th>\n",
       "      <td>2</td>\n",
       "      <td>0</td>\n",
       "      <td>12/7/2009</td>\n",
       "      <td>ADESA</td>\n",
       "      <td>2004</td>\n",
       "      <td>5</td>\n",
       "      <td>DODGE</td>\n",
       "      <td>1500 RAM PICKUP 2WD</td>\n",
       "      <td>ST</td>\n",
       "      <td>QUAD CAB 4.7L SLT</td>\n",
       "      <td>...</td>\n",
       "      <td>11374.0</td>\n",
       "      <td>12791.0</td>\n",
       "      <td>NaN</td>\n",
       "      <td>NaN</td>\n",
       "      <td>19638</td>\n",
       "      <td>33619</td>\n",
       "      <td>FL</td>\n",
       "      <td>7600.0</td>\n",
       "      <td>0</td>\n",
       "      <td>1053</td>\n",
       "    </tr>\n",
       "    <tr>\n",
       "      <th>2</th>\n",
       "      <td>3</td>\n",
       "      <td>0</td>\n",
       "      <td>12/7/2009</td>\n",
       "      <td>ADESA</td>\n",
       "      <td>2005</td>\n",
       "      <td>4</td>\n",
       "      <td>DODGE</td>\n",
       "      <td>STRATUS V6</td>\n",
       "      <td>SXT</td>\n",
       "      <td>4D SEDAN SXT FFV</td>\n",
       "      <td>...</td>\n",
       "      <td>7146.0</td>\n",
       "      <td>8702.0</td>\n",
       "      <td>NaN</td>\n",
       "      <td>NaN</td>\n",
       "      <td>19638</td>\n",
       "      <td>33619</td>\n",
       "      <td>FL</td>\n",
       "      <td>4900.0</td>\n",
       "      <td>0</td>\n",
       "      <td>1389</td>\n",
       "    </tr>\n",
       "    <tr>\n",
       "      <th>3</th>\n",
       "      <td>4</td>\n",
       "      <td>0</td>\n",
       "      <td>12/7/2009</td>\n",
       "      <td>ADESA</td>\n",
       "      <td>2004</td>\n",
       "      <td>5</td>\n",
       "      <td>DODGE</td>\n",
       "      <td>NEON</td>\n",
       "      <td>SXT</td>\n",
       "      <td>4D SEDAN</td>\n",
       "      <td>...</td>\n",
       "      <td>4375.0</td>\n",
       "      <td>5518.0</td>\n",
       "      <td>NaN</td>\n",
       "      <td>NaN</td>\n",
       "      <td>19638</td>\n",
       "      <td>33619</td>\n",
       "      <td>FL</td>\n",
       "      <td>4100.0</td>\n",
       "      <td>0</td>\n",
       "      <td>630</td>\n",
       "    </tr>\n",
       "    <tr>\n",
       "      <th>4</th>\n",
       "      <td>5</td>\n",
       "      <td>0</td>\n",
       "      <td>12/7/2009</td>\n",
       "      <td>ADESA</td>\n",
       "      <td>2005</td>\n",
       "      <td>4</td>\n",
       "      <td>FORD</td>\n",
       "      <td>FOCUS</td>\n",
       "      <td>ZX3</td>\n",
       "      <td>2D COUPE ZX3</td>\n",
       "      <td>...</td>\n",
       "      <td>6739.0</td>\n",
       "      <td>7911.0</td>\n",
       "      <td>NaN</td>\n",
       "      <td>NaN</td>\n",
       "      <td>19638</td>\n",
       "      <td>33619</td>\n",
       "      <td>FL</td>\n",
       "      <td>4000.0</td>\n",
       "      <td>0</td>\n",
       "      <td>1020</td>\n",
       "    </tr>\n",
       "  </tbody>\n",
       "</table>\n",
       "<p>5 rows × 34 columns</p>\n",
       "</div>"
      ],
      "text/plain": [
       "   RefId  IsBadBuy  PurchDate Auction  VehYear  VehicleAge   Make  \\\n",
       "0      1         0  12/7/2009   ADESA     2006           3  MAZDA   \n",
       "1      2         0  12/7/2009   ADESA     2004           5  DODGE   \n",
       "2      3         0  12/7/2009   ADESA     2005           4  DODGE   \n",
       "3      4         0  12/7/2009   ADESA     2004           5  DODGE   \n",
       "4      5         0  12/7/2009   ADESA     2005           4   FORD   \n",
       "\n",
       "                 Model Trim           SubModel  ...  \\\n",
       "0               MAZDA3    i         4D SEDAN I  ...   \n",
       "1  1500 RAM PICKUP 2WD   ST  QUAD CAB 4.7L SLT  ...   \n",
       "2           STRATUS V6  SXT   4D SEDAN SXT FFV  ...   \n",
       "3                 NEON  SXT           4D SEDAN  ...   \n",
       "4                FOCUS  ZX3       2D COUPE ZX3  ...   \n",
       "\n",
       "  MMRCurrentRetailAveragePrice MMRCurrentRetailCleanPrice  PRIMEUNIT AUCGUART  \\\n",
       "0                      11597.0                    12409.0        NaN      NaN   \n",
       "1                      11374.0                    12791.0        NaN      NaN   \n",
       "2                       7146.0                     8702.0        NaN      NaN   \n",
       "3                       4375.0                     5518.0        NaN      NaN   \n",
       "4                       6739.0                     7911.0        NaN      NaN   \n",
       "\n",
       "   BYRNO VNZIP1 VNST VehBCost  IsOnlineSale  WarrantyCost  \n",
       "0  21973  33619   FL   7100.0             0          1113  \n",
       "1  19638  33619   FL   7600.0             0          1053  \n",
       "2  19638  33619   FL   4900.0             0          1389  \n",
       "3  19638  33619   FL   4100.0             0           630  \n",
       "4  19638  33619   FL   4000.0             0          1020  \n",
       "\n",
       "[5 rows x 34 columns]"
      ]
     },
     "execution_count": 83,
     "metadata": {},
     "output_type": "execute_result"
    }
   ],
   "source": [
    "train_df.head()"
   ]
  },
  {
   "cell_type": "code",
   "execution_count": 84,
   "metadata": {
    "colab": {
     "base_uri": "https://localhost:8080/",
     "height": 382
    },
    "executionInfo": {
     "elapsed": 640,
     "status": "ok",
     "timestamp": 1638373713167,
     "user": {
      "displayName": "Rahul Kumar",
      "photoUrl": "https://lh3.googleusercontent.com/a-/AOh14GjMLooCThM9vWBSGvwf32JMjtszpIkIztj3alUAhMs=s64",
      "userId": "03490918626299573549"
     },
     "user_tz": -330
    },
    "id": "4bG_4vAVPcl0",
    "outputId": "4c384597-6ccc-4f2c-af0b-a657276d8fef"
   },
   "outputs": [
    {
     "data": {
      "text/html": [
       "<div>\n",
       "<style scoped>\n",
       "    .dataframe tbody tr th:only-of-type {\n",
       "        vertical-align: middle;\n",
       "    }\n",
       "\n",
       "    .dataframe tbody tr th {\n",
       "        vertical-align: top;\n",
       "    }\n",
       "\n",
       "    .dataframe thead th {\n",
       "        text-align: right;\n",
       "    }\n",
       "</style>\n",
       "<table border=\"1\" class=\"dataframe\">\n",
       "  <thead>\n",
       "    <tr style=\"text-align: right;\">\n",
       "      <th></th>\n",
       "      <th>RefId</th>\n",
       "      <th>PurchDate</th>\n",
       "      <th>Auction</th>\n",
       "      <th>VehYear</th>\n",
       "      <th>VehicleAge</th>\n",
       "      <th>Make</th>\n",
       "      <th>Model</th>\n",
       "      <th>Trim</th>\n",
       "      <th>SubModel</th>\n",
       "      <th>Color</th>\n",
       "      <th>...</th>\n",
       "      <th>MMRCurrentRetailAveragePrice</th>\n",
       "      <th>MMRCurrentRetailCleanPrice</th>\n",
       "      <th>PRIMEUNIT</th>\n",
       "      <th>AUCGUART</th>\n",
       "      <th>BYRNO</th>\n",
       "      <th>VNZIP1</th>\n",
       "      <th>VNST</th>\n",
       "      <th>VehBCost</th>\n",
       "      <th>IsOnlineSale</th>\n",
       "      <th>WarrantyCost</th>\n",
       "    </tr>\n",
       "  </thead>\n",
       "  <tbody>\n",
       "    <tr>\n",
       "      <th>36792</th>\n",
       "      <td>109823</td>\n",
       "      <td>9/10/2010</td>\n",
       "      <td>OTHER</td>\n",
       "      <td>2006</td>\n",
       "      <td>4</td>\n",
       "      <td>CHEVROLET</td>\n",
       "      <td>MALIBU 4C</td>\n",
       "      <td>LT</td>\n",
       "      <td>4D SEDAN LT</td>\n",
       "      <td>MAROON</td>\n",
       "      <td>...</td>\n",
       "      <td>11597.0</td>\n",
       "      <td>14636.0</td>\n",
       "      <td>NaN</td>\n",
       "      <td>NaN</td>\n",
       "      <td>99750</td>\n",
       "      <td>90650</td>\n",
       "      <td>CA</td>\n",
       "      <td>6600.0</td>\n",
       "      <td>0</td>\n",
       "      <td>923</td>\n",
       "    </tr>\n",
       "    <tr>\n",
       "      <th>43498</th>\n",
       "      <td>116533</td>\n",
       "      <td>2/24/2009</td>\n",
       "      <td>MANHEIM</td>\n",
       "      <td>2005</td>\n",
       "      <td>4</td>\n",
       "      <td>CHEVROLET</td>\n",
       "      <td>IMPALA 3.8L V6 SFI</td>\n",
       "      <td>LS</td>\n",
       "      <td>4D SEDAN LS</td>\n",
       "      <td>RED</td>\n",
       "      <td>...</td>\n",
       "      <td>NaN</td>\n",
       "      <td>NaN</td>\n",
       "      <td>NaN</td>\n",
       "      <td>NaN</td>\n",
       "      <td>18880</td>\n",
       "      <td>28625</td>\n",
       "      <td>NC</td>\n",
       "      <td>6330.0</td>\n",
       "      <td>0</td>\n",
       "      <td>2152</td>\n",
       "    </tr>\n",
       "    <tr>\n",
       "      <th>19802</th>\n",
       "      <td>92825</td>\n",
       "      <td>12/7/2010</td>\n",
       "      <td>MANHEIM</td>\n",
       "      <td>2006</td>\n",
       "      <td>4</td>\n",
       "      <td>CHRYSLER</td>\n",
       "      <td>PT CRUISER</td>\n",
       "      <td>Bas</td>\n",
       "      <td>4D SEDAN</td>\n",
       "      <td>BLACK</td>\n",
       "      <td>...</td>\n",
       "      <td>7857.0</td>\n",
       "      <td>8632.0</td>\n",
       "      <td>NaN</td>\n",
       "      <td>NaN</td>\n",
       "      <td>8172</td>\n",
       "      <td>30331</td>\n",
       "      <td>GA</td>\n",
       "      <td>5010.0</td>\n",
       "      <td>0</td>\n",
       "      <td>1389</td>\n",
       "    </tr>\n",
       "    <tr>\n",
       "      <th>41091</th>\n",
       "      <td>114123</td>\n",
       "      <td>2/19/2009</td>\n",
       "      <td>MANHEIM</td>\n",
       "      <td>2005</td>\n",
       "      <td>4</td>\n",
       "      <td>CHRYSLER</td>\n",
       "      <td>SEBRING V6 2.7L V6 M</td>\n",
       "      <td>Tou</td>\n",
       "      <td>4D SEDAN LXI</td>\n",
       "      <td>GREY</td>\n",
       "      <td>...</td>\n",
       "      <td>NaN</td>\n",
       "      <td>NaN</td>\n",
       "      <td>NaN</td>\n",
       "      <td>NaN</td>\n",
       "      <td>23359</td>\n",
       "      <td>92337</td>\n",
       "      <td>CA</td>\n",
       "      <td>6085.0</td>\n",
       "      <td>0</td>\n",
       "      <td>1118</td>\n",
       "    </tr>\n",
       "    <tr>\n",
       "      <th>26097</th>\n",
       "      <td>99123</td>\n",
       "      <td>3/10/2009</td>\n",
       "      <td>MANHEIM</td>\n",
       "      <td>2007</td>\n",
       "      <td>2</td>\n",
       "      <td>CHEVROLET</td>\n",
       "      <td>IMPALA V6 3.5L V6 SF</td>\n",
       "      <td>LT</td>\n",
       "      <td>4D SEDAN LT 3.5L</td>\n",
       "      <td>RED</td>\n",
       "      <td>...</td>\n",
       "      <td>10050.0</td>\n",
       "      <td>11639.0</td>\n",
       "      <td>NaN</td>\n",
       "      <td>NaN</td>\n",
       "      <td>20740</td>\n",
       "      <td>19440</td>\n",
       "      <td>PA</td>\n",
       "      <td>7480.0</td>\n",
       "      <td>0</td>\n",
       "      <td>1974</td>\n",
       "    </tr>\n",
       "  </tbody>\n",
       "</table>\n",
       "<p>5 rows × 33 columns</p>\n",
       "</div>"
      ],
      "text/plain": [
       "        RefId  PurchDate  Auction  VehYear  VehicleAge       Make  \\\n",
       "36792  109823  9/10/2010    OTHER     2006           4  CHEVROLET   \n",
       "43498  116533  2/24/2009  MANHEIM     2005           4  CHEVROLET   \n",
       "19802   92825  12/7/2010  MANHEIM     2006           4   CHRYSLER   \n",
       "41091  114123  2/19/2009  MANHEIM     2005           4   CHRYSLER   \n",
       "26097   99123  3/10/2009  MANHEIM     2007           2  CHEVROLET   \n",
       "\n",
       "                      Model Trim          SubModel   Color  ...  \\\n",
       "36792             MALIBU 4C   LT       4D SEDAN LT  MAROON  ...   \n",
       "43498    IMPALA 3.8L V6 SFI   LS       4D SEDAN LS     RED  ...   \n",
       "19802            PT CRUISER  Bas          4D SEDAN   BLACK  ...   \n",
       "41091  SEBRING V6 2.7L V6 M  Tou      4D SEDAN LXI    GREY  ...   \n",
       "26097  IMPALA V6 3.5L V6 SF   LT  4D SEDAN LT 3.5L     RED  ...   \n",
       "\n",
       "      MMRCurrentRetailAveragePrice  MMRCurrentRetailCleanPrice PRIMEUNIT  \\\n",
       "36792                      11597.0                     14636.0       NaN   \n",
       "43498                          NaN                         NaN       NaN   \n",
       "19802                       7857.0                      8632.0       NaN   \n",
       "41091                          NaN                         NaN       NaN   \n",
       "26097                      10050.0                     11639.0       NaN   \n",
       "\n",
       "       AUCGUART  BYRNO VNZIP1 VNST  VehBCost  IsOnlineSale  WarrantyCost  \n",
       "36792       NaN  99750  90650   CA    6600.0             0           923  \n",
       "43498       NaN  18880  28625   NC    6330.0             0          2152  \n",
       "19802       NaN   8172  30331   GA    5010.0             0          1389  \n",
       "41091       NaN  23359  92337   CA    6085.0             0          1118  \n",
       "26097       NaN  20740  19440   PA    7480.0             0          1974  \n",
       "\n",
       "[5 rows x 33 columns]"
      ]
     },
     "execution_count": 84,
     "metadata": {},
     "output_type": "execute_result"
    }
   ],
   "source": [
    "test_df.sample(5)"
   ]
  },
  {
   "cell_type": "code",
   "execution_count": 85,
   "metadata": {
    "colab": {
     "base_uri": "https://localhost:8080/",
     "height": 206
    },
    "executionInfo": {
     "elapsed": 108,
     "status": "ok",
     "timestamp": 1638373713168,
     "user": {
      "displayName": "Rahul Kumar",
      "photoUrl": "https://lh3.googleusercontent.com/a-/AOh14GjMLooCThM9vWBSGvwf32JMjtszpIkIztj3alUAhMs=s64",
      "userId": "03490918626299573549"
     },
     "user_tz": -330
    },
    "id": "8i3B6KCXPlO5",
    "outputId": "3c12ec65-24df-4ab1-bab3-7a84bbe53590"
   },
   "outputs": [
    {
     "data": {
      "text/html": [
       "<div>\n",
       "<style scoped>\n",
       "    .dataframe tbody tr th:only-of-type {\n",
       "        vertical-align: middle;\n",
       "    }\n",
       "\n",
       "    .dataframe tbody tr th {\n",
       "        vertical-align: top;\n",
       "    }\n",
       "\n",
       "    .dataframe thead th {\n",
       "        text-align: right;\n",
       "    }\n",
       "</style>\n",
       "<table border=\"1\" class=\"dataframe\">\n",
       "  <thead>\n",
       "    <tr style=\"text-align: right;\">\n",
       "      <th></th>\n",
       "      <th>RefId</th>\n",
       "      <th>IsBadBuy</th>\n",
       "    </tr>\n",
       "  </thead>\n",
       "  <tbody>\n",
       "    <tr>\n",
       "      <th>0</th>\n",
       "      <td>73015</td>\n",
       "      <td>0</td>\n",
       "    </tr>\n",
       "    <tr>\n",
       "      <th>1</th>\n",
       "      <td>73016</td>\n",
       "      <td>0</td>\n",
       "    </tr>\n",
       "    <tr>\n",
       "      <th>2</th>\n",
       "      <td>73017</td>\n",
       "      <td>0</td>\n",
       "    </tr>\n",
       "    <tr>\n",
       "      <th>3</th>\n",
       "      <td>73018</td>\n",
       "      <td>0</td>\n",
       "    </tr>\n",
       "    <tr>\n",
       "      <th>4</th>\n",
       "      <td>73019</td>\n",
       "      <td>0</td>\n",
       "    </tr>\n",
       "  </tbody>\n",
       "</table>\n",
       "</div>"
      ],
      "text/plain": [
       "   RefId  IsBadBuy\n",
       "0  73015         0\n",
       "1  73016         0\n",
       "2  73017         0\n",
       "3  73018         0\n",
       "4  73019         0"
      ]
     },
     "execution_count": 85,
     "metadata": {},
     "output_type": "execute_result"
    }
   ],
   "source": [
    "submission_df.head()"
   ]
  },
  {
   "cell_type": "code",
   "execution_count": 86,
   "metadata": {
    "colab": {
     "base_uri": "https://localhost:8080/"
    },
    "executionInfo": {
     "elapsed": 107,
     "status": "ok",
     "timestamp": 1638373713169,
     "user": {
      "displayName": "Rahul Kumar",
      "photoUrl": "https://lh3.googleusercontent.com/a-/AOh14GjMLooCThM9vWBSGvwf32JMjtszpIkIztj3alUAhMs=s64",
      "userId": "03490918626299573549"
     },
     "user_tz": -330
    },
    "id": "n7EEOvc0PpQl",
    "outputId": "7a129426-3e09-4ce4-917a-94dad5be8000"
   },
   "outputs": [
    {
     "name": "stdout",
     "output_type": "stream",
     "text": [
      "<class 'pandas.core.frame.DataFrame'>\n",
      "RangeIndex: 72983 entries, 0 to 72982\n",
      "Data columns (total 34 columns):\n",
      " #   Column                             Non-Null Count  Dtype  \n",
      "---  ------                             --------------  -----  \n",
      " 0   RefId                              72983 non-null  int64  \n",
      " 1   IsBadBuy                           72983 non-null  int64  \n",
      " 2   PurchDate                          72983 non-null  object \n",
      " 3   Auction                            72983 non-null  object \n",
      " 4   VehYear                            72983 non-null  int64  \n",
      " 5   VehicleAge                         72983 non-null  int64  \n",
      " 6   Make                               72983 non-null  object \n",
      " 7   Model                              72983 non-null  object \n",
      " 8   Trim                               70623 non-null  object \n",
      " 9   SubModel                           72975 non-null  object \n",
      " 10  Color                              72975 non-null  object \n",
      " 11  Transmission                       72974 non-null  object \n",
      " 12  WheelTypeID                        69814 non-null  float64\n",
      " 13  WheelType                          69809 non-null  object \n",
      " 14  VehOdo                             72983 non-null  int64  \n",
      " 15  Nationality                        72978 non-null  object \n",
      " 16  Size                               72978 non-null  object \n",
      " 17  TopThreeAmericanName               72978 non-null  object \n",
      " 18  MMRAcquisitionAuctionAveragePrice  72965 non-null  float64\n",
      " 19  MMRAcquisitionAuctionCleanPrice    72965 non-null  float64\n",
      " 20  MMRAcquisitionRetailAveragePrice   72965 non-null  float64\n",
      " 21  MMRAcquisitonRetailCleanPrice      72965 non-null  float64\n",
      " 22  MMRCurrentAuctionAveragePrice      72668 non-null  float64\n",
      " 23  MMRCurrentAuctionCleanPrice        72668 non-null  float64\n",
      " 24  MMRCurrentRetailAveragePrice       72668 non-null  float64\n",
      " 25  MMRCurrentRetailCleanPrice         72668 non-null  float64\n",
      " 26  PRIMEUNIT                          3419 non-null   object \n",
      " 27  AUCGUART                           3419 non-null   object \n",
      " 28  BYRNO                              72983 non-null  int64  \n",
      " 29  VNZIP1                             72983 non-null  int64  \n",
      " 30  VNST                               72983 non-null  object \n",
      " 31  VehBCost                           72983 non-null  float64\n",
      " 32  IsOnlineSale                       72983 non-null  int64  \n",
      " 33  WarrantyCost                       72983 non-null  int64  \n",
      "dtypes: float64(10), int64(9), object(15)\n",
      "memory usage: 18.9+ MB\n"
     ]
    }
   ],
   "source": [
    "train_df.info()"
   ]
  },
  {
   "cell_type": "code",
   "execution_count": 87,
   "metadata": {
    "colab": {
     "base_uri": "https://localhost:8080/",
     "height": 320
    },
    "executionInfo": {
     "elapsed": 77,
     "status": "ok",
     "timestamp": 1638373713170,
     "user": {
      "displayName": "Rahul Kumar",
      "photoUrl": "https://lh3.googleusercontent.com/a-/AOh14GjMLooCThM9vWBSGvwf32JMjtszpIkIztj3alUAhMs=s64",
      "userId": "03490918626299573549"
     },
     "user_tz": -330
    },
    "id": "BjNVM78kQHeY",
    "outputId": "51ff1acc-b979-4b09-f850-e7ffaa1cbe9b"
   },
   "outputs": [
    {
     "data": {
      "text/html": [
       "<div>\n",
       "<style scoped>\n",
       "    .dataframe tbody tr th:only-of-type {\n",
       "        vertical-align: middle;\n",
       "    }\n",
       "\n",
       "    .dataframe tbody tr th {\n",
       "        vertical-align: top;\n",
       "    }\n",
       "\n",
       "    .dataframe thead th {\n",
       "        text-align: right;\n",
       "    }\n",
       "</style>\n",
       "<table border=\"1\" class=\"dataframe\">\n",
       "  <thead>\n",
       "    <tr style=\"text-align: right;\">\n",
       "      <th></th>\n",
       "      <th>RefId</th>\n",
       "      <th>IsBadBuy</th>\n",
       "      <th>VehYear</th>\n",
       "      <th>VehicleAge</th>\n",
       "      <th>WheelTypeID</th>\n",
       "      <th>VehOdo</th>\n",
       "      <th>MMRAcquisitionAuctionAveragePrice</th>\n",
       "      <th>MMRAcquisitionAuctionCleanPrice</th>\n",
       "      <th>MMRAcquisitionRetailAveragePrice</th>\n",
       "      <th>MMRAcquisitonRetailCleanPrice</th>\n",
       "      <th>MMRCurrentAuctionAveragePrice</th>\n",
       "      <th>MMRCurrentAuctionCleanPrice</th>\n",
       "      <th>MMRCurrentRetailAveragePrice</th>\n",
       "      <th>MMRCurrentRetailCleanPrice</th>\n",
       "      <th>BYRNO</th>\n",
       "      <th>VNZIP1</th>\n",
       "      <th>VehBCost</th>\n",
       "      <th>IsOnlineSale</th>\n",
       "      <th>WarrantyCost</th>\n",
       "    </tr>\n",
       "  </thead>\n",
       "  <tbody>\n",
       "    <tr>\n",
       "      <th>count</th>\n",
       "      <td>72983.000000</td>\n",
       "      <td>72983.000000</td>\n",
       "      <td>72983.000000</td>\n",
       "      <td>72983.000000</td>\n",
       "      <td>69814.000000</td>\n",
       "      <td>72983.000000</td>\n",
       "      <td>72965.000000</td>\n",
       "      <td>72965.000000</td>\n",
       "      <td>72965.000000</td>\n",
       "      <td>72965.000000</td>\n",
       "      <td>72668.000000</td>\n",
       "      <td>72668.000000</td>\n",
       "      <td>72668.000000</td>\n",
       "      <td>72668.000000</td>\n",
       "      <td>72983.000000</td>\n",
       "      <td>72983.000000</td>\n",
       "      <td>72983.000000</td>\n",
       "      <td>72983.000000</td>\n",
       "      <td>72983.000000</td>\n",
       "    </tr>\n",
       "    <tr>\n",
       "      <th>mean</th>\n",
       "      <td>36511.428497</td>\n",
       "      <td>0.122988</td>\n",
       "      <td>2005.343052</td>\n",
       "      <td>4.176644</td>\n",
       "      <td>1.494299</td>\n",
       "      <td>71499.995917</td>\n",
       "      <td>6128.909217</td>\n",
       "      <td>7373.636031</td>\n",
       "      <td>8497.034332</td>\n",
       "      <td>9850.928240</td>\n",
       "      <td>6132.081287</td>\n",
       "      <td>7390.681827</td>\n",
       "      <td>8775.723331</td>\n",
       "      <td>10145.385314</td>\n",
       "      <td>26345.842155</td>\n",
       "      <td>58043.059945</td>\n",
       "      <td>6730.934326</td>\n",
       "      <td>0.025280</td>\n",
       "      <td>1276.580985</td>\n",
       "    </tr>\n",
       "    <tr>\n",
       "      <th>std</th>\n",
       "      <td>21077.241302</td>\n",
       "      <td>0.328425</td>\n",
       "      <td>1.731252</td>\n",
       "      <td>1.712210</td>\n",
       "      <td>0.521290</td>\n",
       "      <td>14578.913128</td>\n",
       "      <td>2461.992768</td>\n",
       "      <td>2722.491986</td>\n",
       "      <td>3156.285284</td>\n",
       "      <td>3385.789541</td>\n",
       "      <td>2434.567723</td>\n",
       "      <td>2686.248852</td>\n",
       "      <td>3090.702941</td>\n",
       "      <td>3310.254351</td>\n",
       "      <td>25717.351219</td>\n",
       "      <td>26151.640415</td>\n",
       "      <td>1767.846435</td>\n",
       "      <td>0.156975</td>\n",
       "      <td>598.846788</td>\n",
       "    </tr>\n",
       "    <tr>\n",
       "      <th>min</th>\n",
       "      <td>1.000000</td>\n",
       "      <td>0.000000</td>\n",
       "      <td>2001.000000</td>\n",
       "      <td>0.000000</td>\n",
       "      <td>0.000000</td>\n",
       "      <td>4825.000000</td>\n",
       "      <td>0.000000</td>\n",
       "      <td>0.000000</td>\n",
       "      <td>0.000000</td>\n",
       "      <td>0.000000</td>\n",
       "      <td>0.000000</td>\n",
       "      <td>0.000000</td>\n",
       "      <td>0.000000</td>\n",
       "      <td>0.000000</td>\n",
       "      <td>835.000000</td>\n",
       "      <td>2764.000000</td>\n",
       "      <td>1.000000</td>\n",
       "      <td>0.000000</td>\n",
       "      <td>462.000000</td>\n",
       "    </tr>\n",
       "    <tr>\n",
       "      <th>25%</th>\n",
       "      <td>18257.500000</td>\n",
       "      <td>0.000000</td>\n",
       "      <td>2004.000000</td>\n",
       "      <td>3.000000</td>\n",
       "      <td>1.000000</td>\n",
       "      <td>61837.000000</td>\n",
       "      <td>4273.000000</td>\n",
       "      <td>5406.000000</td>\n",
       "      <td>6280.000000</td>\n",
       "      <td>7493.000000</td>\n",
       "      <td>4275.000000</td>\n",
       "      <td>5414.000000</td>\n",
       "      <td>6536.000000</td>\n",
       "      <td>7784.000000</td>\n",
       "      <td>17212.000000</td>\n",
       "      <td>32124.000000</td>\n",
       "      <td>5435.000000</td>\n",
       "      <td>0.000000</td>\n",
       "      <td>837.000000</td>\n",
       "    </tr>\n",
       "    <tr>\n",
       "      <th>50%</th>\n",
       "      <td>36514.000000</td>\n",
       "      <td>0.000000</td>\n",
       "      <td>2005.000000</td>\n",
       "      <td>4.000000</td>\n",
       "      <td>1.000000</td>\n",
       "      <td>73361.000000</td>\n",
       "      <td>6097.000000</td>\n",
       "      <td>7303.000000</td>\n",
       "      <td>8444.000000</td>\n",
       "      <td>9789.000000</td>\n",
       "      <td>6062.000000</td>\n",
       "      <td>7313.000000</td>\n",
       "      <td>8729.000000</td>\n",
       "      <td>10103.000000</td>\n",
       "      <td>19662.000000</td>\n",
       "      <td>73108.000000</td>\n",
       "      <td>6700.000000</td>\n",
       "      <td>0.000000</td>\n",
       "      <td>1155.000000</td>\n",
       "    </tr>\n",
       "    <tr>\n",
       "      <th>75%</th>\n",
       "      <td>54764.500000</td>\n",
       "      <td>0.000000</td>\n",
       "      <td>2007.000000</td>\n",
       "      <td>5.000000</td>\n",
       "      <td>2.000000</td>\n",
       "      <td>82436.000000</td>\n",
       "      <td>7765.000000</td>\n",
       "      <td>9021.000000</td>\n",
       "      <td>10651.000000</td>\n",
       "      <td>12088.000000</td>\n",
       "      <td>7736.000000</td>\n",
       "      <td>9013.000000</td>\n",
       "      <td>10911.000000</td>\n",
       "      <td>12309.000000</td>\n",
       "      <td>22808.000000</td>\n",
       "      <td>80022.000000</td>\n",
       "      <td>7900.000000</td>\n",
       "      <td>0.000000</td>\n",
       "      <td>1623.000000</td>\n",
       "    </tr>\n",
       "    <tr>\n",
       "      <th>max</th>\n",
       "      <td>73014.000000</td>\n",
       "      <td>1.000000</td>\n",
       "      <td>2010.000000</td>\n",
       "      <td>9.000000</td>\n",
       "      <td>3.000000</td>\n",
       "      <td>115717.000000</td>\n",
       "      <td>35722.000000</td>\n",
       "      <td>36859.000000</td>\n",
       "      <td>39080.000000</td>\n",
       "      <td>41482.000000</td>\n",
       "      <td>35722.000000</td>\n",
       "      <td>36859.000000</td>\n",
       "      <td>39080.000000</td>\n",
       "      <td>41062.000000</td>\n",
       "      <td>99761.000000</td>\n",
       "      <td>99224.000000</td>\n",
       "      <td>45469.000000</td>\n",
       "      <td>1.000000</td>\n",
       "      <td>7498.000000</td>\n",
       "    </tr>\n",
       "  </tbody>\n",
       "</table>\n",
       "</div>"
      ],
      "text/plain": [
       "              RefId      IsBadBuy       VehYear    VehicleAge   WheelTypeID  \\\n",
       "count  72983.000000  72983.000000  72983.000000  72983.000000  69814.000000   \n",
       "mean   36511.428497      0.122988   2005.343052      4.176644      1.494299   \n",
       "std    21077.241302      0.328425      1.731252      1.712210      0.521290   \n",
       "min        1.000000      0.000000   2001.000000      0.000000      0.000000   \n",
       "25%    18257.500000      0.000000   2004.000000      3.000000      1.000000   \n",
       "50%    36514.000000      0.000000   2005.000000      4.000000      1.000000   \n",
       "75%    54764.500000      0.000000   2007.000000      5.000000      2.000000   \n",
       "max    73014.000000      1.000000   2010.000000      9.000000      3.000000   \n",
       "\n",
       "              VehOdo  MMRAcquisitionAuctionAveragePrice  \\\n",
       "count   72983.000000                       72965.000000   \n",
       "mean    71499.995917                        6128.909217   \n",
       "std     14578.913128                        2461.992768   \n",
       "min      4825.000000                           0.000000   \n",
       "25%     61837.000000                        4273.000000   \n",
       "50%     73361.000000                        6097.000000   \n",
       "75%     82436.000000                        7765.000000   \n",
       "max    115717.000000                       35722.000000   \n",
       "\n",
       "       MMRAcquisitionAuctionCleanPrice  MMRAcquisitionRetailAveragePrice  \\\n",
       "count                     72965.000000                      72965.000000   \n",
       "mean                       7373.636031                       8497.034332   \n",
       "std                        2722.491986                       3156.285284   \n",
       "min                           0.000000                          0.000000   \n",
       "25%                        5406.000000                       6280.000000   \n",
       "50%                        7303.000000                       8444.000000   \n",
       "75%                        9021.000000                      10651.000000   \n",
       "max                       36859.000000                      39080.000000   \n",
       "\n",
       "       MMRAcquisitonRetailCleanPrice  MMRCurrentAuctionAveragePrice  \\\n",
       "count                   72965.000000                   72668.000000   \n",
       "mean                     9850.928240                    6132.081287   \n",
       "std                      3385.789541                    2434.567723   \n",
       "min                         0.000000                       0.000000   \n",
       "25%                      7493.000000                    4275.000000   \n",
       "50%                      9789.000000                    6062.000000   \n",
       "75%                     12088.000000                    7736.000000   \n",
       "max                     41482.000000                   35722.000000   \n",
       "\n",
       "       MMRCurrentAuctionCleanPrice  MMRCurrentRetailAveragePrice  \\\n",
       "count                 72668.000000                  72668.000000   \n",
       "mean                   7390.681827                   8775.723331   \n",
       "std                    2686.248852                   3090.702941   \n",
       "min                       0.000000                      0.000000   \n",
       "25%                    5414.000000                   6536.000000   \n",
       "50%                    7313.000000                   8729.000000   \n",
       "75%                    9013.000000                  10911.000000   \n",
       "max                   36859.000000                  39080.000000   \n",
       "\n",
       "       MMRCurrentRetailCleanPrice         BYRNO        VNZIP1      VehBCost  \\\n",
       "count                72668.000000  72983.000000  72983.000000  72983.000000   \n",
       "mean                 10145.385314  26345.842155  58043.059945   6730.934326   \n",
       "std                   3310.254351  25717.351219  26151.640415   1767.846435   \n",
       "min                      0.000000    835.000000   2764.000000      1.000000   \n",
       "25%                   7784.000000  17212.000000  32124.000000   5435.000000   \n",
       "50%                  10103.000000  19662.000000  73108.000000   6700.000000   \n",
       "75%                  12309.000000  22808.000000  80022.000000   7900.000000   \n",
       "max                  41062.000000  99761.000000  99224.000000  45469.000000   \n",
       "\n",
       "       IsOnlineSale  WarrantyCost  \n",
       "count  72983.000000  72983.000000  \n",
       "mean       0.025280   1276.580985  \n",
       "std        0.156975    598.846788  \n",
       "min        0.000000    462.000000  \n",
       "25%        0.000000    837.000000  \n",
       "50%        0.000000   1155.000000  \n",
       "75%        0.000000   1623.000000  \n",
       "max        1.000000   7498.000000  "
      ]
     },
     "execution_count": 87,
     "metadata": {},
     "output_type": "execute_result"
    }
   ],
   "source": [
    "train_df.describe()"
   ]
  },
  {
   "cell_type": "code",
   "execution_count": 88,
   "metadata": {
    "colab": {
     "base_uri": "https://localhost:8080/"
    },
    "executionInfo": {
     "elapsed": 77,
     "status": "ok",
     "timestamp": 1638373713171,
     "user": {
      "displayName": "Rahul Kumar",
      "photoUrl": "https://lh3.googleusercontent.com/a-/AOh14GjMLooCThM9vWBSGvwf32JMjtszpIkIztj3alUAhMs=s64",
      "userId": "03490918626299573549"
     },
     "user_tz": -330
    },
    "id": "-C0GNA67Qc2p",
    "outputId": "54bdedf8-f4aa-4cd1-81e3-6f9d5facb1c1"
   },
   "outputs": [
    {
     "data": {
      "text/plain": [
       "RefId                                    0\n",
       "IsBadBuy                                 0\n",
       "PurchDate                                0\n",
       "Auction                                  0\n",
       "VehYear                                  0\n",
       "VehicleAge                               0\n",
       "Make                                     0\n",
       "Model                                    0\n",
       "Trim                                  2360\n",
       "SubModel                                 8\n",
       "Color                                    8\n",
       "Transmission                             9\n",
       "WheelTypeID                           3169\n",
       "WheelType                             3174\n",
       "VehOdo                                   0\n",
       "Nationality                              5\n",
       "Size                                     5\n",
       "TopThreeAmericanName                     5\n",
       "MMRAcquisitionAuctionAveragePrice       18\n",
       "MMRAcquisitionAuctionCleanPrice         18\n",
       "MMRAcquisitionRetailAveragePrice        18\n",
       "MMRAcquisitonRetailCleanPrice           18\n",
       "MMRCurrentAuctionAveragePrice          315\n",
       "MMRCurrentAuctionCleanPrice            315\n",
       "MMRCurrentRetailAveragePrice           315\n",
       "MMRCurrentRetailCleanPrice             315\n",
       "PRIMEUNIT                            69564\n",
       "AUCGUART                             69564\n",
       "BYRNO                                    0\n",
       "VNZIP1                                   0\n",
       "VNST                                     0\n",
       "VehBCost                                 0\n",
       "IsOnlineSale                             0\n",
       "WarrantyCost                             0\n",
       "dtype: int64"
      ]
     },
     "execution_count": 88,
     "metadata": {},
     "output_type": "execute_result"
    }
   ],
   "source": [
    "train_df.isna().sum()"
   ]
  },
  {
   "cell_type": "markdown",
   "metadata": {
    "id": "IJeXR8dMk6dH"
   },
   "source": [
    "\n",
    "\n",
    "*   The columns PRIMEUNIT, AUCGUART contain soo many missing values so we cannot simply drop them as that would result in too much loss of data, so we will not be considering these two columns for our project.\n",
    "\n"
   ]
  },
  {
   "cell_type": "markdown",
   "metadata": {
    "id": "cMoY47sEQBEo"
   },
   "source": [
    "## **Expolatory Data Analysis**"
   ]
  },
  {
   "cell_type": "markdown",
   "metadata": {
    "id": "iPWR18H8k6TR"
   },
   "source": [
    "\n",
    "\n",
    "> Importing necessary libraries for visual and numerical analysis\n",
    "\n"
   ]
  },
  {
   "cell_type": "code",
   "execution_count": 89,
   "metadata": {
    "id": "S2Hu9PczQtSZ"
   },
   "outputs": [],
   "source": [
    "import seaborn as sns\n",
    "import matplotlib.pyplot as plt\n",
    "import matplotlib\n",
    "\n",
    "sns.set_style('darkgrid')\n",
    "matplotlib.rcParams['font.size']= 15\n",
    "matplotlib.rcParams['figure.figsize']= (10, 5)\n",
    "matplotlib.rcParams['figure.facecolor']= '#00000000'"
   ]
  },
  {
   "cell_type": "code",
   "execution_count": 90,
   "metadata": {
    "colab": {
     "base_uri": "https://localhost:8080/"
    },
    "executionInfo": {
     "elapsed": 43,
     "status": "ok",
     "timestamp": 1638373713172,
     "user": {
      "displayName": "Rahul Kumar",
      "photoUrl": "https://lh3.googleusercontent.com/a-/AOh14GjMLooCThM9vWBSGvwf32JMjtszpIkIztj3alUAhMs=s64",
      "userId": "03490918626299573549"
     },
     "user_tz": -330
    },
    "id": "vLXGxCT6U81D",
    "outputId": "8b3f1fa1-7526-492a-ed82-0c0af6ec5801"
   },
   "outputs": [
    {
     "data": {
      "text/plain": [
       "0        0\n",
       "1        0\n",
       "2        0\n",
       "3        0\n",
       "4        0\n",
       "        ..\n",
       "72978    1\n",
       "72979    0\n",
       "72980    0\n",
       "72981    0\n",
       "72982    0\n",
       "Name: IsBadBuy, Length: 72983, dtype: int64"
      ]
     },
     "execution_count": 90,
     "metadata": {},
     "output_type": "execute_result"
    }
   ],
   "source": [
    "train_df.IsBadBuy"
   ]
  },
  {
   "cell_type": "code",
   "execution_count": 91,
   "metadata": {
    "colab": {
     "base_uri": "https://localhost:8080/",
     "height": 423
    },
    "executionInfo": {
     "elapsed": 31,
     "status": "ok",
     "timestamp": 1638373713173,
     "user": {
      "displayName": "Rahul Kumar",
      "photoUrl": "https://lh3.googleusercontent.com/a-/AOh14GjMLooCThM9vWBSGvwf32JMjtszpIkIztj3alUAhMs=s64",
      "userId": "03490918626299573549"
     },
     "user_tz": -330
    },
    "id": "aoKI3RAFR2DG",
    "outputId": "2160482b-b668-46b2-e43c-9b55ecf96604"
   },
   "outputs": [
    {
     "data": {
      "text/html": [
       "<div>\n",
       "<style scoped>\n",
       "    .dataframe tbody tr th:only-of-type {\n",
       "        vertical-align: middle;\n",
       "    }\n",
       "\n",
       "    .dataframe tbody tr th {\n",
       "        vertical-align: top;\n",
       "    }\n",
       "\n",
       "    .dataframe thead th {\n",
       "        text-align: right;\n",
       "    }\n",
       "</style>\n",
       "<table border=\"1\" class=\"dataframe\">\n",
       "  <thead>\n",
       "    <tr style=\"text-align: right;\">\n",
       "      <th></th>\n",
       "      <th>IsBadBuy</th>\n",
       "      <th>VehYear</th>\n",
       "    </tr>\n",
       "  </thead>\n",
       "  <tbody>\n",
       "    <tr>\n",
       "      <th>0</th>\n",
       "      <td>0</td>\n",
       "      <td>2006</td>\n",
       "    </tr>\n",
       "    <tr>\n",
       "      <th>1</th>\n",
       "      <td>0</td>\n",
       "      <td>2004</td>\n",
       "    </tr>\n",
       "    <tr>\n",
       "      <th>2</th>\n",
       "      <td>0</td>\n",
       "      <td>2005</td>\n",
       "    </tr>\n",
       "    <tr>\n",
       "      <th>3</th>\n",
       "      <td>0</td>\n",
       "      <td>2004</td>\n",
       "    </tr>\n",
       "    <tr>\n",
       "      <th>4</th>\n",
       "      <td>0</td>\n",
       "      <td>2005</td>\n",
       "    </tr>\n",
       "    <tr>\n",
       "      <th>...</th>\n",
       "      <td>...</td>\n",
       "      <td>...</td>\n",
       "    </tr>\n",
       "    <tr>\n",
       "      <th>72978</th>\n",
       "      <td>1</td>\n",
       "      <td>2001</td>\n",
       "    </tr>\n",
       "    <tr>\n",
       "      <th>72979</th>\n",
       "      <td>0</td>\n",
       "      <td>2007</td>\n",
       "    </tr>\n",
       "    <tr>\n",
       "      <th>72980</th>\n",
       "      <td>0</td>\n",
       "      <td>2005</td>\n",
       "    </tr>\n",
       "    <tr>\n",
       "      <th>72981</th>\n",
       "      <td>0</td>\n",
       "      <td>2006</td>\n",
       "    </tr>\n",
       "    <tr>\n",
       "      <th>72982</th>\n",
       "      <td>0</td>\n",
       "      <td>2006</td>\n",
       "    </tr>\n",
       "  </tbody>\n",
       "</table>\n",
       "<p>72983 rows × 2 columns</p>\n",
       "</div>"
      ],
      "text/plain": [
       "       IsBadBuy  VehYear\n",
       "0             0     2006\n",
       "1             0     2004\n",
       "2             0     2005\n",
       "3             0     2004\n",
       "4             0     2005\n",
       "...         ...      ...\n",
       "72978         1     2001\n",
       "72979         0     2007\n",
       "72980         0     2005\n",
       "72981         0     2006\n",
       "72982         0     2006\n",
       "\n",
       "[72983 rows x 2 columns]"
      ]
     },
     "execution_count": 91,
     "metadata": {},
     "output_type": "execute_result"
    }
   ],
   "source": [
    "train_df[['IsBadBuy','VehYear']]"
   ]
  },
  {
   "cell_type": "code",
   "execution_count": 92,
   "metadata": {
    "colab": {
     "base_uri": "https://localhost:8080/",
     "height": 363
    },
    "executionInfo": {
     "elapsed": 30,
     "status": "ok",
     "timestamp": 1638373713173,
     "user": {
      "displayName": "Rahul Kumar",
      "photoUrl": "https://lh3.googleusercontent.com/a-/AOh14GjMLooCThM9vWBSGvwf32JMjtszpIkIztj3alUAhMs=s64",
      "userId": "03490918626299573549"
     },
     "user_tz": -330
    },
    "id": "kq0xF4d7TCu5",
    "outputId": "c4903805-fe45-4ea0-e044-648e18e84452"
   },
   "outputs": [
    {
     "data": {
      "text/html": [
       "<div>\n",
       "<style scoped>\n",
       "    .dataframe tbody tr th:only-of-type {\n",
       "        vertical-align: middle;\n",
       "    }\n",
       "\n",
       "    .dataframe tbody tr th {\n",
       "        vertical-align: top;\n",
       "    }\n",
       "\n",
       "    .dataframe thead th {\n",
       "        text-align: right;\n",
       "    }\n",
       "</style>\n",
       "<table border=\"1\" class=\"dataframe\">\n",
       "  <thead>\n",
       "    <tr style=\"text-align: right;\">\n",
       "      <th></th>\n",
       "      <th>IsBadBuy</th>\n",
       "    </tr>\n",
       "    <tr>\n",
       "      <th>VehYear</th>\n",
       "      <th></th>\n",
       "    </tr>\n",
       "  </thead>\n",
       "  <tbody>\n",
       "    <tr>\n",
       "      <th>2001</th>\n",
       "      <td>426</td>\n",
       "    </tr>\n",
       "    <tr>\n",
       "      <th>2002</th>\n",
       "      <td>818</td>\n",
       "    </tr>\n",
       "    <tr>\n",
       "      <th>2003</th>\n",
       "      <td>1210</td>\n",
       "    </tr>\n",
       "    <tr>\n",
       "      <th>2004</th>\n",
       "      <td>1587</td>\n",
       "    </tr>\n",
       "    <tr>\n",
       "      <th>2005</th>\n",
       "      <td>2032</td>\n",
       "    </tr>\n",
       "    <tr>\n",
       "      <th>2006</th>\n",
       "      <td>1600</td>\n",
       "    </tr>\n",
       "    <tr>\n",
       "      <th>2007</th>\n",
       "      <td>888</td>\n",
       "    </tr>\n",
       "    <tr>\n",
       "      <th>2008</th>\n",
       "      <td>385</td>\n",
       "    </tr>\n",
       "    <tr>\n",
       "      <th>2009</th>\n",
       "      <td>30</td>\n",
       "    </tr>\n",
       "  </tbody>\n",
       "</table>\n",
       "</div>"
      ],
      "text/plain": [
       "         IsBadBuy\n",
       "VehYear          \n",
       "2001          426\n",
       "2002          818\n",
       "2003         1210\n",
       "2004         1587\n",
       "2005         2032\n",
       "2006         1600\n",
       "2007          888\n",
       "2008          385\n",
       "2009           30"
      ]
     },
     "execution_count": 92,
     "metadata": {},
     "output_type": "execute_result"
    }
   ],
   "source": [
    "train_df[train_df.IsBadBuy == 1].groupby(by=['VehYear',]).count()[['IsBadBuy']]"
   ]
  },
  {
   "cell_type": "code",
   "execution_count": 93,
   "metadata": {
    "colab": {
     "base_uri": "https://localhost:8080/",
     "height": 394
    },
    "executionInfo": {
     "elapsed": 28,
     "status": "ok",
     "timestamp": 1638373713174,
     "user": {
      "displayName": "Rahul Kumar",
      "photoUrl": "https://lh3.googleusercontent.com/a-/AOh14GjMLooCThM9vWBSGvwf32JMjtszpIkIztj3alUAhMs=s64",
      "userId": "03490918626299573549"
     },
     "user_tz": -330
    },
    "id": "yiKsXZ60XV4u",
    "outputId": "6eb63915-47ea-428d-b356-5e2be1623673"
   },
   "outputs": [
    {
     "data": {
      "text/html": [
       "<div>\n",
       "<style scoped>\n",
       "    .dataframe tbody tr th:only-of-type {\n",
       "        vertical-align: middle;\n",
       "    }\n",
       "\n",
       "    .dataframe tbody tr th {\n",
       "        vertical-align: top;\n",
       "    }\n",
       "\n",
       "    .dataframe thead th {\n",
       "        text-align: right;\n",
       "    }\n",
       "</style>\n",
       "<table border=\"1\" class=\"dataframe\">\n",
       "  <thead>\n",
       "    <tr style=\"text-align: right;\">\n",
       "      <th></th>\n",
       "      <th>IsBadBuy</th>\n",
       "    </tr>\n",
       "    <tr>\n",
       "      <th>VehYear</th>\n",
       "      <th></th>\n",
       "    </tr>\n",
       "  </thead>\n",
       "  <tbody>\n",
       "    <tr>\n",
       "      <th>2001</th>\n",
       "      <td>1055</td>\n",
       "    </tr>\n",
       "    <tr>\n",
       "      <th>2002</th>\n",
       "      <td>2587</td>\n",
       "    </tr>\n",
       "    <tr>\n",
       "      <th>2003</th>\n",
       "      <td>5017</td>\n",
       "    </tr>\n",
       "    <tr>\n",
       "      <th>2004</th>\n",
       "      <td>8620</td>\n",
       "    </tr>\n",
       "    <tr>\n",
       "      <th>2005</th>\n",
       "      <td>13457</td>\n",
       "    </tr>\n",
       "    <tr>\n",
       "      <th>2006</th>\n",
       "      <td>15443</td>\n",
       "    </tr>\n",
       "    <tr>\n",
       "      <th>2007</th>\n",
       "      <td>10535</td>\n",
       "    </tr>\n",
       "    <tr>\n",
       "      <th>2008</th>\n",
       "      <td>6500</td>\n",
       "    </tr>\n",
       "    <tr>\n",
       "      <th>2009</th>\n",
       "      <td>792</td>\n",
       "    </tr>\n",
       "    <tr>\n",
       "      <th>2010</th>\n",
       "      <td>1</td>\n",
       "    </tr>\n",
       "  </tbody>\n",
       "</table>\n",
       "</div>"
      ],
      "text/plain": [
       "         IsBadBuy\n",
       "VehYear          \n",
       "2001         1055\n",
       "2002         2587\n",
       "2003         5017\n",
       "2004         8620\n",
       "2005        13457\n",
       "2006        15443\n",
       "2007        10535\n",
       "2008         6500\n",
       "2009          792\n",
       "2010            1"
      ]
     },
     "execution_count": 93,
     "metadata": {},
     "output_type": "execute_result"
    }
   ],
   "source": [
    "train_df[train_df.IsBadBuy == 0].groupby(by=['VehYear',]).count()[['IsBadBuy']]"
   ]
  },
  {
   "cell_type": "code",
   "execution_count": 94,
   "metadata": {
    "colab": {
     "base_uri": "https://localhost:8080/",
     "height": 344
    },
    "executionInfo": {
     "elapsed": 28,
     "status": "ok",
     "timestamp": 1638373713175,
     "user": {
      "displayName": "Rahul Kumar",
      "photoUrl": "https://lh3.googleusercontent.com/a-/AOh14GjMLooCThM9vWBSGvwf32JMjtszpIkIztj3alUAhMs=s64",
      "userId": "03490918626299573549"
     },
     "user_tz": -330
    },
    "id": "izNxiJH6bnPI",
    "outputId": "7cc9741f-1aa3-4bc1-b203-168b4d7eb110"
   },
   "outputs": [
    {
     "data": {
      "image/png": "[encoded data removed]",
      "text/plain": [
       "<Figure size 720x360 with 1 Axes>"
      ]
     },
     "metadata": {
      "needs_background": "light"
     },
     "output_type": "display_data"
    }
   ],
   "source": [
    "sns.histplot(x='VehicleAge', data=train_df, hue='IsBadBuy',bins=6);"
   ]
  },
  {
   "cell_type": "code",
   "execution_count": 95,
   "metadata": {
    "colab": {
     "base_uri": "https://localhost:8080/",
     "height": 344
    },
    "executionInfo": {
     "elapsed": 528,
     "status": "ok",
     "timestamp": 1638373713676,
     "user": {
      "displayName": "Rahul Kumar",
      "photoUrl": "https://lh3.googleusercontent.com/a-/AOh14GjMLooCThM9vWBSGvwf32JMjtszpIkIztj3alUAhMs=s64",
      "userId": "03490918626299573549"
     },
     "user_tz": -330
    },
    "id": "tfU74MrYebQ4",
    "outputId": "9859bf41-5e8a-480b-b706-a482af6a50b8"
   },
   "outputs": [
    {
     "data": {
      "image/png": "[encoded data removed]",
      "text/plain": [
       "<Figure size 720x360 with 1 Axes>"
      ]
     },
     "metadata": {
      "needs_background": "light"
     },
     "output_type": "display_data"
    }
   ],
   "source": [
    "sns.histplot(x='MMRAcquisitionAuctionAveragePrice',data=train_df,hue='IsBadBuy',bins=10,binrange=(1000,15000));"
   ]
  },
  {
   "cell_type": "code",
   "execution_count": 96,
   "metadata": {
    "colab": {
     "base_uri": "https://localhost:8080/",
     "height": 344
    },
    "executionInfo": {
     "elapsed": 688,
     "status": "ok",
     "timestamp": 1638373714353,
     "user": {
      "displayName": "Rahul Kumar",
      "photoUrl": "https://lh3.googleusercontent.com/a-/AOh14GjMLooCThM9vWBSGvwf32JMjtszpIkIztj3alUAhMs=s64",
      "userId": "03490918626299573549"
     },
     "user_tz": -330
    },
    "id": "21o8I52fl8Ta",
    "outputId": "8bb0c7c8-612a-4e90-a8cd-bec10040abdf"
   },
   "outputs": [
    {
     "data": {
      "image/png": "[encoded data removed]",
      "text/plain": [
       "<Figure size 720x360 with 1 Axes>"
      ]
     },
     "metadata": {
      "needs_background": "light"
     },
     "output_type": "display_data"
    }
   ],
   "source": [
    "sns.histplot(x='MMRCurrentRetailAveragePrice',data=train_df,hue='IsBadBuy',bins=10,binrange=(1000,15000));"
   ]
  },
  {
   "cell_type": "code",
   "execution_count": 97,
   "metadata": {
    "colab": {
     "base_uri": "https://localhost:8080/"
    },
    "executionInfo": {
     "elapsed": 38,
     "status": "ok",
     "timestamp": 1638373714354,
     "user": {
      "displayName": "Rahul Kumar",
      "photoUrl": "https://lh3.googleusercontent.com/a-/AOh14GjMLooCThM9vWBSGvwf32JMjtszpIkIztj3alUAhMs=s64",
      "userId": "03490918626299573549"
     },
     "user_tz": -330
    },
    "id": "Aq6Pe8ENlj4g",
    "outputId": "057b3ac7-69b1-494e-db0d-c4408858fa06"
   },
   "outputs": [
    {
     "data": {
      "text/plain": [
       "33"
      ]
     },
     "execution_count": 97,
     "metadata": {},
     "output_type": "execute_result"
    }
   ],
   "source": [
    "len(train_df.Make.unique())"
   ]
  },
  {
   "cell_type": "code",
   "execution_count": 98,
   "metadata": {
    "colab": {
     "base_uri": "https://localhost:8080/"
    },
    "executionInfo": {
     "elapsed": 12,
     "status": "ok",
     "timestamp": 1638373714354,
     "user": {
      "displayName": "Rahul Kumar",
      "photoUrl": "https://lh3.googleusercontent.com/a-/AOh14GjMLooCThM9vWBSGvwf32JMjtszpIkIztj3alUAhMs=s64",
      "userId": "03490918626299573549"
     },
     "user_tz": -330
    },
    "id": "NnEMwycXopJS",
    "outputId": "6d48f06f-6555-4ca3-9356-61b7dbd3f1c3"
   },
   "outputs": [
    {
     "data": {
      "text/plain": [
       "0            ACURA\n",
       "1            BUICK\n",
       "2         CADILLAC\n",
       "3        CHEVROLET\n",
       "4         CHRYSLER\n",
       "5            DODGE\n",
       "6             FORD\n",
       "7              GMC\n",
       "8            HONDA\n",
       "9           HUMMER\n",
       "10         HYUNDAI\n",
       "11        INFINITI\n",
       "12           ISUZU\n",
       "13            JEEP\n",
       "14             KIA\n",
       "15           LEXUS\n",
       "16         LINCOLN\n",
       "17           MAZDA\n",
       "18         MERCURY\n",
       "19            MINI\n",
       "20      MITSUBISHI\n",
       "21          NISSAN\n",
       "22      OLDSMOBILE\n",
       "23        PLYMOUTH\n",
       "24         PONTIAC\n",
       "25          SATURN\n",
       "26           SCION\n",
       "27          SUBARU\n",
       "28          SUZUKI\n",
       "29          TOYOTA\n",
       "30    TOYOTA SCION\n",
       "31      VOLKSWAGEN\n",
       "32           VOLVO\n",
       "Name: Make, dtype: object"
      ]
     },
     "execution_count": 98,
     "metadata": {},
     "output_type": "execute_result"
    }
   ],
   "source": [
    "#car manufacturing companies\n",
    "train_df.groupby(by='Make',as_index=False).count()['Make']"
   ]
  },
  {
   "cell_type": "code",
   "execution_count": 99,
   "metadata": {
    "colab": {
     "base_uri": "https://localhost:8080/",
     "height": 907
    },
    "executionInfo": {
     "elapsed": 1774,
     "status": "ok",
     "timestamp": 1638373716124,
     "user": {
      "displayName": "Rahul Kumar",
      "photoUrl": "https://lh3.googleusercontent.com/a-/AOh14GjMLooCThM9vWBSGvwf32JMjtszpIkIztj3alUAhMs=s64",
      "userId": "03490918626299573549"
     },
     "user_tz": -330
    },
    "id": "_rA4r9ven1jV",
    "outputId": "0c911972-805d-4f1d-fc3a-93656a8b6d55"
   },
   "outputs": [
    {
     "data": {
      "image/png": "[encoded data removed]",
      "text/plain": [
       "<Figure size 1080x1080 with 1 Axes>"
      ]
     },
     "metadata": {
      "needs_background": "light"
     },
     "output_type": "display_data"
    }
   ],
   "source": [
    "import matplotlib.patches as mpatches\n",
    "\n",
    "plt.figure(figsize=(15,15))\n",
    "sns.barplot(x=train_df[train_df.IsBadBuy == 0].groupby(by='Make',as_index=False).count().Color,y=train_df[train_df.IsBadBuy == 0].groupby(by='Make').count().index, color='salmon'\n",
    ",label='dd')\n",
    "sns.barplot(x=train_df[train_df.IsBadBuy == 1].groupby(by='Make',as_index=False).count().Color,y=train_df[train_df.IsBadBuy == 1].groupby(by='Make').count().index,color='cyan',label='abc');\n",
    "\n",
    "plt.ylabel('Car Companies')\n",
    "plt.xlabel('Count of those cars bought at auction');\n",
    "plt.title('Company wise distribution of car bought')\n",
    "\n",
    "salmon_patch = mpatches.Patch(color='salmon', label='IsBadBuy(0)')\n",
    "cyan_patch = mpatches.Patch(color='cyan', label='IsBadBuy(1)')\n",
    "\n",
    "plt.legend(handles=[salmon_patch,cyan_patch]);"
   ]
  },
  {
   "cell_type": "code",
   "execution_count": 100,
   "metadata": {
    "colab": {
     "base_uri": "https://localhost:8080/"
    },
    "executionInfo": {
     "elapsed": 18,
     "status": "ok",
     "timestamp": 1638373716124,
     "user": {
      "displayName": "Rahul Kumar",
      "photoUrl": "https://lh3.googleusercontent.com/a-/AOh14GjMLooCThM9vWBSGvwf32JMjtszpIkIztj3alUAhMs=s64",
      "userId": "03490918626299573549"
     },
     "user_tz": -330
    },
    "id": "3mnX-SUToC4J",
    "outputId": "550a1564-d59c-4658-c8a0-e067c82fe71c"
   },
   "outputs": [
    {
     "name": "stdout",
     "output_type": "stream",
     "text": [
      "<class 'pandas.core.frame.DataFrame'>\n",
      "RangeIndex: 72983 entries, 0 to 72982\n",
      "Data columns (total 34 columns):\n",
      " #   Column                             Non-Null Count  Dtype  \n",
      "---  ------                             --------------  -----  \n",
      " 0   RefId                              72983 non-null  int64  \n",
      " 1   IsBadBuy                           72983 non-null  int64  \n",
      " 2   PurchDate                          72983 non-null  object \n",
      " 3   Auction                            72983 non-null  object \n",
      " 4   VehYear                            72983 non-null  int64  \n",
      " 5   VehicleAge                         72983 non-null  int64  \n",
      " 6   Make                               72983 non-null  object \n",
      " 7   Model                              72983 non-null  object \n",
      " 8   Trim                               70623 non-null  object \n",
      " 9   SubModel                           72975 non-null  object \n",
      " 10  Color                              72975 non-null  object \n",
      " 11  Transmission                       72974 non-null  object \n",
      " 12  WheelTypeID                        69814 non-null  float64\n",
      " 13  WheelType                          69809 non-null  object \n",
      " 14  VehOdo                             72983 non-null  int64  \n",
      " 15  Nationality                        72978 non-null  object \n",
      " 16  Size                               72978 non-null  object \n",
      " 17  TopThreeAmericanName               72978 non-null  object \n",
      " 18  MMRAcquisitionAuctionAveragePrice  72965 non-null  float64\n",
      " 19  MMRAcquisitionAuctionCleanPrice    72965 non-null  float64\n",
      " 20  MMRAcquisitionRetailAveragePrice   72965 non-null  float64\n",
      " 21  MMRAcquisitonRetailCleanPrice      72965 non-null  float64\n",
      " 22  MMRCurrentAuctionAveragePrice      72668 non-null  float64\n",
      " 23  MMRCurrentAuctionCleanPrice        72668 non-null  float64\n",
      " 24  MMRCurrentRetailAveragePrice       72668 non-null  float64\n",
      " 25  MMRCurrentRetailCleanPrice         72668 non-null  float64\n",
      " 26  PRIMEUNIT                          3419 non-null   object \n",
      " 27  AUCGUART                           3419 non-null   object \n",
      " 28  BYRNO                              72983 non-null  int64  \n",
      " 29  VNZIP1                             72983 non-null  int64  \n",
      " 30  VNST                               72983 non-null  object \n",
      " 31  VehBCost                           72983 non-null  float64\n",
      " 32  IsOnlineSale                       72983 non-null  int64  \n",
      " 33  WarrantyCost                       72983 non-null  int64  \n",
      "dtypes: float64(10), int64(9), object(15)\n",
      "memory usage: 18.9+ MB\n"
     ]
    }
   ],
   "source": [
    "train_df.info()"
   ]
  },
  {
   "cell_type": "code",
   "execution_count": 101,
   "metadata": {
    "colab": {
     "base_uri": "https://localhost:8080/"
    },
    "executionInfo": {
     "elapsed": 9,
     "status": "ok",
     "timestamp": 1638373716124,
     "user": {
      "displayName": "Rahul Kumar",
      "photoUrl": "https://lh3.googleusercontent.com/a-/AOh14GjMLooCThM9vWBSGvwf32JMjtszpIkIztj3alUAhMs=s64",
      "userId": "03490918626299573549"
     },
     "user_tz": -330
    },
    "id": "-ZIbiCebyHbw",
    "outputId": "668821bc-1851-47bb-fa51-88ced10658ce"
   },
   "outputs": [
    {
     "data": {
      "text/plain": [
       "array(['ADESA', 'OTHER', 'MANHEIM'], dtype=object)"
      ]
     },
     "execution_count": 101,
     "metadata": {},
     "output_type": "execute_result"
    }
   ],
   "source": [
    "train_df.Auction.unique()"
   ]
  },
  {
   "cell_type": "code",
   "execution_count": 102,
   "metadata": {
    "colab": {
     "base_uri": "https://localhost:8080/"
    },
    "executionInfo": {
     "elapsed": 4997,
     "status": "ok",
     "timestamp": 1638373721119,
     "user": {
      "displayName": "Rahul Kumar",
      "photoUrl": "https://lh3.googleusercontent.com/a-/AOh14GjMLooCThM9vWBSGvwf32JMjtszpIkIztj3alUAhMs=s64",
      "userId": "03490918626299573549"
     },
     "user_tz": -330
    },
    "id": "2-fIEqf013An",
    "outputId": "e015cfde-de8f-45be-9d5d-21f26fd5793e"
   },
   "outputs": [
    {
     "data": {
      "image/png": "[encoded data removed]",
      "text/plain": [
       "<Figure size 720x360 with 1 Axes>"
      ]
     },
     "metadata": {
      "needs_background": "light"
     },
     "output_type": "display_data"
    }
   ],
   "source": [
    "sns.scatterplot(x='MMRCurrentRetailAveragePrice',y='MMRCurrentRetailCleanPrice',hue='IsBadBuy',data=train_df);"
   ]
  },
  {
   "cell_type": "code",
   "execution_count": 103,
   "metadata": {
    "colab": {
     "base_uri": "https://localhost:8080/",
     "height": 344
    },
    "executionInfo": {
     "elapsed": 4347,
     "status": "ok",
     "timestamp": 1638373725446,
     "user": {
      "displayName": "Rahul Kumar",
      "photoUrl": "https://lh3.googleusercontent.com/a-/AOh14GjMLooCThM9vWBSGvwf32JMjtszpIkIztj3alUAhMs=s64",
      "userId": "03490918626299573549"
     },
     "user_tz": -330
    },
    "id": "V_i3Y1Em2TjT",
    "outputId": "2beec5a2-d830-412e-8e9c-2bbdc6f2a982"
   },
   "outputs": [
    {
     "data": {
      "image/png": "[encoded data removed]",
      "text/plain": [
       "<Figure size 720x360 with 1 Axes>"
      ]
     },
     "metadata": {
      "needs_background": "light"
     },
     "output_type": "display_data"
    }
   ],
   "source": [
    "sns.scatterplot(x='MMRCurrentAuctionAveragePrice',y='MMRCurrentAuctionCleanPrice',hue='IsBadBuy', data=train_df,);"
   ]
  },
  {
   "cell_type": "code",
   "execution_count": 104,
   "metadata": {
    "colab": {
     "base_uri": "https://localhost:8080/",
     "height": 344
    },
    "executionInfo": {
     "elapsed": 4877,
     "status": "ok",
     "timestamp": 1638373730321,
     "user": {
      "displayName": "Rahul Kumar",
      "photoUrl": "https://lh3.googleusercontent.com/a-/AOh14GjMLooCThM9vWBSGvwf32JMjtszpIkIztj3alUAhMs=s64",
      "userId": "03490918626299573549"
     },
     "user_tz": -330
    },
    "id": "C8YYEVPu4Nba",
    "outputId": "353f16f4-21ad-416d-e761-f5b160327a77"
   },
   "outputs": [
    {
     "data": {
      "image/png": "[encoded data removed]",
      "text/plain": [
       "<Figure size 720x360 with 1 Axes>"
      ]
     },
     "metadata": {
      "needs_background": "light"
     },
     "output_type": "display_data"
    }
   ],
   "source": [
    "sns.scatterplot(x='MMRCurrentRetailAveragePrice', y='MMRCurrentAuctionCleanPrice',hue='IsBadBuy',data=train_df);"
   ]
  },
  {
   "cell_type": "code",
   "execution_count": 105,
   "metadata": {
    "colab": {
     "base_uri": "https://localhost:8080/",
     "height": 344
    },
    "executionInfo": {
     "elapsed": 5045,
     "status": "ok",
     "timestamp": 1638373735362,
     "user": {
      "displayName": "Rahul Kumar",
      "photoUrl": "https://lh3.googleusercontent.com/a-/AOh14GjMLooCThM9vWBSGvwf32JMjtszpIkIztj3alUAhMs=s64",
      "userId": "03490918626299573549"
     },
     "user_tz": -330
    },
    "id": "EQJ50_IJ4sGh",
    "outputId": "f15b6d0a-6465-49ff-8156-188d89d6092e"
   },
   "outputs": [
    {
     "data": {
      "image/png": "[encoded data removed]",
      "text/plain": [
       "<Figure size 720x360 with 1 Axes>"
      ]
     },
     "metadata": {
      "needs_background": "light"
     },
     "output_type": "display_data"
    }
   ],
   "source": [
    "sns.scatterplot(x='MMRCurrentRetailAveragePrice', y='MMRCurrentAuctionAveragePrice',hue='IsBadBuy',data=train_df);"
   ]
  },
  {
   "cell_type": "markdown",
   "metadata": {
    "id": "cNomPtPS4Vf_"
   },
   "source": [
    "\n",
    "\n",
    ">  Inferences Drawn from Visual Analysis\n",
    "\n",
    "\n",
    "*   In the years 2003, 2004 and 2005 most cars bought were not a good purchase.\n",
    "\n",
    "*   In the years 2004, 2005, 2005, 2006 and 2007 most cars bought were good purchase.\n",
    "*   Vehicles bought that were older than 4-6 years were not purchase.\n",
    "\n",
    "*   2000+ cars bought at auction whose MMRAcquisitionAuctionAveragePrice(Acquisition price for this vehicle in average condition at time of purchase) was between 3000-9000 were a bad buy others were good buy.\n",
    "\n",
    "*   1800+ cars bought at auction whose MMRCurrentRetailAveragePrice (Acquisition price for this vehicle in the retail market in average condition as of current day) was between 6000-11000 were a bad buy others were good buy.\n",
    "\n",
    "\n",
    "\n"
   ]
  },
  {
   "cell_type": "markdown",
   "metadata": {},
   "source": [
    "## **Pereparing the dataset for training**"
   ]
  },
  {
   "cell_type": "markdown",
   "metadata": {
    "id": "z2bkgTYS8dJf"
   },
   "source": [
    "## **Date**"
   ]
  },
  {
   "cell_type": "code",
   "execution_count": 106,
   "metadata": {
    "id": "RLRlTMCx8UFO"
   },
   "outputs": [],
   "source": [
    "def extract_year(df):\n",
    "  df['Date'] = pd.to_datetime(df.PurchDate)\n",
    "  df['PurchaseYear'] = df.Date.dt.year\n",
    "  df['PurchaseMonth'] = df.Date.dt.month\n",
    "  df['PurchaseDay'] = df.Date.dt.day\n",
    "  return df"
   ]
  },
  {
   "cell_type": "code",
   "execution_count": 107,
   "metadata": {
    "colab": {
     "base_uri": "https://localhost:8080/",
     "height": 617
    },
    "executionInfo": {
     "elapsed": 57,
     "status": "ok",
     "timestamp": 1638373735363,
     "user": {
      "displayName": "Rahul Kumar",
      "photoUrl": "https://lh3.googleusercontent.com/a-/AOh14GjMLooCThM9vWBSGvwf32JMjtszpIkIztj3alUAhMs=s64",
      "userId": "03490918626299573549"
     },
     "user_tz": -330
    },
    "id": "_N9yWrBf9gcq",
    "outputId": "e20a0fa9-11a1-4ae1-a9d0-fb6d10b69cc4"
   },
   "outputs": [
    {
     "data": {
      "text/html": [
       "<div>\n",
       "<style scoped>\n",
       "    .dataframe tbody tr th:only-of-type {\n",
       "        vertical-align: middle;\n",
       "    }\n",
       "\n",
       "    .dataframe tbody tr th {\n",
       "        vertical-align: top;\n",
       "    }\n",
       "\n",
       "    .dataframe thead th {\n",
       "        text-align: right;\n",
       "    }\n",
       "</style>\n",
       "<table border=\"1\" class=\"dataframe\">\n",
       "  <thead>\n",
       "    <tr style=\"text-align: right;\">\n",
       "      <th></th>\n",
       "      <th>RefId</th>\n",
       "      <th>PurchDate</th>\n",
       "      <th>Auction</th>\n",
       "      <th>VehYear</th>\n",
       "      <th>VehicleAge</th>\n",
       "      <th>Make</th>\n",
       "      <th>Model</th>\n",
       "      <th>Trim</th>\n",
       "      <th>SubModel</th>\n",
       "      <th>Color</th>\n",
       "      <th>...</th>\n",
       "      <th>BYRNO</th>\n",
       "      <th>VNZIP1</th>\n",
       "      <th>VNST</th>\n",
       "      <th>VehBCost</th>\n",
       "      <th>IsOnlineSale</th>\n",
       "      <th>WarrantyCost</th>\n",
       "      <th>Date</th>\n",
       "      <th>PurchaseYear</th>\n",
       "      <th>PurchaseMonth</th>\n",
       "      <th>PurchaseDay</th>\n",
       "    </tr>\n",
       "  </thead>\n",
       "  <tbody>\n",
       "    <tr>\n",
       "      <th>0</th>\n",
       "      <td>73015</td>\n",
       "      <td>12/2/2009</td>\n",
       "      <td>ADESA</td>\n",
       "      <td>2005</td>\n",
       "      <td>4</td>\n",
       "      <td>PONTIAC</td>\n",
       "      <td>GRAND PRIX</td>\n",
       "      <td>Bas</td>\n",
       "      <td>4D SEDAN</td>\n",
       "      <td>SILVER</td>\n",
       "      <td>...</td>\n",
       "      <td>18881</td>\n",
       "      <td>30212</td>\n",
       "      <td>GA</td>\n",
       "      <td>6500.0</td>\n",
       "      <td>0</td>\n",
       "      <td>2152</td>\n",
       "      <td>2009-12-02</td>\n",
       "      <td>2009</td>\n",
       "      <td>12</td>\n",
       "      <td>2</td>\n",
       "    </tr>\n",
       "    <tr>\n",
       "      <th>1</th>\n",
       "      <td>73016</td>\n",
       "      <td>12/2/2009</td>\n",
       "      <td>ADESA</td>\n",
       "      <td>2005</td>\n",
       "      <td>4</td>\n",
       "      <td>CHEVROLET</td>\n",
       "      <td>MALIBU V6</td>\n",
       "      <td>LS</td>\n",
       "      <td>4D SEDAN LS</td>\n",
       "      <td>SILVER</td>\n",
       "      <td>...</td>\n",
       "      <td>18111</td>\n",
       "      <td>30212</td>\n",
       "      <td>GA</td>\n",
       "      <td>6300.0</td>\n",
       "      <td>0</td>\n",
       "      <td>1118</td>\n",
       "      <td>2009-12-02</td>\n",
       "      <td>2009</td>\n",
       "      <td>12</td>\n",
       "      <td>2</td>\n",
       "    </tr>\n",
       "    <tr>\n",
       "      <th>2</th>\n",
       "      <td>73017</td>\n",
       "      <td>12/2/2009</td>\n",
       "      <td>ADESA</td>\n",
       "      <td>2006</td>\n",
       "      <td>3</td>\n",
       "      <td>DODGE</td>\n",
       "      <td>DURANGO 2WD V8</td>\n",
       "      <td>Adv</td>\n",
       "      <td>4D SUV 4.7L ADVENTURER</td>\n",
       "      <td>SILVER</td>\n",
       "      <td>...</td>\n",
       "      <td>18111</td>\n",
       "      <td>30212</td>\n",
       "      <td>GA</td>\n",
       "      <td>9700.0</td>\n",
       "      <td>0</td>\n",
       "      <td>1215</td>\n",
       "      <td>2009-12-02</td>\n",
       "      <td>2009</td>\n",
       "      <td>12</td>\n",
       "      <td>2</td>\n",
       "    </tr>\n",
       "    <tr>\n",
       "      <th>3</th>\n",
       "      <td>73018</td>\n",
       "      <td>12/2/2009</td>\n",
       "      <td>ADESA</td>\n",
       "      <td>2002</td>\n",
       "      <td>7</td>\n",
       "      <td>SATURN</td>\n",
       "      <td>L SERIES</td>\n",
       "      <td>L20</td>\n",
       "      <td>4D SEDAN L200</td>\n",
       "      <td>GOLD</td>\n",
       "      <td>...</td>\n",
       "      <td>18881</td>\n",
       "      <td>30212</td>\n",
       "      <td>GA</td>\n",
       "      <td>4150.0</td>\n",
       "      <td>0</td>\n",
       "      <td>1933</td>\n",
       "      <td>2009-12-02</td>\n",
       "      <td>2009</td>\n",
       "      <td>12</td>\n",
       "      <td>2</td>\n",
       "    </tr>\n",
       "    <tr>\n",
       "      <th>4</th>\n",
       "      <td>73019</td>\n",
       "      <td>12/2/2009</td>\n",
       "      <td>ADESA</td>\n",
       "      <td>2007</td>\n",
       "      <td>2</td>\n",
       "      <td>HYUNDAI</td>\n",
       "      <td>ACCENT</td>\n",
       "      <td>GS</td>\n",
       "      <td>2D COUPE GS</td>\n",
       "      <td>BLUE</td>\n",
       "      <td>...</td>\n",
       "      <td>18111</td>\n",
       "      <td>30212</td>\n",
       "      <td>GA</td>\n",
       "      <td>4100.0</td>\n",
       "      <td>0</td>\n",
       "      <td>920</td>\n",
       "      <td>2009-12-02</td>\n",
       "      <td>2009</td>\n",
       "      <td>12</td>\n",
       "      <td>2</td>\n",
       "    </tr>\n",
       "    <tr>\n",
       "      <th>...</th>\n",
       "      <td>...</td>\n",
       "      <td>...</td>\n",
       "      <td>...</td>\n",
       "      <td>...</td>\n",
       "      <td>...</td>\n",
       "      <td>...</td>\n",
       "      <td>...</td>\n",
       "      <td>...</td>\n",
       "      <td>...</td>\n",
       "      <td>...</td>\n",
       "      <td>...</td>\n",
       "      <td>...</td>\n",
       "      <td>...</td>\n",
       "      <td>...</td>\n",
       "      <td>...</td>\n",
       "      <td>...</td>\n",
       "      <td>...</td>\n",
       "      <td>...</td>\n",
       "      <td>...</td>\n",
       "      <td>...</td>\n",
       "      <td>...</td>\n",
       "    </tr>\n",
       "    <tr>\n",
       "      <th>48702</th>\n",
       "      <td>121742</td>\n",
       "      <td>11/17/2010</td>\n",
       "      <td>MANHEIM</td>\n",
       "      <td>2005</td>\n",
       "      <td>5</td>\n",
       "      <td>FORD</td>\n",
       "      <td>FIVE HUNDRED</td>\n",
       "      <td>SEL</td>\n",
       "      <td>4D SEDAN SEL</td>\n",
       "      <td>BLACK</td>\n",
       "      <td>...</td>\n",
       "      <td>20928</td>\n",
       "      <td>33411</td>\n",
       "      <td>FL</td>\n",
       "      <td>7955.0</td>\n",
       "      <td>0</td>\n",
       "      <td>1633</td>\n",
       "      <td>2010-11-17</td>\n",
       "      <td>2010</td>\n",
       "      <td>11</td>\n",
       "      <td>17</td>\n",
       "    </tr>\n",
       "    <tr>\n",
       "      <th>48703</th>\n",
       "      <td>121743</td>\n",
       "      <td>11/17/2010</td>\n",
       "      <td>MANHEIM</td>\n",
       "      <td>2007</td>\n",
       "      <td>3</td>\n",
       "      <td>TOYOTA</td>\n",
       "      <td>COROLLA</td>\n",
       "      <td>CE</td>\n",
       "      <td>4D SEDAN CE</td>\n",
       "      <td>GREEN</td>\n",
       "      <td>...</td>\n",
       "      <td>20928</td>\n",
       "      <td>33411</td>\n",
       "      <td>FL</td>\n",
       "      <td>7035.0</td>\n",
       "      <td>0</td>\n",
       "      <td>594</td>\n",
       "      <td>2010-11-17</td>\n",
       "      <td>2010</td>\n",
       "      <td>11</td>\n",
       "      <td>17</td>\n",
       "    </tr>\n",
       "    <tr>\n",
       "      <th>48704</th>\n",
       "      <td>121744</td>\n",
       "      <td>11/17/2010</td>\n",
       "      <td>MANHEIM</td>\n",
       "      <td>2006</td>\n",
       "      <td>4</td>\n",
       "      <td>KIA</td>\n",
       "      <td>SPECTRA</td>\n",
       "      <td>EX</td>\n",
       "      <td>4D SEDAN EX</td>\n",
       "      <td>BLACK</td>\n",
       "      <td>...</td>\n",
       "      <td>20928</td>\n",
       "      <td>33411</td>\n",
       "      <td>FL</td>\n",
       "      <td>6335.0</td>\n",
       "      <td>0</td>\n",
       "      <td>594</td>\n",
       "      <td>2010-11-17</td>\n",
       "      <td>2010</td>\n",
       "      <td>11</td>\n",
       "      <td>17</td>\n",
       "    </tr>\n",
       "    <tr>\n",
       "      <th>48705</th>\n",
       "      <td>121745</td>\n",
       "      <td>11/17/2010</td>\n",
       "      <td>MANHEIM</td>\n",
       "      <td>2005</td>\n",
       "      <td>5</td>\n",
       "      <td>MAZDA</td>\n",
       "      <td>MAZDA3</td>\n",
       "      <td>s</td>\n",
       "      <td>4D SEDAN GT</td>\n",
       "      <td>SILVER</td>\n",
       "      <td>...</td>\n",
       "      <td>20928</td>\n",
       "      <td>33411</td>\n",
       "      <td>FL</td>\n",
       "      <td>8055.0</td>\n",
       "      <td>0</td>\n",
       "      <td>1038</td>\n",
       "      <td>2010-11-17</td>\n",
       "      <td>2010</td>\n",
       "      <td>11</td>\n",
       "      <td>17</td>\n",
       "    </tr>\n",
       "    <tr>\n",
       "      <th>48706</th>\n",
       "      <td>121746</td>\n",
       "      <td>11/17/2010</td>\n",
       "      <td>MANHEIM</td>\n",
       "      <td>2003</td>\n",
       "      <td>7</td>\n",
       "      <td>BUICK</td>\n",
       "      <td>RENDEZVOUS AWD</td>\n",
       "      <td>CX</td>\n",
       "      <td>4D SUV CX</td>\n",
       "      <td>GOLD</td>\n",
       "      <td>...</td>\n",
       "      <td>20928</td>\n",
       "      <td>33411</td>\n",
       "      <td>FL</td>\n",
       "      <td>7755.0</td>\n",
       "      <td>0</td>\n",
       "      <td>5392</td>\n",
       "      <td>2010-11-17</td>\n",
       "      <td>2010</td>\n",
       "      <td>11</td>\n",
       "      <td>17</td>\n",
       "    </tr>\n",
       "  </tbody>\n",
       "</table>\n",
       "<p>48707 rows × 37 columns</p>\n",
       "</div>"
      ],
      "text/plain": [
       "        RefId   PurchDate  Auction  VehYear  VehicleAge       Make  \\\n",
       "0       73015   12/2/2009    ADESA     2005           4    PONTIAC   \n",
       "1       73016   12/2/2009    ADESA     2005           4  CHEVROLET   \n",
       "2       73017   12/2/2009    ADESA     2006           3      DODGE   \n",
       "3       73018   12/2/2009    ADESA     2002           7     SATURN   \n",
       "4       73019   12/2/2009    ADESA     2007           2    HYUNDAI   \n",
       "...       ...         ...      ...      ...         ...        ...   \n",
       "48702  121742  11/17/2010  MANHEIM     2005           5       FORD   \n",
       "48703  121743  11/17/2010  MANHEIM     2007           3     TOYOTA   \n",
       "48704  121744  11/17/2010  MANHEIM     2006           4        KIA   \n",
       "48705  121745  11/17/2010  MANHEIM     2005           5      MAZDA   \n",
       "48706  121746  11/17/2010  MANHEIM     2003           7      BUICK   \n",
       "\n",
       "                Model Trim                SubModel   Color  ...  BYRNO  \\\n",
       "0          GRAND PRIX  Bas                4D SEDAN  SILVER  ...  18881   \n",
       "1           MALIBU V6   LS             4D SEDAN LS  SILVER  ...  18111   \n",
       "2      DURANGO 2WD V8  Adv  4D SUV 4.7L ADVENTURER  SILVER  ...  18111   \n",
       "3            L SERIES  L20           4D SEDAN L200    GOLD  ...  18881   \n",
       "4              ACCENT   GS             2D COUPE GS    BLUE  ...  18111   \n",
       "...               ...  ...                     ...     ...  ...    ...   \n",
       "48702    FIVE HUNDRED  SEL            4D SEDAN SEL   BLACK  ...  20928   \n",
       "48703         COROLLA   CE             4D SEDAN CE   GREEN  ...  20928   \n",
       "48704         SPECTRA   EX             4D SEDAN EX   BLACK  ...  20928   \n",
       "48705          MAZDA3    s             4D SEDAN GT  SILVER  ...  20928   \n",
       "48706  RENDEZVOUS AWD   CX               4D SUV CX    GOLD  ...  20928   \n",
       "\n",
       "       VNZIP1 VNST  VehBCost IsOnlineSale WarrantyCost       Date  \\\n",
       "0       30212   GA    6500.0            0         2152 2009-12-02   \n",
       "1       30212   GA    6300.0            0         1118 2009-12-02   \n",
       "2       30212   GA    9700.0            0         1215 2009-12-02   \n",
       "3       30212   GA    4150.0            0         1933 2009-12-02   \n",
       "4       30212   GA    4100.0            0          920 2009-12-02   \n",
       "...       ...  ...       ...          ...          ...        ...   \n",
       "48702   33411   FL    7955.0            0         1633 2010-11-17   \n",
       "48703   33411   FL    7035.0            0          594 2010-11-17   \n",
       "48704   33411   FL    6335.0            0          594 2010-11-17   \n",
       "48705   33411   FL    8055.0            0         1038 2010-11-17   \n",
       "48706   33411   FL    7755.0            0         5392 2010-11-17   \n",
       "\n",
       "       PurchaseYear  PurchaseMonth  PurchaseDay  \n",
       "0              2009             12            2  \n",
       "1              2009             12            2  \n",
       "2              2009             12            2  \n",
       "3              2009             12            2  \n",
       "4              2009             12            2  \n",
       "...             ...            ...          ...  \n",
       "48702          2010             11           17  \n",
       "48703          2010             11           17  \n",
       "48704          2010             11           17  \n",
       "48705          2010             11           17  \n",
       "48706          2010             11           17  \n",
       "\n",
       "[48707 rows x 37 columns]"
      ]
     },
     "execution_count": 107,
     "metadata": {},
     "output_type": "execute_result"
    }
   ],
   "source": [
    "extract_year(train_df)\n",
    "extract_year(test_df)"
   ]
  },
  {
   "cell_type": "code",
   "execution_count": 108,
   "metadata": {
    "colab": {
     "base_uri": "https://localhost:8080/",
     "height": 365
    },
    "executionInfo": {
     "elapsed": 56,
     "status": "ok",
     "timestamp": 1638373735363,
     "user": {
      "displayName": "Rahul Kumar",
      "photoUrl": "https://lh3.googleusercontent.com/a-/AOh14GjMLooCThM9vWBSGvwf32JMjtszpIkIztj3alUAhMs=s64",
      "userId": "03490918626299573549"
     },
     "user_tz": -330
    },
    "id": "6a1jMlrB9rPO",
    "outputId": "0710f4b5-e960-4648-86be-40d4b157cc90"
   },
   "outputs": [
    {
     "data": {
      "text/html": [
       "<div>\n",
       "<style scoped>\n",
       "    .dataframe tbody tr th:only-of-type {\n",
       "        vertical-align: middle;\n",
       "    }\n",
       "\n",
       "    .dataframe tbody tr th {\n",
       "        vertical-align: top;\n",
       "    }\n",
       "\n",
       "    .dataframe thead th {\n",
       "        text-align: right;\n",
       "    }\n",
       "</style>\n",
       "<table border=\"1\" class=\"dataframe\">\n",
       "  <thead>\n",
       "    <tr style=\"text-align: right;\">\n",
       "      <th></th>\n",
       "      <th>RefId</th>\n",
       "      <th>IsBadBuy</th>\n",
       "      <th>PurchDate</th>\n",
       "      <th>Auction</th>\n",
       "      <th>VehYear</th>\n",
       "      <th>VehicleAge</th>\n",
       "      <th>Make</th>\n",
       "      <th>Model</th>\n",
       "      <th>Trim</th>\n",
       "      <th>SubModel</th>\n",
       "      <th>...</th>\n",
       "      <th>BYRNO</th>\n",
       "      <th>VNZIP1</th>\n",
       "      <th>VNST</th>\n",
       "      <th>VehBCost</th>\n",
       "      <th>IsOnlineSale</th>\n",
       "      <th>WarrantyCost</th>\n",
       "      <th>Date</th>\n",
       "      <th>PurchaseYear</th>\n",
       "      <th>PurchaseMonth</th>\n",
       "      <th>PurchaseDay</th>\n",
       "    </tr>\n",
       "  </thead>\n",
       "  <tbody>\n",
       "    <tr>\n",
       "      <th>15960</th>\n",
       "      <td>15971</td>\n",
       "      <td>0</td>\n",
       "      <td>10/27/2009</td>\n",
       "      <td>MANHEIM</td>\n",
       "      <td>2006</td>\n",
       "      <td>3</td>\n",
       "      <td>FORD</td>\n",
       "      <td>TAURUS 3.0L V6 EFI</td>\n",
       "      <td>SEL</td>\n",
       "      <td>4D SEDAN SEL</td>\n",
       "      <td>...</td>\n",
       "      <td>19662</td>\n",
       "      <td>77041</td>\n",
       "      <td>TX</td>\n",
       "      <td>5530.0</td>\n",
       "      <td>0</td>\n",
       "      <td>754</td>\n",
       "      <td>2009-10-27</td>\n",
       "      <td>2009</td>\n",
       "      <td>10</td>\n",
       "      <td>27</td>\n",
       "    </tr>\n",
       "    <tr>\n",
       "      <th>30132</th>\n",
       "      <td>30153</td>\n",
       "      <td>0</td>\n",
       "      <td>6/16/2010</td>\n",
       "      <td>MANHEIM</td>\n",
       "      <td>2006</td>\n",
       "      <td>4</td>\n",
       "      <td>PONTIAC</td>\n",
       "      <td>GRAND PRIX</td>\n",
       "      <td>Bas</td>\n",
       "      <td>4D SEDAN</td>\n",
       "      <td>...</td>\n",
       "      <td>20928</td>\n",
       "      <td>32824</td>\n",
       "      <td>FL</td>\n",
       "      <td>6750.0</td>\n",
       "      <td>0</td>\n",
       "      <td>2152</td>\n",
       "      <td>2010-06-16</td>\n",
       "      <td>2010</td>\n",
       "      <td>6</td>\n",
       "      <td>16</td>\n",
       "    </tr>\n",
       "    <tr>\n",
       "      <th>67201</th>\n",
       "      <td>67233</td>\n",
       "      <td>1</td>\n",
       "      <td>1/27/2010</td>\n",
       "      <td>ADESA</td>\n",
       "      <td>2005</td>\n",
       "      <td>5</td>\n",
       "      <td>SUZUKI</td>\n",
       "      <td>FORENZA</td>\n",
       "      <td>S</td>\n",
       "      <td>4D SEDAN</td>\n",
       "      <td>...</td>\n",
       "      <td>18822</td>\n",
       "      <td>77086</td>\n",
       "      <td>TX</td>\n",
       "      <td>5200.0</td>\n",
       "      <td>0</td>\n",
       "      <td>533</td>\n",
       "      <td>2010-01-27</td>\n",
       "      <td>2010</td>\n",
       "      <td>1</td>\n",
       "      <td>27</td>\n",
       "    </tr>\n",
       "    <tr>\n",
       "      <th>37979</th>\n",
       "      <td>38002</td>\n",
       "      <td>0</td>\n",
       "      <td>6/19/2009</td>\n",
       "      <td>MANHEIM</td>\n",
       "      <td>2006</td>\n",
       "      <td>3</td>\n",
       "      <td>FORD</td>\n",
       "      <td>TAURUS 3.0L V6 EFI</td>\n",
       "      <td>SE</td>\n",
       "      <td>4D SEDAN SE</td>\n",
       "      <td>...</td>\n",
       "      <td>22916</td>\n",
       "      <td>89165</td>\n",
       "      <td>NV</td>\n",
       "      <td>4185.0</td>\n",
       "      <td>0</td>\n",
       "      <td>1053</td>\n",
       "      <td>2009-06-19</td>\n",
       "      <td>2009</td>\n",
       "      <td>6</td>\n",
       "      <td>19</td>\n",
       "    </tr>\n",
       "    <tr>\n",
       "      <th>18178</th>\n",
       "      <td>18190</td>\n",
       "      <td>0</td>\n",
       "      <td>7/28/2010</td>\n",
       "      <td>MANHEIM</td>\n",
       "      <td>2006</td>\n",
       "      <td>4</td>\n",
       "      <td>KIA</td>\n",
       "      <td>OPTIMA V6</td>\n",
       "      <td>EX</td>\n",
       "      <td>4D SEDAN EX</td>\n",
       "      <td>...</td>\n",
       "      <td>21973</td>\n",
       "      <td>32824</td>\n",
       "      <td>FL</td>\n",
       "      <td>6050.0</td>\n",
       "      <td>0</td>\n",
       "      <td>671</td>\n",
       "      <td>2010-07-28</td>\n",
       "      <td>2010</td>\n",
       "      <td>7</td>\n",
       "      <td>28</td>\n",
       "    </tr>\n",
       "  </tbody>\n",
       "</table>\n",
       "<p>5 rows × 38 columns</p>\n",
       "</div>"
      ],
      "text/plain": [
       "       RefId  IsBadBuy   PurchDate  Auction  VehYear  VehicleAge     Make  \\\n",
       "15960  15971         0  10/27/2009  MANHEIM     2006           3     FORD   \n",
       "30132  30153         0   6/16/2010  MANHEIM     2006           4  PONTIAC   \n",
       "67201  67233         1   1/27/2010    ADESA     2005           5   SUZUKI   \n",
       "37979  38002         0   6/19/2009  MANHEIM     2006           3     FORD   \n",
       "18178  18190         0   7/28/2010  MANHEIM     2006           4      KIA   \n",
       "\n",
       "                    Model Trim      SubModel  ...  BYRNO VNZIP1  VNST  \\\n",
       "15960  TAURUS 3.0L V6 EFI  SEL  4D SEDAN SEL  ...  19662  77041    TX   \n",
       "30132          GRAND PRIX  Bas      4D SEDAN  ...  20928  32824    FL   \n",
       "67201             FORENZA    S      4D SEDAN  ...  18822  77086    TX   \n",
       "37979  TAURUS 3.0L V6 EFI   SE   4D SEDAN SE  ...  22916  89165    NV   \n",
       "18178           OPTIMA V6   EX   4D SEDAN EX  ...  21973  32824    FL   \n",
       "\n",
       "      VehBCost  IsOnlineSale WarrantyCost       Date PurchaseYear  \\\n",
       "15960   5530.0             0          754 2009-10-27         2009   \n",
       "30132   6750.0             0         2152 2010-06-16         2010   \n",
       "67201   5200.0             0          533 2010-01-27         2010   \n",
       "37979   4185.0             0         1053 2009-06-19         2009   \n",
       "18178   6050.0             0          671 2010-07-28         2010   \n",
       "\n",
       "       PurchaseMonth  PurchaseDay  \n",
       "15960             10           27  \n",
       "30132              6           16  \n",
       "67201              1           27  \n",
       "37979              6           19  \n",
       "18178              7           28  \n",
       "\n",
       "[5 rows x 38 columns]"
      ]
     },
     "execution_count": 108,
     "metadata": {},
     "output_type": "execute_result"
    }
   ],
   "source": [
    "train_df.sample(5)"
   ]
  },
  {
   "cell_type": "markdown",
   "metadata": {
    "id": "jFmdfYx95HFt"
   },
   "source": [
    "## **Identifying Input and Target Columns**"
   ]
  },
  {
   "cell_type": "code",
   "execution_count": 109,
   "metadata": {
    "colab": {
     "base_uri": "https://localhost:8080/"
    },
    "executionInfo": {
     "elapsed": 56,
     "status": "ok",
     "timestamp": 1638373735364,
     "user": {
      "displayName": "Rahul Kumar",
      "photoUrl": "https://lh3.googleusercontent.com/a-/AOh14GjMLooCThM9vWBSGvwf32JMjtszpIkIztj3alUAhMs=s64",
      "userId": "03490918626299573549"
     },
     "user_tz": -330
    },
    "id": "3ymXz8w_-IzN",
    "outputId": "a87cebf5-704b-4f71-9ae6-6f7f10ba212d"
   },
   "outputs": [
    {
     "name": "stdout",
     "output_type": "stream",
     "text": [
      "<class 'pandas.core.frame.DataFrame'>\n",
      "RangeIndex: 72983 entries, 0 to 72982\n",
      "Data columns (total 38 columns):\n",
      " #   Column                             Non-Null Count  Dtype         \n",
      "---  ------                             --------------  -----         \n",
      " 0   RefId                              72983 non-null  int64         \n",
      " 1   IsBadBuy                           72983 non-null  int64         \n",
      " 2   PurchDate                          72983 non-null  object        \n",
      " 3   Auction                            72983 non-null  object        \n",
      " 4   VehYear                            72983 non-null  int64         \n",
      " 5   VehicleAge                         72983 non-null  int64         \n",
      " 6   Make                               72983 non-null  object        \n",
      " 7   Model                              72983 non-null  object        \n",
      " 8   Trim                               70623 non-null  object        \n",
      " 9   SubModel                           72975 non-null  object        \n",
      " 10  Color                              72975 non-null  object        \n",
      " 11  Transmission                       72974 non-null  object        \n",
      " 12  WheelTypeID                        69814 non-null  float64       \n",
      " 13  WheelType                          69809 non-null  object        \n",
      " 14  VehOdo                             72983 non-null  int64         \n",
      " 15  Nationality                        72978 non-null  object        \n",
      " 16  Size                               72978 non-null  object        \n",
      " 17  TopThreeAmericanName               72978 non-null  object        \n",
      " 18  MMRAcquisitionAuctionAveragePrice  72965 non-null  float64       \n",
      " 19  MMRAcquisitionAuctionCleanPrice    72965 non-null  float64       \n",
      " 20  MMRAcquisitionRetailAveragePrice   72965 non-null  float64       \n",
      " 21  MMRAcquisitonRetailCleanPrice      72965 non-null  float64       \n",
      " 22  MMRCurrentAuctionAveragePrice      72668 non-null  float64       \n",
      " 23  MMRCurrentAuctionCleanPrice        72668 non-null  float64       \n",
      " 24  MMRCurrentRetailAveragePrice       72668 non-null  float64       \n",
      " 25  MMRCurrentRetailCleanPrice         72668 non-null  float64       \n",
      " 26  PRIMEUNIT                          3419 non-null   object        \n",
      " 27  AUCGUART                           3419 non-null   object        \n",
      " 28  BYRNO                              72983 non-null  int64         \n",
      " 29  VNZIP1                             72983 non-null  int64         \n",
      " 30  VNST                               72983 non-null  object        \n",
      " 31  VehBCost                           72983 non-null  float64       \n",
      " 32  IsOnlineSale                       72983 non-null  int64         \n",
      " 33  WarrantyCost                       72983 non-null  int64         \n",
      " 34  Date                               72983 non-null  datetime64[ns]\n",
      " 35  PurchaseYear                       72983 non-null  int64         \n",
      " 36  PurchaseMonth                      72983 non-null  int64         \n",
      " 37  PurchaseDay                        72983 non-null  int64         \n",
      "dtypes: datetime64[ns](1), float64(10), int64(12), object(15)\n",
      "memory usage: 21.2+ MB\n"
     ]
    }
   ],
   "source": [
    "train_df.info()"
   ]
  },
  {
   "cell_type": "code",
   "execution_count": 110,
   "metadata": {
    "colab": {
     "base_uri": "https://localhost:8080/"
    },
    "executionInfo": {
     "elapsed": 45,
     "status": "ok",
     "timestamp": 1638373735364,
     "user": {
      "displayName": "Rahul Kumar",
      "photoUrl": "https://lh3.googleusercontent.com/a-/AOh14GjMLooCThM9vWBSGvwf32JMjtszpIkIztj3alUAhMs=s64",
      "userId": "03490918626299573549"
     },
     "user_tz": -330
    },
    "id": "v-mSVPON7Xdb",
    "outputId": "88655059-5e70-4b1d-f55f-b5d54b935468"
   },
   "outputs": [
    {
     "data": {
      "text/plain": [
       "Index(['RefId', 'IsBadBuy', 'PurchDate', 'Auction', 'VehYear', 'VehicleAge',\n",
       "       'Make', 'Model', 'Trim', 'SubModel', 'Color', 'Transmission',\n",
       "       'WheelTypeID', 'WheelType', 'VehOdo', 'Nationality', 'Size',\n",
       "       'TopThreeAmericanName', 'MMRAcquisitionAuctionAveragePrice',\n",
       "       'MMRAcquisitionAuctionCleanPrice', 'MMRAcquisitionRetailAveragePrice',\n",
       "       'MMRAcquisitonRetailCleanPrice', 'MMRCurrentAuctionAveragePrice',\n",
       "       'MMRCurrentAuctionCleanPrice', 'MMRCurrentRetailAveragePrice',\n",
       "       'MMRCurrentRetailCleanPrice', 'PRIMEUNIT', 'AUCGUART', 'BYRNO',\n",
       "       'VNZIP1', 'VNST', 'VehBCost', 'IsOnlineSale', 'WarrantyCost', 'Date',\n",
       "       'PurchaseYear', 'PurchaseMonth', 'PurchaseDay'],\n",
       "      dtype='object')"
      ]
     },
     "execution_count": 110,
     "metadata": {},
     "output_type": "execute_result"
    }
   ],
   "source": [
    "train_df.columns"
   ]
  },
  {
   "cell_type": "code",
   "execution_count": 111,
   "metadata": {
    "id": "qo3Gh4oq4ztG"
   },
   "outputs": [],
   "source": [
    "input_cols = ['Auction', 'VehYear', 'VehicleAge',\n",
    "       'Make', 'Model', 'Trim', 'SubModel', 'Color', 'Transmission',\n",
    "       'WheelType', 'VehOdo', 'Nationality', 'Size',\n",
    "       'TopThreeAmericanName', 'MMRAcquisitionAuctionAveragePrice',\n",
    "       'MMRAcquisitionAuctionCleanPrice', 'MMRAcquisitionRetailAveragePrice',\n",
    "       'MMRAcquisitonRetailCleanPrice', 'MMRCurrentAuctionAveragePrice',\n",
    "       'MMRCurrentAuctionCleanPrice', 'MMRCurrentRetailAveragePrice',\n",
    "       'MMRCurrentRetailCleanPrice','BYRNO',\n",
    "       'VNZIP1', 'VNST', 'VehBCost', 'IsOnlineSale', 'WarrantyCost',\n",
    "       'PurchaseYear', 'PurchaseMonth', 'PurchaseDay']\n",
    "\n",
    "target_col = 'IsBadBuy' "
   ]
  },
  {
   "cell_type": "code",
   "execution_count": 112,
   "metadata": {
    "id": "1KsSfQTD983-"
   },
   "outputs": [],
   "source": [
    "inputs = train_df[input_cols].copy()\n",
    "targets = train_df[target_col].copy()"
   ]
  },
  {
   "cell_type": "markdown",
   "metadata": {
    "id": "-_h-ibhVQjxP"
   },
   "source": [
    "## **Train Test Validation Splits**"
   ]
  },
  {
   "cell_type": "code",
   "execution_count": 113,
   "metadata": {
    "id": "KI_nfnz0Qi9L"
   },
   "outputs": [],
   "source": [
    "from sklearn.model_selection import train_test_split"
   ]
  },
  {
   "cell_type": "code",
   "execution_count": 114,
   "metadata": {
    "id": "fD8gWtoVQh93"
   },
   "outputs": [],
   "source": [
    "train_val_df, test_split_df = train_test_split(train_df, test_size=0.141, random_state=42)\n",
    "train_df, val_df = train_test_split(train_val_df, test_size=0.16, random_state=42)"
   ]
  },
  {
   "cell_type": "code",
   "execution_count": 115,
   "metadata": {
    "colab": {
     "base_uri": "https://localhost:8080/"
    },
    "executionInfo": {
     "elapsed": 39,
     "status": "ok",
     "timestamp": 1638373735366,
     "user": {
      "displayName": "Rahul Kumar",
      "photoUrl": "https://lh3.googleusercontent.com/a-/AOh14GjMLooCThM9vWBSGvwf32JMjtszpIkIztj3alUAhMs=s64",
      "userId": "03490918626299573549"
     },
     "user_tz": -330
    },
    "id": "8CR84wypTxcX",
    "outputId": "aba7cf03-67a8-4320-ff8e-b395ae5b4b4d"
   },
   "outputs": [
    {
     "data": {
      "text/plain": [
       "(10291, 38)"
      ]
     },
     "execution_count": 115,
     "metadata": {},
     "output_type": "execute_result"
    }
   ],
   "source": [
    "test_split_df.shape"
   ]
  },
  {
   "cell_type": "code",
   "execution_count": 116,
   "metadata": {
    "colab": {
     "base_uri": "https://localhost:8080/",
     "height": 118
    },
    "executionInfo": {
     "elapsed": 32,
     "status": "ok",
     "timestamp": 1638373735367,
     "user": {
      "displayName": "Rahul Kumar",
      "photoUrl": "https://lh3.googleusercontent.com/a-/AOh14GjMLooCThM9vWBSGvwf32JMjtszpIkIztj3alUAhMs=s64",
      "userId": "03490918626299573549"
     },
     "user_tz": -330
    },
    "id": "Ofep2IqZXdtc",
    "outputId": "bdab8598-ca45-4b8d-ed8b-51742240f7e7"
   },
   "outputs": [
    {
     "data": {
      "text/html": [
       "<div>\n",
       "<style scoped>\n",
       "    .dataframe tbody tr th:only-of-type {\n",
       "        vertical-align: middle;\n",
       "    }\n",
       "\n",
       "    .dataframe tbody tr th {\n",
       "        vertical-align: top;\n",
       "    }\n",
       "\n",
       "    .dataframe thead th {\n",
       "        text-align: right;\n",
       "    }\n",
       "</style>\n",
       "<table border=\"1\" class=\"dataframe\">\n",
       "  <thead>\n",
       "    <tr style=\"text-align: right;\">\n",
       "      <th></th>\n",
       "      <th>RefId</th>\n",
       "      <th>IsBadBuy</th>\n",
       "      <th>PurchDate</th>\n",
       "      <th>Auction</th>\n",
       "      <th>VehYear</th>\n",
       "      <th>VehicleAge</th>\n",
       "      <th>Make</th>\n",
       "      <th>Model</th>\n",
       "      <th>Trim</th>\n",
       "      <th>SubModel</th>\n",
       "      <th>...</th>\n",
       "      <th>BYRNO</th>\n",
       "      <th>VNZIP1</th>\n",
       "      <th>VNST</th>\n",
       "      <th>VehBCost</th>\n",
       "      <th>IsOnlineSale</th>\n",
       "      <th>WarrantyCost</th>\n",
       "      <th>Date</th>\n",
       "      <th>PurchaseYear</th>\n",
       "      <th>PurchaseMonth</th>\n",
       "      <th>PurchaseDay</th>\n",
       "    </tr>\n",
       "  </thead>\n",
       "  <tbody>\n",
       "    <tr>\n",
       "      <th>72044</th>\n",
       "      <td>72076</td>\n",
       "      <td>0</td>\n",
       "      <td>4/22/2010</td>\n",
       "      <td>ADESA</td>\n",
       "      <td>2006</td>\n",
       "      <td>4</td>\n",
       "      <td>FORD</td>\n",
       "      <td>TAURUS</td>\n",
       "      <td>SE</td>\n",
       "      <td>4D SEDAN SE</td>\n",
       "      <td>...</td>\n",
       "      <td>22916</td>\n",
       "      <td>80817</td>\n",
       "      <td>CO</td>\n",
       "      <td>6205.0</td>\n",
       "      <td>0</td>\n",
       "      <td>825</td>\n",
       "      <td>2010-04-22</td>\n",
       "      <td>2010</td>\n",
       "      <td>4</td>\n",
       "      <td>22</td>\n",
       "    </tr>\n",
       "  </tbody>\n",
       "</table>\n",
       "<p>1 rows × 38 columns</p>\n",
       "</div>"
      ],
      "text/plain": [
       "       RefId  IsBadBuy  PurchDate Auction  VehYear  VehicleAge  Make   Model  \\\n",
       "72044  72076         0  4/22/2010   ADESA     2006           4  FORD  TAURUS   \n",
       "\n",
       "      Trim     SubModel  ...  BYRNO VNZIP1  VNST VehBCost  IsOnlineSale  \\\n",
       "72044   SE  4D SEDAN SE  ...  22916  80817    CO   6205.0             0   \n",
       "\n",
       "      WarrantyCost       Date PurchaseYear  PurchaseMonth  PurchaseDay  \n",
       "72044          825 2010-04-22         2010              4           22  \n",
       "\n",
       "[1 rows x 38 columns]"
      ]
     },
     "execution_count": 116,
     "metadata": {},
     "output_type": "execute_result"
    }
   ],
   "source": [
    "train_df.sample()"
   ]
  },
  {
   "cell_type": "code",
   "execution_count": 117,
   "metadata": {
    "id": "mT898A13-22t"
   },
   "outputs": [],
   "source": [
    "test_inputs = test_df[input_cols].copy()"
   ]
  },
  {
   "cell_type": "code",
   "execution_count": 118,
   "metadata": {
    "colab": {
     "base_uri": "https://localhost:8080/"
    },
    "executionInfo": {
     "elapsed": 31,
     "status": "ok",
     "timestamp": 1638373735368,
     "user": {
      "displayName": "Rahul Kumar",
      "photoUrl": "https://lh3.googleusercontent.com/a-/AOh14GjMLooCThM9vWBSGvwf32JMjtszpIkIztj3alUAhMs=s64",
      "userId": "03490918626299573549"
     },
     "user_tz": -330
    },
    "id": "3p7qHVw0_1Ms",
    "outputId": "a20b52c4-5dc4-4d39-8c82-0138dfdf9b81"
   },
   "outputs": [
    {
     "name": "stdout",
     "output_type": "stream",
     "text": [
      "<class 'pandas.core.frame.DataFrame'>\n",
      "Int64Index: 52661 entries, 55760 to 28804\n",
      "Data columns (total 38 columns):\n",
      " #   Column                             Non-Null Count  Dtype         \n",
      "---  ------                             --------------  -----         \n",
      " 0   RefId                              52661 non-null  int64         \n",
      " 1   IsBadBuy                           52661 non-null  int64         \n",
      " 2   PurchDate                          52661 non-null  object        \n",
      " 3   Auction                            52661 non-null  object        \n",
      " 4   VehYear                            52661 non-null  int64         \n",
      " 5   VehicleAge                         52661 non-null  int64         \n",
      " 6   Make                               52661 non-null  object        \n",
      " 7   Model                              52661 non-null  object        \n",
      " 8   Trim                               50966 non-null  object        \n",
      " 9   SubModel                           52655 non-null  object        \n",
      " 10  Color                              52655 non-null  object        \n",
      " 11  Transmission                       52655 non-null  object        \n",
      " 12  WheelTypeID                        50340 non-null  float64       \n",
      " 13  WheelType                          50336 non-null  object        \n",
      " 14  VehOdo                             52661 non-null  int64         \n",
      " 15  Nationality                        52657 non-null  object        \n",
      " 16  Size                               52657 non-null  object        \n",
      " 17  TopThreeAmericanName               52657 non-null  object        \n",
      " 18  MMRAcquisitionAuctionAveragePrice  52646 non-null  float64       \n",
      " 19  MMRAcquisitionAuctionCleanPrice    52646 non-null  float64       \n",
      " 20  MMRAcquisitionRetailAveragePrice   52646 non-null  float64       \n",
      " 21  MMRAcquisitonRetailCleanPrice      52646 non-null  float64       \n",
      " 22  MMRCurrentAuctionAveragePrice      52437 non-null  float64       \n",
      " 23  MMRCurrentAuctionCleanPrice        52437 non-null  float64       \n",
      " 24  MMRCurrentRetailAveragePrice       52437 non-null  float64       \n",
      " 25  MMRCurrentRetailCleanPrice         52437 non-null  float64       \n",
      " 26  PRIMEUNIT                          2469 non-null   object        \n",
      " 27  AUCGUART                           2469 non-null   object        \n",
      " 28  BYRNO                              52661 non-null  int64         \n",
      " 29  VNZIP1                             52661 non-null  int64         \n",
      " 30  VNST                               52661 non-null  object        \n",
      " 31  VehBCost                           52661 non-null  float64       \n",
      " 32  IsOnlineSale                       52661 non-null  int64         \n",
      " 33  WarrantyCost                       52661 non-null  int64         \n",
      " 34  Date                               52661 non-null  datetime64[ns]\n",
      " 35  PurchaseYear                       52661 non-null  int64         \n",
      " 36  PurchaseMonth                      52661 non-null  int64         \n",
      " 37  PurchaseDay                        52661 non-null  int64         \n",
      "dtypes: datetime64[ns](1), float64(10), int64(12), object(15)\n",
      "memory usage: 15.7+ MB\n"
     ]
    }
   ],
   "source": [
    "train_df.info()"
   ]
  },
  {
   "cell_type": "code",
   "execution_count": 119,
   "metadata": {
    "id": "08y1Ig73AXUH"
   },
   "outputs": [],
   "source": [
    "numeric = list(train_df.select_dtypes(include=np.number))\n",
    "cats = list(train_df.select_dtypes(include='object'))"
   ]
  },
  {
   "cell_type": "code",
   "execution_count": 120,
   "metadata": {
    "colab": {
     "base_uri": "https://localhost:8080/"
    },
    "executionInfo": {
     "elapsed": 24,
     "status": "ok",
     "timestamp": 1638373735370,
     "user": {
      "displayName": "Rahul Kumar",
      "photoUrl": "https://lh3.googleusercontent.com/a-/AOh14GjMLooCThM9vWBSGvwf32JMjtszpIkIztj3alUAhMs=s64",
      "userId": "03490918626299573549"
     },
     "user_tz": -330
    },
    "id": "LUV3NEa2Akru",
    "outputId": "56e95e49-2ff8-4e3a-e23f-58204d3c4165"
   },
   "outputs": [
    {
     "data": {
      "text/plain": [
       "['RefId',\n",
       " 'IsBadBuy',\n",
       " 'VehYear',\n",
       " 'VehicleAge',\n",
       " 'WheelTypeID',\n",
       " 'VehOdo',\n",
       " 'MMRAcquisitionAuctionAveragePrice',\n",
       " 'MMRAcquisitionAuctionCleanPrice',\n",
       " 'MMRAcquisitionRetailAveragePrice',\n",
       " 'MMRAcquisitonRetailCleanPrice',\n",
       " 'MMRCurrentAuctionAveragePrice',\n",
       " 'MMRCurrentAuctionCleanPrice',\n",
       " 'MMRCurrentRetailAveragePrice',\n",
       " 'MMRCurrentRetailCleanPrice',\n",
       " 'BYRNO',\n",
       " 'VNZIP1',\n",
       " 'VehBCost',\n",
       " 'IsOnlineSale',\n",
       " 'WarrantyCost',\n",
       " 'PurchaseYear',\n",
       " 'PurchaseMonth',\n",
       " 'PurchaseDay']"
      ]
     },
     "execution_count": 120,
     "metadata": {},
     "output_type": "execute_result"
    }
   ],
   "source": [
    "numeric"
   ]
  },
  {
   "cell_type": "code",
   "execution_count": 121,
   "metadata": {
    "colab": {
     "base_uri": "https://localhost:8080/"
    },
    "executionInfo": {
     "elapsed": 22,
     "status": "ok",
     "timestamp": 1638373736195,
     "user": {
      "displayName": "Rahul Kumar",
      "photoUrl": "https://lh3.googleusercontent.com/a-/AOh14GjMLooCThM9vWBSGvwf32JMjtszpIkIztj3alUAhMs=s64",
      "userId": "03490918626299573549"
     },
     "user_tz": -330
    },
    "id": "knF_TcBi_kpd",
    "outputId": "41b7c0f1-a95d-4e12-dccf-bd45b2abe80d"
   },
   "outputs": [
    {
     "data": {
      "text/plain": [
       "Alloy      25979\n",
       "Covers     23812\n",
       "Special      545\n",
       "Name: WheelType, dtype: int64"
      ]
     },
     "execution_count": 121,
     "metadata": {},
     "output_type": "execute_result"
    }
   ],
   "source": [
    "train_df.WheelType.value_counts()"
   ]
  },
  {
   "cell_type": "code",
   "execution_count": 122,
   "metadata": {
    "id": "E6oGWdC__OxQ"
   },
   "outputs": [],
   "source": [
    "numeric_cols = [ 'VehYear','VehicleAge','VehOdo','MMRAcquisitionAuctionAveragePrice','MMRAcquisitionAuctionCleanPrice',\n",
    "                 'MMRAcquisitionRetailAveragePrice','MMRAcquisitonRetailCleanPrice','MMRCurrentAuctionAveragePrice','MMRCurrentAuctionCleanPrice',\n",
    "                 'MMRCurrentRetailAveragePrice','MMRCurrentRetailCleanPrice','BYRNO','VNZIP1','VehBCost','IsOnlineSale','WarrantyCost','PurchaseYear',\n",
    "                 'PurchaseMonth','PurchaseDay']\n",
    "\n",
    "categorical_cols = ['Auction','Color','Transmission','WheelType', 'Nationality','Size','TopThreeAmericanName', 'VNST' ]"
   ]
  },
  {
   "cell_type": "markdown",
   "metadata": {
    "id": "R8-2L5ydD8S3"
   },
   "source": [
    "## **Imputing Missing Numerical Data**"
   ]
  },
  {
   "cell_type": "code",
   "execution_count": 123,
   "metadata": {
    "colab": {
     "base_uri": "https://localhost:8080/"
    },
    "executionInfo": {
     "elapsed": 16,
     "status": "ok",
     "timestamp": 1638373736196,
     "user": {
      "displayName": "Rahul Kumar",
      "photoUrl": "https://lh3.googleusercontent.com/a-/AOh14GjMLooCThM9vWBSGvwf32JMjtszpIkIztj3alUAhMs=s64",
      "userId": "03490918626299573549"
     },
     "user_tz": -330
    },
    "id": "U2ETuosvD8BE",
    "outputId": "e99443db-ba22-4b5a-ab2b-91611205e459"
   },
   "outputs": [
    {
     "data": {
      "text/plain": [
       "VehYear                                0\n",
       "VehicleAge                             0\n",
       "VehOdo                                 0\n",
       "MMRAcquisitionAuctionAveragePrice     18\n",
       "MMRAcquisitionAuctionCleanPrice       18\n",
       "MMRAcquisitionRetailAveragePrice      18\n",
       "MMRAcquisitonRetailCleanPrice         18\n",
       "MMRCurrentAuctionAveragePrice        315\n",
       "MMRCurrentAuctionCleanPrice          315\n",
       "MMRCurrentRetailAveragePrice         315\n",
       "MMRCurrentRetailCleanPrice           315\n",
       "BYRNO                                  0\n",
       "VNZIP1                                 0\n",
       "VehBCost                               0\n",
       "IsOnlineSale                           0\n",
       "WarrantyCost                           0\n",
       "PurchaseYear                           0\n",
       "PurchaseMonth                          0\n",
       "PurchaseDay                            0\n",
       "dtype: int64"
      ]
     },
     "execution_count": 123,
     "metadata": {},
     "output_type": "execute_result"
    }
   ],
   "source": [
    "inputs[numeric_cols].isna().sum()"
   ]
  },
  {
   "cell_type": "code",
   "execution_count": 124,
   "metadata": {
    "id": "Wto35KmpD73q"
   },
   "outputs": [],
   "source": [
    "from sklearn.impute import SimpleImputer"
   ]
  },
  {
   "cell_type": "code",
   "execution_count": 125,
   "metadata": {
    "id": "Y1wM7uiTdF5o"
   },
   "outputs": [
    {
     "name": "stderr",
     "output_type": "stream",
     "text": [
      "c:\\Users\\archa\\miniconda3\\envs\\ds\\lib\\site-packages\\sklearn\\impute\\_base.py:337: FutureWarning: The 'verbose' parameter was deprecated in version 1.1 and will be removed in 1.3. A warning will always be raised upon the removal of empty columns in the future version.\n",
      "  warnings.warn(\n"
     ]
    }
   ],
   "source": [
    "imputer = SimpleImputer(strategy='mean',verbose=1).fit(inputs[numeric_cols])"
   ]
  },
  {
   "cell_type": "code",
   "execution_count": 126,
   "metadata": {
    "id": "PhwsBLKfdvX9"
   },
   "outputs": [],
   "source": [
    "inputs[numeric_cols] = imputer.transform(inputs[numeric_cols])\n",
    "train_df[numeric_cols] = imputer.transform(train_df[numeric_cols])\n",
    "val_df[numeric_cols] = imputer.transform(val_df[numeric_cols])\n",
    "test_split_df[numeric_cols] = imputer.transform(test_split_df[numeric_cols])\n",
    "\n",
    "test_inputs[numeric_cols] = imputer.transform(test_inputs[numeric_cols])\n"
   ]
  },
  {
   "cell_type": "code",
   "execution_count": 127,
   "metadata": {
    "colab": {
     "base_uri": "https://localhost:8080/"
    },
    "executionInfo": {
     "elapsed": 40,
     "status": "ok",
     "timestamp": 1638373736795,
     "user": {
      "displayName": "Rahul Kumar",
      "photoUrl": "https://lh3.googleusercontent.com/a-/AOh14GjMLooCThM9vWBSGvwf32JMjtszpIkIztj3alUAhMs=s64",
      "userId": "03490918626299573549"
     },
     "user_tz": -330
    },
    "id": "IAitgmFodzvL",
    "outputId": "193026ba-cc48-4427-a914-5f9ad3a3b183"
   },
   "outputs": [
    {
     "data": {
      "text/html": [
       "<div>\n",
       "<style scoped>\n",
       "    .dataframe tbody tr th:only-of-type {\n",
       "        vertical-align: middle;\n",
       "    }\n",
       "\n",
       "    .dataframe tbody tr th {\n",
       "        vertical-align: top;\n",
       "    }\n",
       "\n",
       "    .dataframe thead th {\n",
       "        text-align: right;\n",
       "    }\n",
       "</style>\n",
       "<table border=\"1\" class=\"dataframe\">\n",
       "  <thead>\n",
       "    <tr style=\"text-align: right;\">\n",
       "      <th></th>\n",
       "      <th>VehYear</th>\n",
       "      <th>VehicleAge</th>\n",
       "      <th>VehOdo</th>\n",
       "      <th>MMRAcquisitionAuctionAveragePrice</th>\n",
       "      <th>MMRAcquisitionAuctionCleanPrice</th>\n",
       "      <th>MMRAcquisitionRetailAveragePrice</th>\n",
       "      <th>MMRAcquisitonRetailCleanPrice</th>\n",
       "      <th>MMRCurrentAuctionAveragePrice</th>\n",
       "      <th>MMRCurrentAuctionCleanPrice</th>\n",
       "      <th>MMRCurrentRetailAveragePrice</th>\n",
       "      <th>MMRCurrentRetailCleanPrice</th>\n",
       "      <th>BYRNO</th>\n",
       "      <th>VNZIP1</th>\n",
       "      <th>VehBCost</th>\n",
       "      <th>IsOnlineSale</th>\n",
       "      <th>WarrantyCost</th>\n",
       "      <th>PurchaseYear</th>\n",
       "      <th>PurchaseMonth</th>\n",
       "      <th>PurchaseDay</th>\n",
       "    </tr>\n",
       "  </thead>\n",
       "  <tbody>\n",
       "    <tr>\n",
       "      <th>0</th>\n",
       "      <td>2006.0</td>\n",
       "      <td>3.0</td>\n",
       "      <td>89046.0</td>\n",
       "      <td>8155.0</td>\n",
       "      <td>9829.0</td>\n",
       "      <td>11636.0</td>\n",
       "      <td>13600.0</td>\n",
       "      <td>7451.0</td>\n",
       "      <td>8552.0</td>\n",
       "      <td>11597.0</td>\n",
       "      <td>12409.0</td>\n",
       "      <td>21973.0</td>\n",
       "      <td>33619.0</td>\n",
       "      <td>7100.0</td>\n",
       "      <td>0.0</td>\n",
       "      <td>1113.0</td>\n",
       "      <td>2009.0</td>\n",
       "      <td>12.0</td>\n",
       "      <td>7.0</td>\n",
       "    </tr>\n",
       "    <tr>\n",
       "      <th>1</th>\n",
       "      <td>2004.0</td>\n",
       "      <td>5.0</td>\n",
       "      <td>93593.0</td>\n",
       "      <td>6854.0</td>\n",
       "      <td>8383.0</td>\n",
       "      <td>10897.0</td>\n",
       "      <td>12572.0</td>\n",
       "      <td>7456.0</td>\n",
       "      <td>9222.0</td>\n",
       "      <td>11374.0</td>\n",
       "      <td>12791.0</td>\n",
       "      <td>19638.0</td>\n",
       "      <td>33619.0</td>\n",
       "      <td>7600.0</td>\n",
       "      <td>0.0</td>\n",
       "      <td>1053.0</td>\n",
       "      <td>2009.0</td>\n",
       "      <td>12.0</td>\n",
       "      <td>7.0</td>\n",
       "    </tr>\n",
       "    <tr>\n",
       "      <th>2</th>\n",
       "      <td>2005.0</td>\n",
       "      <td>4.0</td>\n",
       "      <td>73807.0</td>\n",
       "      <td>3202.0</td>\n",
       "      <td>4760.0</td>\n",
       "      <td>6943.0</td>\n",
       "      <td>8457.0</td>\n",
       "      <td>4035.0</td>\n",
       "      <td>5557.0</td>\n",
       "      <td>7146.0</td>\n",
       "      <td>8702.0</td>\n",
       "      <td>19638.0</td>\n",
       "      <td>33619.0</td>\n",
       "      <td>4900.0</td>\n",
       "      <td>0.0</td>\n",
       "      <td>1389.0</td>\n",
       "      <td>2009.0</td>\n",
       "      <td>12.0</td>\n",
       "      <td>7.0</td>\n",
       "    </tr>\n",
       "    <tr>\n",
       "      <th>3</th>\n",
       "      <td>2004.0</td>\n",
       "      <td>5.0</td>\n",
       "      <td>65617.0</td>\n",
       "      <td>1893.0</td>\n",
       "      <td>2675.0</td>\n",
       "      <td>4658.0</td>\n",
       "      <td>5690.0</td>\n",
       "      <td>1844.0</td>\n",
       "      <td>2646.0</td>\n",
       "      <td>4375.0</td>\n",
       "      <td>5518.0</td>\n",
       "      <td>19638.0</td>\n",
       "      <td>33619.0</td>\n",
       "      <td>4100.0</td>\n",
       "      <td>0.0</td>\n",
       "      <td>630.0</td>\n",
       "      <td>2009.0</td>\n",
       "      <td>12.0</td>\n",
       "      <td>7.0</td>\n",
       "    </tr>\n",
       "    <tr>\n",
       "      <th>4</th>\n",
       "      <td>2005.0</td>\n",
       "      <td>4.0</td>\n",
       "      <td>69367.0</td>\n",
       "      <td>3913.0</td>\n",
       "      <td>5054.0</td>\n",
       "      <td>7723.0</td>\n",
       "      <td>8707.0</td>\n",
       "      <td>3247.0</td>\n",
       "      <td>4384.0</td>\n",
       "      <td>6739.0</td>\n",
       "      <td>7911.0</td>\n",
       "      <td>19638.0</td>\n",
       "      <td>33619.0</td>\n",
       "      <td>4000.0</td>\n",
       "      <td>0.0</td>\n",
       "      <td>1020.0</td>\n",
       "      <td>2009.0</td>\n",
       "      <td>12.0</td>\n",
       "      <td>7.0</td>\n",
       "    </tr>\n",
       "    <tr>\n",
       "      <th>...</th>\n",
       "      <td>...</td>\n",
       "      <td>...</td>\n",
       "      <td>...</td>\n",
       "      <td>...</td>\n",
       "      <td>...</td>\n",
       "      <td>...</td>\n",
       "      <td>...</td>\n",
       "      <td>...</td>\n",
       "      <td>...</td>\n",
       "      <td>...</td>\n",
       "      <td>...</td>\n",
       "      <td>...</td>\n",
       "      <td>...</td>\n",
       "      <td>...</td>\n",
       "      <td>...</td>\n",
       "      <td>...</td>\n",
       "      <td>...</td>\n",
       "      <td>...</td>\n",
       "      <td>...</td>\n",
       "    </tr>\n",
       "    <tr>\n",
       "      <th>72978</th>\n",
       "      <td>2001.0</td>\n",
       "      <td>8.0</td>\n",
       "      <td>45234.0</td>\n",
       "      <td>1996.0</td>\n",
       "      <td>2993.0</td>\n",
       "      <td>2656.0</td>\n",
       "      <td>3732.0</td>\n",
       "      <td>2190.0</td>\n",
       "      <td>3055.0</td>\n",
       "      <td>4836.0</td>\n",
       "      <td>5937.0</td>\n",
       "      <td>18111.0</td>\n",
       "      <td>30212.0</td>\n",
       "      <td>4200.0</td>\n",
       "      <td>0.0</td>\n",
       "      <td>993.0</td>\n",
       "      <td>2009.0</td>\n",
       "      <td>12.0</td>\n",
       "      <td>2.0</td>\n",
       "    </tr>\n",
       "    <tr>\n",
       "      <th>72979</th>\n",
       "      <td>2007.0</td>\n",
       "      <td>2.0</td>\n",
       "      <td>71759.0</td>\n",
       "      <td>6418.0</td>\n",
       "      <td>7325.0</td>\n",
       "      <td>7431.0</td>\n",
       "      <td>8411.0</td>\n",
       "      <td>6785.0</td>\n",
       "      <td>8132.0</td>\n",
       "      <td>10151.0</td>\n",
       "      <td>11652.0</td>\n",
       "      <td>18881.0</td>\n",
       "      <td>30212.0</td>\n",
       "      <td>6200.0</td>\n",
       "      <td>0.0</td>\n",
       "      <td>1038.0</td>\n",
       "      <td>2009.0</td>\n",
       "      <td>12.0</td>\n",
       "      <td>2.0</td>\n",
       "    </tr>\n",
       "    <tr>\n",
       "      <th>72980</th>\n",
       "      <td>2005.0</td>\n",
       "      <td>4.0</td>\n",
       "      <td>88500.0</td>\n",
       "      <td>8545.0</td>\n",
       "      <td>9959.0</td>\n",
       "      <td>9729.0</td>\n",
       "      <td>11256.0</td>\n",
       "      <td>8375.0</td>\n",
       "      <td>9802.0</td>\n",
       "      <td>11831.0</td>\n",
       "      <td>14402.0</td>\n",
       "      <td>18111.0</td>\n",
       "      <td>30212.0</td>\n",
       "      <td>8200.0</td>\n",
       "      <td>0.0</td>\n",
       "      <td>1893.0</td>\n",
       "      <td>2009.0</td>\n",
       "      <td>12.0</td>\n",
       "      <td>2.0</td>\n",
       "    </tr>\n",
       "    <tr>\n",
       "      <th>72981</th>\n",
       "      <td>2006.0</td>\n",
       "      <td>3.0</td>\n",
       "      <td>79554.0</td>\n",
       "      <td>6420.0</td>\n",
       "      <td>7604.0</td>\n",
       "      <td>7434.0</td>\n",
       "      <td>8712.0</td>\n",
       "      <td>6590.0</td>\n",
       "      <td>7684.0</td>\n",
       "      <td>10099.0</td>\n",
       "      <td>11228.0</td>\n",
       "      <td>18881.0</td>\n",
       "      <td>30212.0</td>\n",
       "      <td>7000.0</td>\n",
       "      <td>0.0</td>\n",
       "      <td>1974.0</td>\n",
       "      <td>2009.0</td>\n",
       "      <td>12.0</td>\n",
       "      <td>2.0</td>\n",
       "    </tr>\n",
       "    <tr>\n",
       "      <th>72982</th>\n",
       "      <td>2006.0</td>\n",
       "      <td>3.0</td>\n",
       "      <td>66855.0</td>\n",
       "      <td>7535.0</td>\n",
       "      <td>8771.0</td>\n",
       "      <td>8638.0</td>\n",
       "      <td>9973.0</td>\n",
       "      <td>7730.0</td>\n",
       "      <td>9102.0</td>\n",
       "      <td>11954.0</td>\n",
       "      <td>13246.0</td>\n",
       "      <td>18111.0</td>\n",
       "      <td>30212.0</td>\n",
       "      <td>8000.0</td>\n",
       "      <td>0.0</td>\n",
       "      <td>1313.0</td>\n",
       "      <td>2009.0</td>\n",
       "      <td>12.0</td>\n",
       "      <td>2.0</td>\n",
       "    </tr>\n",
       "  </tbody>\n",
       "</table>\n",
       "<p>72983 rows × 19 columns</p>\n",
       "</div>"
      ],
      "text/plain": [
       "       VehYear  VehicleAge   VehOdo  MMRAcquisitionAuctionAveragePrice  \\\n",
       "0       2006.0         3.0  89046.0                             8155.0   \n",
       "1       2004.0         5.0  93593.0                             6854.0   \n",
       "2       2005.0         4.0  73807.0                             3202.0   \n",
       "3       2004.0         5.0  65617.0                             1893.0   \n",
       "4       2005.0         4.0  69367.0                             3913.0   \n",
       "...        ...         ...      ...                                ...   \n",
       "72978   2001.0         8.0  45234.0                             1996.0   \n",
       "72979   2007.0         2.0  71759.0                             6418.0   \n",
       "72980   2005.0         4.0  88500.0                             8545.0   \n",
       "72981   2006.0         3.0  79554.0                             6420.0   \n",
       "72982   2006.0         3.0  66855.0                             7535.0   \n",
       "\n",
       "       MMRAcquisitionAuctionCleanPrice  MMRAcquisitionRetailAveragePrice  \\\n",
       "0                               9829.0                           11636.0   \n",
       "1                               8383.0                           10897.0   \n",
       "2                               4760.0                            6943.0   \n",
       "3                               2675.0                            4658.0   \n",
       "4                               5054.0                            7723.0   \n",
       "...                                ...                               ...   \n",
       "72978                           2993.0                            2656.0   \n",
       "72979                           7325.0                            7431.0   \n",
       "72980                           9959.0                            9729.0   \n",
       "72981                           7604.0                            7434.0   \n",
       "72982                           8771.0                            8638.0   \n",
       "\n",
       "       MMRAcquisitonRetailCleanPrice  MMRCurrentAuctionAveragePrice  \\\n",
       "0                            13600.0                         7451.0   \n",
       "1                            12572.0                         7456.0   \n",
       "2                             8457.0                         4035.0   \n",
       "3                             5690.0                         1844.0   \n",
       "4                             8707.0                         3247.0   \n",
       "...                              ...                            ...   \n",
       "72978                         3732.0                         2190.0   \n",
       "72979                         8411.0                         6785.0   \n",
       "72980                        11256.0                         8375.0   \n",
       "72981                         8712.0                         6590.0   \n",
       "72982                         9973.0                         7730.0   \n",
       "\n",
       "       MMRCurrentAuctionCleanPrice  MMRCurrentRetailAveragePrice  \\\n",
       "0                           8552.0                       11597.0   \n",
       "1                           9222.0                       11374.0   \n",
       "2                           5557.0                        7146.0   \n",
       "3                           2646.0                        4375.0   \n",
       "4                           4384.0                        6739.0   \n",
       "...                            ...                           ...   \n",
       "72978                       3055.0                        4836.0   \n",
       "72979                       8132.0                       10151.0   \n",
       "72980                       9802.0                       11831.0   \n",
       "72981                       7684.0                       10099.0   \n",
       "72982                       9102.0                       11954.0   \n",
       "\n",
       "       MMRCurrentRetailCleanPrice    BYRNO   VNZIP1  VehBCost  IsOnlineSale  \\\n",
       "0                         12409.0  21973.0  33619.0    7100.0           0.0   \n",
       "1                         12791.0  19638.0  33619.0    7600.0           0.0   \n",
       "2                          8702.0  19638.0  33619.0    4900.0           0.0   \n",
       "3                          5518.0  19638.0  33619.0    4100.0           0.0   \n",
       "4                          7911.0  19638.0  33619.0    4000.0           0.0   \n",
       "...                           ...      ...      ...       ...           ...   \n",
       "72978                      5937.0  18111.0  30212.0    4200.0           0.0   \n",
       "72979                     11652.0  18881.0  30212.0    6200.0           0.0   \n",
       "72980                     14402.0  18111.0  30212.0    8200.0           0.0   \n",
       "72981                     11228.0  18881.0  30212.0    7000.0           0.0   \n",
       "72982                     13246.0  18111.0  30212.0    8000.0           0.0   \n",
       "\n",
       "       WarrantyCost  PurchaseYear  PurchaseMonth  PurchaseDay  \n",
       "0            1113.0        2009.0           12.0          7.0  \n",
       "1            1053.0        2009.0           12.0          7.0  \n",
       "2            1389.0        2009.0           12.0          7.0  \n",
       "3             630.0        2009.0           12.0          7.0  \n",
       "4            1020.0        2009.0           12.0          7.0  \n",
       "...             ...           ...            ...          ...  \n",
       "72978         993.0        2009.0           12.0          2.0  \n",
       "72979        1038.0        2009.0           12.0          2.0  \n",
       "72980        1893.0        2009.0           12.0          2.0  \n",
       "72981        1974.0        2009.0           12.0          2.0  \n",
       "72982        1313.0        2009.0           12.0          2.0  \n",
       "\n",
       "[72983 rows x 19 columns]"
      ]
     },
     "execution_count": 127,
     "metadata": {},
     "output_type": "execute_result"
    }
   ],
   "source": [
    "inputs[numeric_cols]"
   ]
  },
  {
   "cell_type": "code",
   "execution_count": 128,
   "metadata": {
    "colab": {
     "base_uri": "https://localhost:8080/"
    },
    "executionInfo": {
     "elapsed": 38,
     "status": "ok",
     "timestamp": 1638373736795,
     "user": {
      "displayName": "Rahul Kumar",
      "photoUrl": "https://lh3.googleusercontent.com/a-/AOh14GjMLooCThM9vWBSGvwf32JMjtszpIkIztj3alUAhMs=s64",
      "userId": "03490918626299573549"
     },
     "user_tz": -330
    },
    "id": "Hb2XZ1CseTzc",
    "outputId": "8cc51cc0-56c0-43a0-d15d-91aa42c3d692"
   },
   "outputs": [
    {
     "data": {
      "text/plain": [
       "VehYear                              0\n",
       "VehicleAge                           0\n",
       "VehOdo                               0\n",
       "MMRAcquisitionAuctionAveragePrice    0\n",
       "MMRAcquisitionAuctionCleanPrice      0\n",
       "MMRAcquisitionRetailAveragePrice     0\n",
       "MMRAcquisitonRetailCleanPrice        0\n",
       "MMRCurrentAuctionAveragePrice        0\n",
       "MMRCurrentAuctionCleanPrice          0\n",
       "MMRCurrentRetailAveragePrice         0\n",
       "MMRCurrentRetailCleanPrice           0\n",
       "BYRNO                                0\n",
       "VNZIP1                               0\n",
       "VehBCost                             0\n",
       "IsOnlineSale                         0\n",
       "WarrantyCost                         0\n",
       "PurchaseYear                         0\n",
       "PurchaseMonth                        0\n",
       "PurchaseDay                          0\n",
       "dtype: int64"
      ]
     },
     "execution_count": 128,
     "metadata": {},
     "output_type": "execute_result"
    }
   ],
   "source": [
    "inputs[numeric_cols].isna().sum()"
   ]
  },
  {
   "cell_type": "markdown",
   "metadata": {
    "id": "c7raTbtaBjFv"
   },
   "source": [
    "## **Scaling Numerical Features**"
   ]
  },
  {
   "cell_type": "code",
   "execution_count": 129,
   "metadata": {
    "id": "wmKokxQDA8Un"
   },
   "outputs": [],
   "source": [
    "from sklearn.preprocessing import MinMaxScaler"
   ]
  },
  {
   "cell_type": "code",
   "execution_count": 130,
   "metadata": {
    "id": "AkTiFX3UB5bO"
   },
   "outputs": [],
   "source": [
    "scaler = MinMaxScaler().fit(inputs[numeric_cols])"
   ]
  },
  {
   "cell_type": "code",
   "execution_count": 131,
   "metadata": {
    "id": "3GCAyXaACA68"
   },
   "outputs": [],
   "source": [
    "inputs[numeric_cols] = scaler.transform(inputs[numeric_cols])\n",
    "train_df[numeric_cols] = scaler.transform(train_df[numeric_cols])\n",
    "val_df[numeric_cols] = scaler.transform(val_df[numeric_cols])\n",
    "test_split_df[numeric_cols] = scaler.transform(test_split_df[numeric_cols])\n",
    "\n",
    "test_inputs[numeric_cols] = scaler.transform(test_inputs[numeric_cols])"
   ]
  },
  {
   "cell_type": "code",
   "execution_count": 132,
   "metadata": {
    "colab": {
     "base_uri": "https://localhost:8080/"
    },
    "executionInfo": {
     "elapsed": 29,
     "status": "ok",
     "timestamp": 1638373737473,
     "user": {
      "displayName": "Rahul Kumar",
      "photoUrl": "https://lh3.googleusercontent.com/a-/AOh14GjMLooCThM9vWBSGvwf32JMjtszpIkIztj3alUAhMs=s64",
      "userId": "03490918626299573549"
     },
     "user_tz": -330
    },
    "id": "eVGSjRH3Ctin",
    "outputId": "f5a5e331-4230-4f89-c626-035e8e9f9e35"
   },
   "outputs": [
    {
     "data": {
      "text/html": [
       "<div>\n",
       "<style scoped>\n",
       "    .dataframe tbody tr th:only-of-type {\n",
       "        vertical-align: middle;\n",
       "    }\n",
       "\n",
       "    .dataframe tbody tr th {\n",
       "        vertical-align: top;\n",
       "    }\n",
       "\n",
       "    .dataframe thead th {\n",
       "        text-align: right;\n",
       "    }\n",
       "</style>\n",
       "<table border=\"1\" class=\"dataframe\">\n",
       "  <thead>\n",
       "    <tr style=\"text-align: right;\">\n",
       "      <th></th>\n",
       "      <th>VehYear</th>\n",
       "      <th>VehicleAge</th>\n",
       "      <th>VehOdo</th>\n",
       "      <th>MMRAcquisitionAuctionAveragePrice</th>\n",
       "      <th>MMRAcquisitionAuctionCleanPrice</th>\n",
       "      <th>MMRAcquisitionRetailAveragePrice</th>\n",
       "      <th>MMRAcquisitonRetailCleanPrice</th>\n",
       "      <th>MMRCurrentAuctionAveragePrice</th>\n",
       "      <th>MMRCurrentAuctionCleanPrice</th>\n",
       "      <th>MMRCurrentRetailAveragePrice</th>\n",
       "      <th>MMRCurrentRetailCleanPrice</th>\n",
       "      <th>BYRNO</th>\n",
       "      <th>VNZIP1</th>\n",
       "      <th>VehBCost</th>\n",
       "      <th>IsOnlineSale</th>\n",
       "      <th>WarrantyCost</th>\n",
       "      <th>PurchaseYear</th>\n",
       "      <th>PurchaseMonth</th>\n",
       "      <th>PurchaseDay</th>\n",
       "    </tr>\n",
       "  </thead>\n",
       "  <tbody>\n",
       "    <tr>\n",
       "      <th>10940</th>\n",
       "      <td>0.555556</td>\n",
       "      <td>0.333333</td>\n",
       "      <td>0.610450</td>\n",
       "      <td>0.197441</td>\n",
       "      <td>0.232806</td>\n",
       "      <td>0.207702</td>\n",
       "      <td>0.235452</td>\n",
       "      <td>0.182493</td>\n",
       "      <td>0.208253</td>\n",
       "      <td>0.256551</td>\n",
       "      <td>0.273245</td>\n",
       "      <td>0.182409</td>\n",
       "      <td>0.256873</td>\n",
       "      <td>0.178125</td>\n",
       "      <td>0.0</td>\n",
       "      <td>0.214895</td>\n",
       "      <td>0.0</td>\n",
       "      <td>0.909091</td>\n",
       "      <td>0.033333</td>\n",
       "    </tr>\n",
       "    <tr>\n",
       "      <th>10633</th>\n",
       "      <td>0.333333</td>\n",
       "      <td>0.666667</td>\n",
       "      <td>0.679643</td>\n",
       "      <td>0.094256</td>\n",
       "      <td>0.123498</td>\n",
       "      <td>0.174335</td>\n",
       "      <td>0.196591</td>\n",
       "      <td>0.090756</td>\n",
       "      <td>0.119048</td>\n",
       "      <td>0.169012</td>\n",
       "      <td>0.190979</td>\n",
       "      <td>0.181823</td>\n",
       "      <td>0.770029</td>\n",
       "      <td>0.136008</td>\n",
       "      <td>0.0</td>\n",
       "      <td>0.240193</td>\n",
       "      <td>1.0</td>\n",
       "      <td>0.454545</td>\n",
       "      <td>0.233333</td>\n",
       "    </tr>\n",
       "    <tr>\n",
       "      <th>13116</th>\n",
       "      <td>0.444444</td>\n",
       "      <td>0.555556</td>\n",
       "      <td>0.690311</td>\n",
       "      <td>0.140642</td>\n",
       "      <td>0.165170</td>\n",
       "      <td>0.226510</td>\n",
       "      <td>0.242370</td>\n",
       "      <td>0.147752</td>\n",
       "      <td>0.187960</td>\n",
       "      <td>0.224514</td>\n",
       "      <td>0.256466</td>\n",
       "      <td>0.189879</td>\n",
       "      <td>0.256873</td>\n",
       "      <td>0.125341</td>\n",
       "      <td>0.0</td>\n",
       "      <td>0.166430</td>\n",
       "      <td>1.0</td>\n",
       "      <td>0.909091</td>\n",
       "      <td>0.700000</td>\n",
       "    </tr>\n",
       "    <tr>\n",
       "      <th>68240</th>\n",
       "      <td>0.222222</td>\n",
       "      <td>0.666667</td>\n",
       "      <td>0.699960</td>\n",
       "      <td>0.230782</td>\n",
       "      <td>0.267506</td>\n",
       "      <td>0.240635</td>\n",
       "      <td>0.268767</td>\n",
       "      <td>0.196294</td>\n",
       "      <td>0.226105</td>\n",
       "      <td>0.283572</td>\n",
       "      <td>0.302762</td>\n",
       "      <td>0.026464</td>\n",
       "      <td>0.809175</td>\n",
       "      <td>0.211335</td>\n",
       "      <td>0.0</td>\n",
       "      <td>0.135162</td>\n",
       "      <td>0.0</td>\n",
       "      <td>0.727273</td>\n",
       "      <td>0.766667</td>\n",
       "    </tr>\n",
       "    <tr>\n",
       "      <th>29280</th>\n",
       "      <td>0.777778</td>\n",
       "      <td>0.111111</td>\n",
       "      <td>0.428606</td>\n",
       "      <td>0.243155</td>\n",
       "      <td>0.252449</td>\n",
       "      <td>0.252840</td>\n",
       "      <td>0.254303</td>\n",
       "      <td>0.213090</td>\n",
       "      <td>0.222225</td>\n",
       "      <td>0.287103</td>\n",
       "      <td>0.289879</td>\n",
       "      <td>1.000000</td>\n",
       "      <td>0.739903</td>\n",
       "      <td>0.167129</td>\n",
       "      <td>0.0</td>\n",
       "      <td>0.065094</td>\n",
       "      <td>0.0</td>\n",
       "      <td>0.818182</td>\n",
       "      <td>0.133333</td>\n",
       "    </tr>\n",
       "  </tbody>\n",
       "</table>\n",
       "</div>"
      ],
      "text/plain": [
       "        VehYear  VehicleAge    VehOdo  MMRAcquisitionAuctionAveragePrice  \\\n",
       "10940  0.555556    0.333333  0.610450                           0.197441   \n",
       "10633  0.333333    0.666667  0.679643                           0.094256   \n",
       "13116  0.444444    0.555556  0.690311                           0.140642   \n",
       "68240  0.222222    0.666667  0.699960                           0.230782   \n",
       "29280  0.777778    0.111111  0.428606                           0.243155   \n",
       "\n",
       "       MMRAcquisitionAuctionCleanPrice  MMRAcquisitionRetailAveragePrice  \\\n",
       "10940                         0.232806                          0.207702   \n",
       "10633                         0.123498                          0.174335   \n",
       "13116                         0.165170                          0.226510   \n",
       "68240                         0.267506                          0.240635   \n",
       "29280                         0.252449                          0.252840   \n",
       "\n",
       "       MMRAcquisitonRetailCleanPrice  MMRCurrentAuctionAveragePrice  \\\n",
       "10940                       0.235452                       0.182493   \n",
       "10633                       0.196591                       0.090756   \n",
       "13116                       0.242370                       0.147752   \n",
       "68240                       0.268767                       0.196294   \n",
       "29280                       0.254303                       0.213090   \n",
       "\n",
       "       MMRCurrentAuctionCleanPrice  MMRCurrentRetailAveragePrice  \\\n",
       "10940                     0.208253                      0.256551   \n",
       "10633                     0.119048                      0.169012   \n",
       "13116                     0.187960                      0.224514   \n",
       "68240                     0.226105                      0.283572   \n",
       "29280                     0.222225                      0.287103   \n",
       "\n",
       "       MMRCurrentRetailCleanPrice     BYRNO    VNZIP1  VehBCost  IsOnlineSale  \\\n",
       "10940                    0.273245  0.182409  0.256873  0.178125           0.0   \n",
       "10633                    0.190979  0.181823  0.770029  0.136008           0.0   \n",
       "13116                    0.256466  0.189879  0.256873  0.125341           0.0   \n",
       "68240                    0.302762  0.026464  0.809175  0.211335           0.0   \n",
       "29280                    0.289879  1.000000  0.739903  0.167129           0.0   \n",
       "\n",
       "       WarrantyCost  PurchaseYear  PurchaseMonth  PurchaseDay  \n",
       "10940      0.214895           0.0       0.909091     0.033333  \n",
       "10633      0.240193           1.0       0.454545     0.233333  \n",
       "13116      0.166430           1.0       0.909091     0.700000  \n",
       "68240      0.135162           0.0       0.727273     0.766667  \n",
       "29280      0.065094           0.0       0.818182     0.133333  "
      ]
     },
     "execution_count": 132,
     "metadata": {},
     "output_type": "execute_result"
    }
   ],
   "source": [
    "inputs[numeric_cols].sample(5)"
   ]
  },
  {
   "cell_type": "markdown",
   "metadata": {
    "id": "a0Sr5E9YC-EF"
   },
   "source": [
    "## **Encoding Categorical Features**"
   ]
  },
  {
   "cell_type": "code",
   "execution_count": 133,
   "metadata": {
    "id": "TlWiY4guCx5W"
   },
   "outputs": [],
   "source": [
    "from sklearn.preprocessing import OneHotEncoder"
   ]
  },
  {
   "cell_type": "code",
   "execution_count": 134,
   "metadata": {
    "id": "_lhN50D5DQyW"
   },
   "outputs": [],
   "source": [
    "encoder = OneHotEncoder(sparse=False,handle_unknown='ignore').fit(inputs[categorical_cols])"
   ]
  },
  {
   "cell_type": "code",
   "execution_count": 135,
   "metadata": {
    "colab": {
     "base_uri": "https://localhost:8080/"
    },
    "executionInfo": {
     "elapsed": 30,
     "status": "ok",
     "timestamp": 1638373737475,
     "user": {
      "displayName": "Rahul Kumar",
      "photoUrl": "https://lh3.googleusercontent.com/a-/AOh14GjMLooCThM9vWBSGvwf32JMjtszpIkIztj3alUAhMs=s64",
      "userId": "03490918626299573549"
     },
     "user_tz": -330
    },
    "id": "8oZmLPX_DaZm",
    "outputId": "83bfa705-da4c-4b21-c21e-8ee1829c235e"
   },
   "outputs": [
    {
     "data": {
      "text/plain": [
       "array(['Auction_ADESA', 'Auction_MANHEIM', 'Auction_OTHER', 'Color_BEIGE',\n",
       "       'Color_BLACK', 'Color_BLUE', 'Color_BROWN', 'Color_GOLD',\n",
       "       'Color_GREEN', 'Color_GREY', 'Color_MAROON', 'Color_NOT AVAIL',\n",
       "       'Color_ORANGE', 'Color_OTHER', 'Color_PURPLE', 'Color_RED',\n",
       "       'Color_SILVER', 'Color_WHITE', 'Color_YELLOW', 'Color_nan',\n",
       "       'Transmission_AUTO', 'Transmission_MANUAL', 'Transmission_Manual',\n",
       "       'Transmission_nan', 'WheelType_Alloy', 'WheelType_Covers',\n",
       "       'WheelType_Special', 'WheelType_nan', 'Nationality_AMERICAN',\n",
       "       'Nationality_OTHER', 'Nationality_OTHER ASIAN',\n",
       "       'Nationality_TOP LINE ASIAN', 'Nationality_nan', 'Size_COMPACT',\n",
       "       'Size_CROSSOVER', 'Size_LARGE', 'Size_LARGE SUV',\n",
       "       'Size_LARGE TRUCK', 'Size_MEDIUM', 'Size_MEDIUM SUV',\n",
       "       'Size_SMALL SUV', 'Size_SMALL TRUCK', 'Size_SPECIALTY',\n",
       "       'Size_SPORTS', 'Size_VAN', 'Size_nan',\n",
       "       'TopThreeAmericanName_CHRYSLER', 'TopThreeAmericanName_FORD',\n",
       "       'TopThreeAmericanName_GM', 'TopThreeAmericanName_OTHER',\n",
       "       'TopThreeAmericanName_nan', 'VNST_AL', 'VNST_AR', 'VNST_AZ',\n",
       "       'VNST_CA', 'VNST_CO', 'VNST_FL', 'VNST_GA', 'VNST_IA', 'VNST_ID',\n",
       "       'VNST_IL', 'VNST_IN', 'VNST_KY', 'VNST_LA', 'VNST_MA', 'VNST_MD',\n",
       "       'VNST_MI', 'VNST_MN', 'VNST_MO', 'VNST_MS', 'VNST_NC', 'VNST_NE',\n",
       "       'VNST_NH', 'VNST_NJ', 'VNST_NM', 'VNST_NV', 'VNST_NY', 'VNST_OH',\n",
       "       'VNST_OK', 'VNST_OR', 'VNST_PA', 'VNST_SC', 'VNST_TN', 'VNST_TX',\n",
       "       'VNST_UT', 'VNST_VA', 'VNST_WA', 'VNST_WV'], dtype=object)"
      ]
     },
     "execution_count": 135,
     "metadata": {},
     "output_type": "execute_result"
    }
   ],
   "source": [
    "encoder.get_feature_names_out(categorical_cols)"
   ]
  },
  {
   "cell_type": "code",
   "execution_count": 136,
   "metadata": {
    "id": "SlYxTSShDfOi"
   },
   "outputs": [],
   "source": [
    "encoded_cols = encoder.get_feature_names_out(categorical_cols).tolist()"
   ]
  },
  {
   "cell_type": "code",
   "execution_count": 137,
   "metadata": {
    "colab": {
     "base_uri": "https://localhost:8080/"
    },
    "executionInfo": {
     "elapsed": 16,
     "status": "ok",
     "timestamp": 1638373737476,
     "user": {
      "displayName": "Rahul Kumar",
      "photoUrl": "https://lh3.googleusercontent.com/a-/AOh14GjMLooCThM9vWBSGvwf32JMjtszpIkIztj3alUAhMs=s64",
      "userId": "03490918626299573549"
     },
     "user_tz": -330
    },
    "id": "1iVfQqByD9fo",
    "outputId": "d1a986ec-7d0b-4696-c1f7-a50e6d46f79c"
   },
   "outputs": [
    {
     "data": {
      "text/plain": [
       "['Auction_ADESA',\n",
       " 'Auction_MANHEIM',\n",
       " 'Auction_OTHER',\n",
       " 'Color_BEIGE',\n",
       " 'Color_BLACK',\n",
       " 'Color_BLUE',\n",
       " 'Color_BROWN',\n",
       " 'Color_GOLD',\n",
       " 'Color_GREEN',\n",
       " 'Color_GREY',\n",
       " 'Color_MAROON',\n",
       " 'Color_NOT AVAIL',\n",
       " 'Color_ORANGE',\n",
       " 'Color_OTHER',\n",
       " 'Color_PURPLE',\n",
       " 'Color_RED',\n",
       " 'Color_SILVER',\n",
       " 'Color_WHITE',\n",
       " 'Color_YELLOW',\n",
       " 'Color_nan',\n",
       " 'Transmission_AUTO',\n",
       " 'Transmission_MANUAL',\n",
       " 'Transmission_Manual',\n",
       " 'Transmission_nan',\n",
       " 'WheelType_Alloy',\n",
       " 'WheelType_Covers',\n",
       " 'WheelType_Special',\n",
       " 'WheelType_nan',\n",
       " 'Nationality_AMERICAN',\n",
       " 'Nationality_OTHER',\n",
       " 'Nationality_OTHER ASIAN',\n",
       " 'Nationality_TOP LINE ASIAN',\n",
       " 'Nationality_nan',\n",
       " 'Size_COMPACT',\n",
       " 'Size_CROSSOVER',\n",
       " 'Size_LARGE',\n",
       " 'Size_LARGE SUV',\n",
       " 'Size_LARGE TRUCK',\n",
       " 'Size_MEDIUM',\n",
       " 'Size_MEDIUM SUV',\n",
       " 'Size_SMALL SUV',\n",
       " 'Size_SMALL TRUCK',\n",
       " 'Size_SPECIALTY',\n",
       " 'Size_SPORTS',\n",
       " 'Size_VAN',\n",
       " 'Size_nan',\n",
       " 'TopThreeAmericanName_CHRYSLER',\n",
       " 'TopThreeAmericanName_FORD',\n",
       " 'TopThreeAmericanName_GM',\n",
       " 'TopThreeAmericanName_OTHER',\n",
       " 'TopThreeAmericanName_nan',\n",
       " 'VNST_AL',\n",
       " 'VNST_AR',\n",
       " 'VNST_AZ',\n",
       " 'VNST_CA',\n",
       " 'VNST_CO',\n",
       " 'VNST_FL',\n",
       " 'VNST_GA',\n",
       " 'VNST_IA',\n",
       " 'VNST_ID',\n",
       " 'VNST_IL',\n",
       " 'VNST_IN',\n",
       " 'VNST_KY',\n",
       " 'VNST_LA',\n",
       " 'VNST_MA',\n",
       " 'VNST_MD',\n",
       " 'VNST_MI',\n",
       " 'VNST_MN',\n",
       " 'VNST_MO',\n",
       " 'VNST_MS',\n",
       " 'VNST_NC',\n",
       " 'VNST_NE',\n",
       " 'VNST_NH',\n",
       " 'VNST_NJ',\n",
       " 'VNST_NM',\n",
       " 'VNST_NV',\n",
       " 'VNST_NY',\n",
       " 'VNST_OH',\n",
       " 'VNST_OK',\n",
       " 'VNST_OR',\n",
       " 'VNST_PA',\n",
       " 'VNST_SC',\n",
       " 'VNST_TN',\n",
       " 'VNST_TX',\n",
       " 'VNST_UT',\n",
       " 'VNST_VA',\n",
       " 'VNST_WA',\n",
       " 'VNST_WV']"
      ]
     },
     "execution_count": 137,
     "metadata": {},
     "output_type": "execute_result"
    }
   ],
   "source": [
    "encoded_cols"
   ]
  },
  {
   "cell_type": "code",
   "execution_count": 138,
   "metadata": {
    "id": "zUl-yuq8D_Cq"
   },
   "outputs": [],
   "source": [
    "inputs[encoded_cols] = encoder.transform(inputs[categorical_cols])\n",
    "train_df[encoded_cols] = encoder.transform(train_df[categorical_cols])\n",
    "val_df[encoded_cols] = encoder.transform(val_df[categorical_cols])\n",
    "test_split_df[encoded_cols] = encoder.transform(test_split_df[categorical_cols])\n",
    "\n",
    "test_inputs[encoded_cols] = encoder.transform(test_inputs[categorical_cols])"
   ]
  },
  {
   "cell_type": "code",
   "execution_count": 139,
   "metadata": {
    "colab": {
     "base_uri": "https://localhost:8080/"
    },
    "executionInfo": {
     "elapsed": 773,
     "status": "ok",
     "timestamp": 1638373747678,
     "user": {
      "displayName": "Rahul Kumar",
      "photoUrl": "https://lh3.googleusercontent.com/a-/AOh14GjMLooCThM9vWBSGvwf32JMjtszpIkIztj3alUAhMs=s64",
      "userId": "03490918626299573549"
     },
     "user_tz": -330
    },
    "id": "iFRBb5HeEJ6r",
    "outputId": "c48627e9-4201-4c7f-a015-83ee0e208430"
   },
   "outputs": [
    {
     "data": {
      "text/html": [
       "<div>\n",
       "<style scoped>\n",
       "    .dataframe tbody tr th:only-of-type {\n",
       "        vertical-align: middle;\n",
       "    }\n",
       "\n",
       "    .dataframe tbody tr th {\n",
       "        vertical-align: top;\n",
       "    }\n",
       "\n",
       "    .dataframe thead th {\n",
       "        text-align: right;\n",
       "    }\n",
       "</style>\n",
       "<table border=\"1\" class=\"dataframe\">\n",
       "  <thead>\n",
       "    <tr style=\"text-align: right;\">\n",
       "      <th></th>\n",
       "      <th>Auction_ADESA</th>\n",
       "      <th>Auction_MANHEIM</th>\n",
       "      <th>Auction_OTHER</th>\n",
       "      <th>Color_BEIGE</th>\n",
       "      <th>Color_BLACK</th>\n",
       "      <th>Color_BLUE</th>\n",
       "      <th>Color_BROWN</th>\n",
       "      <th>Color_GOLD</th>\n",
       "      <th>Color_GREEN</th>\n",
       "      <th>Color_GREY</th>\n",
       "      <th>...</th>\n",
       "      <th>VNST_OK</th>\n",
       "      <th>VNST_OR</th>\n",
       "      <th>VNST_PA</th>\n",
       "      <th>VNST_SC</th>\n",
       "      <th>VNST_TN</th>\n",
       "      <th>VNST_TX</th>\n",
       "      <th>VNST_UT</th>\n",
       "      <th>VNST_VA</th>\n",
       "      <th>VNST_WA</th>\n",
       "      <th>VNST_WV</th>\n",
       "    </tr>\n",
       "  </thead>\n",
       "  <tbody>\n",
       "    <tr>\n",
       "      <th>0</th>\n",
       "      <td>1.0</td>\n",
       "      <td>0.0</td>\n",
       "      <td>0.0</td>\n",
       "      <td>0.0</td>\n",
       "      <td>0.0</td>\n",
       "      <td>0.0</td>\n",
       "      <td>0.0</td>\n",
       "      <td>0.0</td>\n",
       "      <td>0.0</td>\n",
       "      <td>0.0</td>\n",
       "      <td>...</td>\n",
       "      <td>0.0</td>\n",
       "      <td>0.0</td>\n",
       "      <td>0.0</td>\n",
       "      <td>0.0</td>\n",
       "      <td>0.0</td>\n",
       "      <td>0.0</td>\n",
       "      <td>0.0</td>\n",
       "      <td>0.0</td>\n",
       "      <td>0.0</td>\n",
       "      <td>0.0</td>\n",
       "    </tr>\n",
       "    <tr>\n",
       "      <th>1</th>\n",
       "      <td>1.0</td>\n",
       "      <td>0.0</td>\n",
       "      <td>0.0</td>\n",
       "      <td>0.0</td>\n",
       "      <td>0.0</td>\n",
       "      <td>0.0</td>\n",
       "      <td>0.0</td>\n",
       "      <td>0.0</td>\n",
       "      <td>0.0</td>\n",
       "      <td>0.0</td>\n",
       "      <td>...</td>\n",
       "      <td>0.0</td>\n",
       "      <td>0.0</td>\n",
       "      <td>0.0</td>\n",
       "      <td>0.0</td>\n",
       "      <td>0.0</td>\n",
       "      <td>0.0</td>\n",
       "      <td>0.0</td>\n",
       "      <td>0.0</td>\n",
       "      <td>0.0</td>\n",
       "      <td>0.0</td>\n",
       "    </tr>\n",
       "    <tr>\n",
       "      <th>2</th>\n",
       "      <td>1.0</td>\n",
       "      <td>0.0</td>\n",
       "      <td>0.0</td>\n",
       "      <td>0.0</td>\n",
       "      <td>0.0</td>\n",
       "      <td>0.0</td>\n",
       "      <td>0.0</td>\n",
       "      <td>0.0</td>\n",
       "      <td>0.0</td>\n",
       "      <td>0.0</td>\n",
       "      <td>...</td>\n",
       "      <td>0.0</td>\n",
       "      <td>0.0</td>\n",
       "      <td>0.0</td>\n",
       "      <td>0.0</td>\n",
       "      <td>0.0</td>\n",
       "      <td>0.0</td>\n",
       "      <td>0.0</td>\n",
       "      <td>0.0</td>\n",
       "      <td>0.0</td>\n",
       "      <td>0.0</td>\n",
       "    </tr>\n",
       "    <tr>\n",
       "      <th>3</th>\n",
       "      <td>1.0</td>\n",
       "      <td>0.0</td>\n",
       "      <td>0.0</td>\n",
       "      <td>0.0</td>\n",
       "      <td>0.0</td>\n",
       "      <td>0.0</td>\n",
       "      <td>0.0</td>\n",
       "      <td>0.0</td>\n",
       "      <td>0.0</td>\n",
       "      <td>0.0</td>\n",
       "      <td>...</td>\n",
       "      <td>0.0</td>\n",
       "      <td>0.0</td>\n",
       "      <td>0.0</td>\n",
       "      <td>0.0</td>\n",
       "      <td>0.0</td>\n",
       "      <td>0.0</td>\n",
       "      <td>0.0</td>\n",
       "      <td>0.0</td>\n",
       "      <td>0.0</td>\n",
       "      <td>0.0</td>\n",
       "    </tr>\n",
       "    <tr>\n",
       "      <th>4</th>\n",
       "      <td>1.0</td>\n",
       "      <td>0.0</td>\n",
       "      <td>0.0</td>\n",
       "      <td>0.0</td>\n",
       "      <td>0.0</td>\n",
       "      <td>0.0</td>\n",
       "      <td>0.0</td>\n",
       "      <td>0.0</td>\n",
       "      <td>0.0</td>\n",
       "      <td>0.0</td>\n",
       "      <td>...</td>\n",
       "      <td>0.0</td>\n",
       "      <td>0.0</td>\n",
       "      <td>0.0</td>\n",
       "      <td>0.0</td>\n",
       "      <td>0.0</td>\n",
       "      <td>0.0</td>\n",
       "      <td>0.0</td>\n",
       "      <td>0.0</td>\n",
       "      <td>0.0</td>\n",
       "      <td>0.0</td>\n",
       "    </tr>\n",
       "    <tr>\n",
       "      <th>...</th>\n",
       "      <td>...</td>\n",
       "      <td>...</td>\n",
       "      <td>...</td>\n",
       "      <td>...</td>\n",
       "      <td>...</td>\n",
       "      <td>...</td>\n",
       "      <td>...</td>\n",
       "      <td>...</td>\n",
       "      <td>...</td>\n",
       "      <td>...</td>\n",
       "      <td>...</td>\n",
       "      <td>...</td>\n",
       "      <td>...</td>\n",
       "      <td>...</td>\n",
       "      <td>...</td>\n",
       "      <td>...</td>\n",
       "      <td>...</td>\n",
       "      <td>...</td>\n",
       "      <td>...</td>\n",
       "      <td>...</td>\n",
       "      <td>...</td>\n",
       "    </tr>\n",
       "    <tr>\n",
       "      <th>72978</th>\n",
       "      <td>1.0</td>\n",
       "      <td>0.0</td>\n",
       "      <td>0.0</td>\n",
       "      <td>0.0</td>\n",
       "      <td>1.0</td>\n",
       "      <td>0.0</td>\n",
       "      <td>0.0</td>\n",
       "      <td>0.0</td>\n",
       "      <td>0.0</td>\n",
       "      <td>0.0</td>\n",
       "      <td>...</td>\n",
       "      <td>0.0</td>\n",
       "      <td>0.0</td>\n",
       "      <td>0.0</td>\n",
       "      <td>0.0</td>\n",
       "      <td>0.0</td>\n",
       "      <td>0.0</td>\n",
       "      <td>0.0</td>\n",
       "      <td>0.0</td>\n",
       "      <td>0.0</td>\n",
       "      <td>0.0</td>\n",
       "    </tr>\n",
       "    <tr>\n",
       "      <th>72979</th>\n",
       "      <td>1.0</td>\n",
       "      <td>0.0</td>\n",
       "      <td>0.0</td>\n",
       "      <td>0.0</td>\n",
       "      <td>0.0</td>\n",
       "      <td>0.0</td>\n",
       "      <td>0.0</td>\n",
       "      <td>0.0</td>\n",
       "      <td>0.0</td>\n",
       "      <td>0.0</td>\n",
       "      <td>...</td>\n",
       "      <td>0.0</td>\n",
       "      <td>0.0</td>\n",
       "      <td>0.0</td>\n",
       "      <td>0.0</td>\n",
       "      <td>0.0</td>\n",
       "      <td>0.0</td>\n",
       "      <td>0.0</td>\n",
       "      <td>0.0</td>\n",
       "      <td>0.0</td>\n",
       "      <td>0.0</td>\n",
       "    </tr>\n",
       "    <tr>\n",
       "      <th>72980</th>\n",
       "      <td>1.0</td>\n",
       "      <td>0.0</td>\n",
       "      <td>0.0</td>\n",
       "      <td>0.0</td>\n",
       "      <td>0.0</td>\n",
       "      <td>0.0</td>\n",
       "      <td>0.0</td>\n",
       "      <td>0.0</td>\n",
       "      <td>0.0</td>\n",
       "      <td>0.0</td>\n",
       "      <td>...</td>\n",
       "      <td>0.0</td>\n",
       "      <td>0.0</td>\n",
       "      <td>0.0</td>\n",
       "      <td>0.0</td>\n",
       "      <td>0.0</td>\n",
       "      <td>0.0</td>\n",
       "      <td>0.0</td>\n",
       "      <td>0.0</td>\n",
       "      <td>0.0</td>\n",
       "      <td>0.0</td>\n",
       "    </tr>\n",
       "    <tr>\n",
       "      <th>72981</th>\n",
       "      <td>1.0</td>\n",
       "      <td>0.0</td>\n",
       "      <td>0.0</td>\n",
       "      <td>0.0</td>\n",
       "      <td>0.0</td>\n",
       "      <td>0.0</td>\n",
       "      <td>0.0</td>\n",
       "      <td>0.0</td>\n",
       "      <td>0.0</td>\n",
       "      <td>0.0</td>\n",
       "      <td>...</td>\n",
       "      <td>0.0</td>\n",
       "      <td>0.0</td>\n",
       "      <td>0.0</td>\n",
       "      <td>0.0</td>\n",
       "      <td>0.0</td>\n",
       "      <td>0.0</td>\n",
       "      <td>0.0</td>\n",
       "      <td>0.0</td>\n",
       "      <td>0.0</td>\n",
       "      <td>0.0</td>\n",
       "    </tr>\n",
       "    <tr>\n",
       "      <th>72982</th>\n",
       "      <td>1.0</td>\n",
       "      <td>0.0</td>\n",
       "      <td>0.0</td>\n",
       "      <td>0.0</td>\n",
       "      <td>0.0</td>\n",
       "      <td>0.0</td>\n",
       "      <td>0.0</td>\n",
       "      <td>0.0</td>\n",
       "      <td>0.0</td>\n",
       "      <td>0.0</td>\n",
       "      <td>...</td>\n",
       "      <td>0.0</td>\n",
       "      <td>0.0</td>\n",
       "      <td>0.0</td>\n",
       "      <td>0.0</td>\n",
       "      <td>0.0</td>\n",
       "      <td>0.0</td>\n",
       "      <td>0.0</td>\n",
       "      <td>0.0</td>\n",
       "      <td>0.0</td>\n",
       "      <td>0.0</td>\n",
       "    </tr>\n",
       "  </tbody>\n",
       "</table>\n",
       "<p>72983 rows × 88 columns</p>\n",
       "</div>"
      ],
      "text/plain": [
       "       Auction_ADESA  Auction_MANHEIM  Auction_OTHER  Color_BEIGE  \\\n",
       "0                1.0              0.0            0.0          0.0   \n",
       "1                1.0              0.0            0.0          0.0   \n",
       "2                1.0              0.0            0.0          0.0   \n",
       "3                1.0              0.0            0.0          0.0   \n",
       "4                1.0              0.0            0.0          0.0   \n",
       "...              ...              ...            ...          ...   \n",
       "72978            1.0              0.0            0.0          0.0   \n",
       "72979            1.0              0.0            0.0          0.0   \n",
       "72980            1.0              0.0            0.0          0.0   \n",
       "72981            1.0              0.0            0.0          0.0   \n",
       "72982            1.0              0.0            0.0          0.0   \n",
       "\n",
       "       Color_BLACK  Color_BLUE  Color_BROWN  Color_GOLD  Color_GREEN  \\\n",
       "0              0.0         0.0          0.0         0.0          0.0   \n",
       "1              0.0         0.0          0.0         0.0          0.0   \n",
       "2              0.0         0.0          0.0         0.0          0.0   \n",
       "3              0.0         0.0          0.0         0.0          0.0   \n",
       "4              0.0         0.0          0.0         0.0          0.0   \n",
       "...            ...         ...          ...         ...          ...   \n",
       "72978          1.0         0.0          0.0         0.0          0.0   \n",
       "72979          0.0         0.0          0.0         0.0          0.0   \n",
       "72980          0.0         0.0          0.0         0.0          0.0   \n",
       "72981          0.0         0.0          0.0         0.0          0.0   \n",
       "72982          0.0         0.0          0.0         0.0          0.0   \n",
       "\n",
       "       Color_GREY  ...  VNST_OK  VNST_OR  VNST_PA  VNST_SC  VNST_TN  VNST_TX  \\\n",
       "0             0.0  ...      0.0      0.0      0.0      0.0      0.0      0.0   \n",
       "1             0.0  ...      0.0      0.0      0.0      0.0      0.0      0.0   \n",
       "2             0.0  ...      0.0      0.0      0.0      0.0      0.0      0.0   \n",
       "3             0.0  ...      0.0      0.0      0.0      0.0      0.0      0.0   \n",
       "4             0.0  ...      0.0      0.0      0.0      0.0      0.0      0.0   \n",
       "...           ...  ...      ...      ...      ...      ...      ...      ...   \n",
       "72978         0.0  ...      0.0      0.0      0.0      0.0      0.0      0.0   \n",
       "72979         0.0  ...      0.0      0.0      0.0      0.0      0.0      0.0   \n",
       "72980         0.0  ...      0.0      0.0      0.0      0.0      0.0      0.0   \n",
       "72981         0.0  ...      0.0      0.0      0.0      0.0      0.0      0.0   \n",
       "72982         0.0  ...      0.0      0.0      0.0      0.0      0.0      0.0   \n",
       "\n",
       "       VNST_UT  VNST_VA  VNST_WA  VNST_WV  \n",
       "0          0.0      0.0      0.0      0.0  \n",
       "1          0.0      0.0      0.0      0.0  \n",
       "2          0.0      0.0      0.0      0.0  \n",
       "3          0.0      0.0      0.0      0.0  \n",
       "4          0.0      0.0      0.0      0.0  \n",
       "...        ...      ...      ...      ...  \n",
       "72978      0.0      0.0      0.0      0.0  \n",
       "72979      0.0      0.0      0.0      0.0  \n",
       "72980      0.0      0.0      0.0      0.0  \n",
       "72981      0.0      0.0      0.0      0.0  \n",
       "72982      0.0      0.0      0.0      0.0  \n",
       "\n",
       "[72983 rows x 88 columns]"
      ]
     },
     "execution_count": 139,
     "metadata": {},
     "output_type": "execute_result"
    }
   ],
   "source": [
    "inputs[encoded_cols]"
   ]
  },
  {
   "cell_type": "code",
   "execution_count": 140,
   "metadata": {
    "colab": {
     "base_uri": "https://localhost:8080/"
    },
    "executionInfo": {
     "elapsed": 55,
     "status": "ok",
     "timestamp": 1638373747678,
     "user": {
      "displayName": "Rahul Kumar",
      "photoUrl": "https://lh3.googleusercontent.com/a-/AOh14GjMLooCThM9vWBSGvwf32JMjtszpIkIztj3alUAhMs=s64",
      "userId": "03490918626299573549"
     },
     "user_tz": -330
    },
    "id": "ePAwLUYEb8Q_",
    "outputId": "980f0b75-d807-4431-db7d-ecf59b203d6a"
   },
   "outputs": [
    {
     "data": {
      "text/plain": [
       "55760    0\n",
       "36115    0\n",
       "70549    0\n",
       "15961    0\n",
       "6381     0\n",
       "        ..\n",
       "48925    0\n",
       "49124    0\n",
       "72353    0\n",
       "11602    0\n",
       "28804    0\n",
       "Name: IsBadBuy, Length: 52661, dtype: int64"
      ]
     },
     "execution_count": 140,
     "metadata": {},
     "output_type": "execute_result"
    }
   ],
   "source": [
    "train_df['IsBadBuy']"
   ]
  },
  {
   "cell_type": "code",
   "execution_count": 141,
   "metadata": {
    "id": "AU35NS-CEmha"
   },
   "outputs": [],
   "source": [
    "X = inputs[numeric_cols + encoded_cols]\n",
    "X_test = test_inputs[numeric_cols + encoded_cols]\n",
    "\n",
    "train_inputs = train_df[numeric_cols + encoded_cols]\n",
    "train_targets = train_df[target_col]\n",
    "\n",
    "\n",
    "val_inputs = val_df[numeric_cols + encoded_cols]\n",
    "val_targets = val_df[target_col]\n",
    "\n",
    "test_split_inputs = test_split_df[numeric_cols + encoded_cols]\n",
    "test_split_targets = test_split_df[target_col]"
   ]
  },
  {
   "cell_type": "code",
   "execution_count": 142,
   "metadata": {
    "colab": {
     "base_uri": "https://localhost:8080/"
    },
    "executionInfo": {
     "elapsed": 38,
     "status": "ok",
     "timestamp": 1638373747680,
     "user": {
      "displayName": "Rahul Kumar",
      "photoUrl": "https://lh3.googleusercontent.com/a-/AOh14GjMLooCThM9vWBSGvwf32JMjtszpIkIztj3alUAhMs=s64",
      "userId": "03490918626299573549"
     },
     "user_tz": -330
    },
    "id": "bwT_08MlJEL7",
    "outputId": "9b1128f0-da3e-4cd2-a5d5-f9de822e77af"
   },
   "outputs": [
    {
     "name": "stdout",
     "output_type": "stream",
     "text": [
      "Test_split_inputs: (10291, 107)\n",
      "Test_split_targets: (10291,)\n",
      "Train_inputs: (52661, 107)\n",
      "Train_targets: (52661,)\n",
      "Val_inputs: (10031, 107)\n",
      "Val_targets: (10031,)\n",
      "Inputs: (72983, 119)\n",
      "Targets: (72983,)\n",
      "Test_inputs: (48707, 119)\n"
     ]
    }
   ],
   "source": [
    "print('Test_split_inputs:',test_split_inputs.shape)\n",
    "print('Test_split_targets:',test_split_targets.shape)\n",
    "print('Train_inputs:',train_inputs.shape)\n",
    "print('Train_targets:',train_targets.shape)\n",
    "print('Val_inputs:',val_inputs.shape)\n",
    "print('Val_targets:',val_targets.shape)\n",
    "print('Inputs:',inputs.shape)\n",
    "print('Targets:',targets.shape)\n",
    "print('Test_inputs:',test_inputs.shape)"
   ]
  },
  {
   "cell_type": "markdown",
   "metadata": {},
   "source": [
    "# **Saving Preprocessed Data**"
   ]
  },
  {
   "cell_type": "code",
   "execution_count": 143,
   "metadata": {},
   "outputs": [
    {
     "name": "stdout",
     "output_type": "stream",
     "text": [
      "Test_split_inputs: (10291, 107)\n",
      "Test_split_targets: (10291,)\n",
      "Train_inputs: (52661, 107)\n",
      "Train_targets: (52661,)\n",
      "Val_inputs: (10031, 107)\n",
      "Val_targets: (10031,)\n",
      "Inputs: (72983, 119)\n",
      "Targets: (72983,)\n",
      "Test_inputs: (48707, 119)\n"
     ]
    }
   ],
   "source": [
    "print('Test_split_inputs:',test_split_inputs.shape)\n",
    "print('Test_split_targets:',test_split_targets.shape)\n",
    "print('Train_inputs:',train_inputs.shape)\n",
    "print('Train_targets:',train_targets.shape)\n",
    "print('Val_inputs:',val_inputs.shape)\n",
    "print('Val_targets:',val_targets.shape)\n",
    "print('Inputs:',inputs.shape)\n",
    "print('Targets:',targets.shape)\n",
    "print('Test_inputs:',test_inputs.shape)"
   ]
  },
  {
   "cell_type": "code",
   "execution_count": 144,
   "metadata": {},
   "outputs": [],
   "source": [
    "!pip install pyarrow --quiet"
   ]
  },
  {
   "cell_type": "code",
   "execution_count": 145,
   "metadata": {},
   "outputs": [],
   "source": [
    "import os\n",
    "#dataframes can be stored using parquet format \n",
    "\n",
    "store_dir = './pre_processed_data/' #data will be saved in this directory\n",
    "if not(os.path.isdir(store_dir)):\n",
    "    os.mkdir(store_dir)\n",
    "\n",
    "test_split_inputs.to_parquet(store_dir + 'test_split_inputs.parquet')\n",
    "pd.DataFrame(test_split_targets).to_parquet(store_dir + 'test_split_targets.parquet')\n",
    "\n",
    "train_inputs.to_parquet(store_dir + 'train_inputs.parquet')\n",
    "pd.DataFrame(train_targets).to_parquet(store_dir + 'train_targets.parquet')\n",
    "\n",
    "val_inputs.to_parquet(store_dir + 'val_inputs.parquet')\n",
    "pd.DataFrame(val_targets).to_parquet(store_dir + 'val_targets.parquet')\n",
    "\n",
    "inputs.to_parquet(store_dir + 'inputs.parquet')\n",
    "pd.DataFrame(targets).to_parquet(store_dir + 'targets.parquet')\n",
    "\n",
    "test_inputs.to_parquet(store_dir + 'test_inputs.parquet')"
   ]
  },
  {
   "cell_type": "code",
   "execution_count": 146,
   "metadata": {},
   "outputs": [
    {
     "data": {
      "text/plain": [
       "['car_auction_preprocessor.joblib']"
      ]
     },
     "execution_count": 146,
     "metadata": {},
     "output_type": "execute_result"
    }
   ],
   "source": [
    "import joblib\n",
    "\n",
    "car_auction_preprocessor = {\n",
    "    'imputer': imputer,\n",
    "    'scaler': scaler,\n",
    "    'encoder': encoder,\n",
    "    'input_cols': input_cols,\n",
    "    'target_col': target_col,\n",
    "    'numeric_cols': numeric_cols,\n",
    "    'categorical_cols': categorical_cols,\n",
    "    'encoded_cols': encoded_cols\n",
    "}\n",
    "\n",
    "joblib.dump(car_auction_preprocessor, 'car_auction_preprocessor.joblib')"
   ]
  }
 ],
 "metadata": {
  "colab": {
   "collapsed_sections": [],
   "name": "ml-project.ipynb",
   "provenance": []
  },
  "kernelspec": {
   "display_name": "Python 3.10.0 ('ds')",
   "language": "python",
   "name": "python3"
  },
  "language_info": {
   "codemirror_mode": {
    "name": "ipython",
    "version": 3
   },
   "file_extension": ".py",
   "mimetype": "text/x-python",
   "name": "python",
   "nbconvert_exporter": "python",
   "pygments_lexer": "ipython3",
   "version": "3.10.0"
  },
  "vscode": {
   "interpreter": {
    "hash": "5b76d791cd910d37f18e6a1b5beae78fb71472396c55a0914b74e56c15f53678"
   }
  }
 },
 "nbformat": 4,
 "nbformat_minor": 1
}
